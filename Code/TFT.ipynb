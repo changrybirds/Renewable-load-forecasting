{
 "cells": [
  {
   "cell_type": "code",
   "execution_count": 1,
   "id": "9e9e330f",
   "metadata": {},
   "outputs": [],
   "source": [
    "import copy\n",
    "from pathlib import Path\n",
    "import warnings\n",
    "import os\n",
    "\n",
    "import lightning.pytorch as pl\n",
    "from lightning.pytorch.callbacks import EarlyStopping, LearningRateMonitor\n",
    "from lightning.pytorch.loggers import TensorBoardLogger\n",
    "import numpy as np\n",
    "import pandas as pd\n",
    "import torch\n",
    "import tensorboard as tb\n",
    "\n",
    "from pytorch_forecasting import Baseline, TemporalFusionTransformer, TimeSeriesDataSet\n",
    "from pytorch_forecasting.data import GroupNormalizer\n",
    "from pytorch_forecasting.metrics import MAE, SMAPE, RMSE, QuantileLoss, MultivariateNormalDistributionLoss\n",
    "from pytorch_forecasting.models.temporal_fusion_transformer.tuning import optimize_hyperparameters\n",
    "from pytorch_forecasting.data import TorchNormalizer\n",
    "\n",
    "from dataloader import TimeSeriesLoader"
   ]
  },
  {
   "cell_type": "code",
   "execution_count": 2,
   "id": "73f4f0fb",
   "metadata": {
    "scrolled": true
   },
   "outputs": [
    {
     "name": "stdout",
     "output_type": "stream",
     "text": [
      "0/66\n"
     ]
    }
   ],
   "source": [
    "# suppose the raw dataset is downloaded and unzipped under Open-source-power-dataset\n",
    "# data loaders are iterable\n",
    "loader = TimeSeriesLoader(task='forecasting', root='../PSML')\n",
    "train_loader, test_loader = loader.load(batch_size=32, shuffle=True)"
   ]
  },
  {
   "cell_type": "code",
   "execution_count": 2,
   "id": "f223ae35",
   "metadata": {},
   "outputs": [],
   "source": [
    "device = 'cuda'"
   ]
  },
  {
   "cell_type": "markdown",
   "id": "35c6ac79",
   "metadata": {},
   "source": [
    "# Process\n",
    "\n",
    "1. Shape dataset (from csvs) per instrucitons in `pytorch-forecasting` docs into a `TimeSeriesDataset`\n",
    "2. Batch via DataLoader per tutorial"
   ]
  },
  {
   "cell_type": "code",
   "execution_count": 3,
   "id": "5fae081b",
   "metadata": {},
   "outputs": [],
   "source": [
    "data_original = pd.read_csv('../PSML/Minute-level Load and Renewable/CAISO_zone_1_.csv')"
   ]
  },
  {
   "cell_type": "code",
   "execution_count": 4,
   "id": "5d2e7983",
   "metadata": {},
   "outputs": [
    {
     "data": {
      "text/plain": [
       "(1573923, 12)"
      ]
     },
     "execution_count": 4,
     "metadata": {},
     "output_type": "execute_result"
    }
   ],
   "source": [
    "data_original.shape"
   ]
  },
  {
   "cell_type": "code",
   "execution_count": 5,
   "id": "59879ef8",
   "metadata": {},
   "outputs": [
    {
     "data": {
      "text/html": [
       "<div>\n",
       "<style scoped>\n",
       "    .dataframe tbody tr th:only-of-type {\n",
       "        vertical-align: middle;\n",
       "    }\n",
       "\n",
       "    .dataframe tbody tr th {\n",
       "        vertical-align: top;\n",
       "    }\n",
       "\n",
       "    .dataframe thead th {\n",
       "        text-align: right;\n",
       "    }\n",
       "</style>\n",
       "<table border=\"1\" class=\"dataframe\">\n",
       "  <thead>\n",
       "    <tr style=\"text-align: right;\">\n",
       "      <th></th>\n",
       "      <th>ID</th>\n",
       "      <th>month_day</th>\n",
       "      <th>weekday</th>\n",
       "      <th>holiday</th>\n",
       "      <th>DHI</th>\n",
       "      <th>DNI</th>\n",
       "      <th>GHI</th>\n",
       "      <th>Dew Point</th>\n",
       "      <th>Solar Zenith Angle</th>\n",
       "      <th>Wind Speed</th>\n",
       "      <th>...</th>\n",
       "      <th>yw_t+5(flag)</th>\n",
       "      <th>yw_t+30(val)</th>\n",
       "      <th>yw_t+30(flag)</th>\n",
       "      <th>ys_t</th>\n",
       "      <th>ys_t+5(val)</th>\n",
       "      <th>ys_t+5(flag)</th>\n",
       "      <th>ys_t+30(val)</th>\n",
       "      <th>ys_t+30(flag)</th>\n",
       "      <th>train_flag</th>\n",
       "      <th>constant</th>\n",
       "    </tr>\n",
       "  </thead>\n",
       "  <tbody>\n",
       "    <tr>\n",
       "      <th>0</th>\n",
       "      <td>0</td>\n",
       "      <td>1.032258</td>\n",
       "      <td>0.0</td>\n",
       "      <td>1.0</td>\n",
       "      <td>0.0</td>\n",
       "      <td>0.0</td>\n",
       "      <td>0.0</td>\n",
       "      <td>-7.7</td>\n",
       "      <td>168.880</td>\n",
       "      <td>1.2</td>\n",
       "      <td>...</td>\n",
       "      <td>1.0</td>\n",
       "      <td>0.005297</td>\n",
       "      <td>1.0</td>\n",
       "      <td>0.0</td>\n",
       "      <td>0.0</td>\n",
       "      <td>0.0</td>\n",
       "      <td>0.0</td>\n",
       "      <td>0.0</td>\n",
       "      <td>1.0</td>\n",
       "      <td>filler</td>\n",
       "    </tr>\n",
       "    <tr>\n",
       "      <th>1</th>\n",
       "      <td>1</td>\n",
       "      <td>1.032258</td>\n",
       "      <td>0.0</td>\n",
       "      <td>1.0</td>\n",
       "      <td>0.0</td>\n",
       "      <td>0.0</td>\n",
       "      <td>0.0</td>\n",
       "      <td>-7.7</td>\n",
       "      <td>168.842</td>\n",
       "      <td>1.2</td>\n",
       "      <td>...</td>\n",
       "      <td>1.0</td>\n",
       "      <td>0.005203</td>\n",
       "      <td>1.0</td>\n",
       "      <td>0.0</td>\n",
       "      <td>0.0</td>\n",
       "      <td>0.0</td>\n",
       "      <td>0.0</td>\n",
       "      <td>0.0</td>\n",
       "      <td>1.0</td>\n",
       "      <td>filler</td>\n",
       "    </tr>\n",
       "    <tr>\n",
       "      <th>2</th>\n",
       "      <td>2</td>\n",
       "      <td>1.032258</td>\n",
       "      <td>0.0</td>\n",
       "      <td>1.0</td>\n",
       "      <td>0.0</td>\n",
       "      <td>0.0</td>\n",
       "      <td>0.0</td>\n",
       "      <td>-7.7</td>\n",
       "      <td>168.804</td>\n",
       "      <td>1.2</td>\n",
       "      <td>...</td>\n",
       "      <td>1.0</td>\n",
       "      <td>0.005109</td>\n",
       "      <td>1.0</td>\n",
       "      <td>0.0</td>\n",
       "      <td>0.0</td>\n",
       "      <td>0.0</td>\n",
       "      <td>0.0</td>\n",
       "      <td>0.0</td>\n",
       "      <td>1.0</td>\n",
       "      <td>filler</td>\n",
       "    </tr>\n",
       "    <tr>\n",
       "      <th>3</th>\n",
       "      <td>3</td>\n",
       "      <td>1.032258</td>\n",
       "      <td>0.0</td>\n",
       "      <td>1.0</td>\n",
       "      <td>0.0</td>\n",
       "      <td>0.0</td>\n",
       "      <td>0.0</td>\n",
       "      <td>-7.7</td>\n",
       "      <td>168.766</td>\n",
       "      <td>1.2</td>\n",
       "      <td>...</td>\n",
       "      <td>1.0</td>\n",
       "      <td>0.005015</td>\n",
       "      <td>1.0</td>\n",
       "      <td>0.0</td>\n",
       "      <td>0.0</td>\n",
       "      <td>0.0</td>\n",
       "      <td>0.0</td>\n",
       "      <td>0.0</td>\n",
       "      <td>1.0</td>\n",
       "      <td>filler</td>\n",
       "    </tr>\n",
       "    <tr>\n",
       "      <th>4</th>\n",
       "      <td>4</td>\n",
       "      <td>1.032258</td>\n",
       "      <td>0.0</td>\n",
       "      <td>1.0</td>\n",
       "      <td>0.0</td>\n",
       "      <td>0.0</td>\n",
       "      <td>0.0</td>\n",
       "      <td>-7.7</td>\n",
       "      <td>168.728</td>\n",
       "      <td>1.2</td>\n",
       "      <td>...</td>\n",
       "      <td>1.0</td>\n",
       "      <td>0.004921</td>\n",
       "      <td>1.0</td>\n",
       "      <td>0.0</td>\n",
       "      <td>0.0</td>\n",
       "      <td>0.0</td>\n",
       "      <td>0.0</td>\n",
       "      <td>0.0</td>\n",
       "      <td>1.0</td>\n",
       "      <td>filler</td>\n",
       "    </tr>\n",
       "    <tr>\n",
       "      <th>...</th>\n",
       "      <td>...</td>\n",
       "      <td>...</td>\n",
       "      <td>...</td>\n",
       "      <td>...</td>\n",
       "      <td>...</td>\n",
       "      <td>...</td>\n",
       "      <td>...</td>\n",
       "      <td>...</td>\n",
       "      <td>...</td>\n",
       "      <td>...</td>\n",
       "      <td>...</td>\n",
       "      <td>...</td>\n",
       "      <td>...</td>\n",
       "      <td>...</td>\n",
       "      <td>...</td>\n",
       "      <td>...</td>\n",
       "      <td>...</td>\n",
       "      <td>...</td>\n",
       "      <td>...</td>\n",
       "      <td>...</td>\n",
       "      <td>...</td>\n",
       "    </tr>\n",
       "    <tr>\n",
       "      <th>1573918</th>\n",
       "      <td>1573918</td>\n",
       "      <td>12.967742</td>\n",
       "      <td>2.0</td>\n",
       "      <td>0.0</td>\n",
       "      <td>0.0</td>\n",
       "      <td>0.0</td>\n",
       "      <td>0.0</td>\n",
       "      <td>-7.8</td>\n",
       "      <td>169.010</td>\n",
       "      <td>0.8</td>\n",
       "      <td>...</td>\n",
       "      <td>0.0</td>\n",
       "      <td>-1.000000</td>\n",
       "      <td>0.0</td>\n",
       "      <td>0.0</td>\n",
       "      <td>-1.0</td>\n",
       "      <td>0.0</td>\n",
       "      <td>-1.0</td>\n",
       "      <td>0.0</td>\n",
       "      <td>0.0</td>\n",
       "      <td>filler</td>\n",
       "    </tr>\n",
       "    <tr>\n",
       "      <th>1573919</th>\n",
       "      <td>1573919</td>\n",
       "      <td>12.967742</td>\n",
       "      <td>2.0</td>\n",
       "      <td>0.0</td>\n",
       "      <td>0.0</td>\n",
       "      <td>0.0</td>\n",
       "      <td>0.0</td>\n",
       "      <td>-7.8</td>\n",
       "      <td>168.990</td>\n",
       "      <td>0.8</td>\n",
       "      <td>...</td>\n",
       "      <td>0.0</td>\n",
       "      <td>-1.000000</td>\n",
       "      <td>0.0</td>\n",
       "      <td>0.0</td>\n",
       "      <td>-1.0</td>\n",
       "      <td>0.0</td>\n",
       "      <td>-1.0</td>\n",
       "      <td>0.0</td>\n",
       "      <td>0.0</td>\n",
       "      <td>filler</td>\n",
       "    </tr>\n",
       "    <tr>\n",
       "      <th>1573920</th>\n",
       "      <td>1573920</td>\n",
       "      <td>12.967742</td>\n",
       "      <td>2.0</td>\n",
       "      <td>0.0</td>\n",
       "      <td>0.0</td>\n",
       "      <td>0.0</td>\n",
       "      <td>0.0</td>\n",
       "      <td>-7.8</td>\n",
       "      <td>168.970</td>\n",
       "      <td>0.8</td>\n",
       "      <td>...</td>\n",
       "      <td>0.0</td>\n",
       "      <td>-1.000000</td>\n",
       "      <td>0.0</td>\n",
       "      <td>0.0</td>\n",
       "      <td>-1.0</td>\n",
       "      <td>0.0</td>\n",
       "      <td>-1.0</td>\n",
       "      <td>0.0</td>\n",
       "      <td>0.0</td>\n",
       "      <td>filler</td>\n",
       "    </tr>\n",
       "    <tr>\n",
       "      <th>1573921</th>\n",
       "      <td>1573921</td>\n",
       "      <td>12.967742</td>\n",
       "      <td>2.0</td>\n",
       "      <td>0.0</td>\n",
       "      <td>0.0</td>\n",
       "      <td>0.0</td>\n",
       "      <td>0.0</td>\n",
       "      <td>-7.8</td>\n",
       "      <td>168.950</td>\n",
       "      <td>0.8</td>\n",
       "      <td>...</td>\n",
       "      <td>0.0</td>\n",
       "      <td>-1.000000</td>\n",
       "      <td>0.0</td>\n",
       "      <td>0.0</td>\n",
       "      <td>-1.0</td>\n",
       "      <td>0.0</td>\n",
       "      <td>-1.0</td>\n",
       "      <td>0.0</td>\n",
       "      <td>0.0</td>\n",
       "      <td>filler</td>\n",
       "    </tr>\n",
       "    <tr>\n",
       "      <th>1573922</th>\n",
       "      <td>1573922</td>\n",
       "      <td>13.000000</td>\n",
       "      <td>3.0</td>\n",
       "      <td>0.0</td>\n",
       "      <td>0.0</td>\n",
       "      <td>0.0</td>\n",
       "      <td>0.0</td>\n",
       "      <td>-7.8</td>\n",
       "      <td>168.930</td>\n",
       "      <td>0.8</td>\n",
       "      <td>...</td>\n",
       "      <td>0.0</td>\n",
       "      <td>-1.000000</td>\n",
       "      <td>0.0</td>\n",
       "      <td>0.0</td>\n",
       "      <td>-1.0</td>\n",
       "      <td>0.0</td>\n",
       "      <td>-1.0</td>\n",
       "      <td>0.0</td>\n",
       "      <td>0.0</td>\n",
       "      <td>filler</td>\n",
       "    </tr>\n",
       "  </tbody>\n",
       "</table>\n",
       "<p>1573923 rows × 29 columns</p>\n",
       "</div>"
      ],
      "text/plain": [
       "              ID  month_day weekday holiday  DHI  DNI  GHI  Dew Point   \n",
       "0              0   1.032258     0.0     1.0  0.0  0.0  0.0       -7.7  \\\n",
       "1              1   1.032258     0.0     1.0  0.0  0.0  0.0       -7.7   \n",
       "2              2   1.032258     0.0     1.0  0.0  0.0  0.0       -7.7   \n",
       "3              3   1.032258     0.0     1.0  0.0  0.0  0.0       -7.7   \n",
       "4              4   1.032258     0.0     1.0  0.0  0.0  0.0       -7.7   \n",
       "...          ...        ...     ...     ...  ...  ...  ...        ...   \n",
       "1573918  1573918  12.967742     2.0     0.0  0.0  0.0  0.0       -7.8   \n",
       "1573919  1573919  12.967742     2.0     0.0  0.0  0.0  0.0       -7.8   \n",
       "1573920  1573920  12.967742     2.0     0.0  0.0  0.0  0.0       -7.8   \n",
       "1573921  1573921  12.967742     2.0     0.0  0.0  0.0  0.0       -7.8   \n",
       "1573922  1573922  13.000000     3.0     0.0  0.0  0.0  0.0       -7.8   \n",
       "\n",
       "         Solar Zenith Angle  Wind Speed  ...  yw_t+5(flag)  yw_t+30(val)   \n",
       "0                   168.880         1.2  ...           1.0      0.005297  \\\n",
       "1                   168.842         1.2  ...           1.0      0.005203   \n",
       "2                   168.804         1.2  ...           1.0      0.005109   \n",
       "3                   168.766         1.2  ...           1.0      0.005015   \n",
       "4                   168.728         1.2  ...           1.0      0.004921   \n",
       "...                     ...         ...  ...           ...           ...   \n",
       "1573918             169.010         0.8  ...           0.0     -1.000000   \n",
       "1573919             168.990         0.8  ...           0.0     -1.000000   \n",
       "1573920             168.970         0.8  ...           0.0     -1.000000   \n",
       "1573921             168.950         0.8  ...           0.0     -1.000000   \n",
       "1573922             168.930         0.8  ...           0.0     -1.000000   \n",
       "\n",
       "         yw_t+30(flag)  ys_t  ys_t+5(val)  ys_t+5(flag)  ys_t+30(val)   \n",
       "0                  1.0   0.0          0.0           0.0           0.0  \\\n",
       "1                  1.0   0.0          0.0           0.0           0.0   \n",
       "2                  1.0   0.0          0.0           0.0           0.0   \n",
       "3                  1.0   0.0          0.0           0.0           0.0   \n",
       "4                  1.0   0.0          0.0           0.0           0.0   \n",
       "...                ...   ...          ...           ...           ...   \n",
       "1573918            0.0   0.0         -1.0           0.0          -1.0   \n",
       "1573919            0.0   0.0         -1.0           0.0          -1.0   \n",
       "1573920            0.0   0.0         -1.0           0.0          -1.0   \n",
       "1573921            0.0   0.0         -1.0           0.0          -1.0   \n",
       "1573922            0.0   0.0         -1.0           0.0          -1.0   \n",
       "\n",
       "         ys_t+30(flag)  train_flag  constant  \n",
       "0                  0.0         1.0    filler  \n",
       "1                  0.0         1.0    filler  \n",
       "2                  0.0         1.0    filler  \n",
       "3                  0.0         1.0    filler  \n",
       "4                  0.0         1.0    filler  \n",
       "...                ...         ...       ...  \n",
       "1573918            0.0         0.0    filler  \n",
       "1573919            0.0         0.0    filler  \n",
       "1573920            0.0         0.0    filler  \n",
       "1573921            0.0         0.0    filler  \n",
       "1573922            0.0         0.0    filler  \n",
       "\n",
       "[1573923 rows x 29 columns]"
      ]
     },
     "execution_count": 5,
     "metadata": {},
     "output_type": "execute_result"
    }
   ],
   "source": [
    "root = '../PSML'\n",
    "data_folder = os.path.join(root, 'processed_dataset', 'forecasting')\n",
    "location = 'CAISO_zone_1'\n",
    "years = ['2018', '2019', '2020']\n",
    "\n",
    "data = pd.DataFrame()\n",
    "data_dfs = []\n",
    "\n",
    "for year in years:\n",
    "    data_append = pd.read_csv(os.path.join(data_folder, f'{location}_{year}.csv'))\n",
    "    \n",
    "    # turn holiday into categorical\n",
    "    data_append['holiday'] = pd.Categorical(data_append['holiday'].astype(str))\n",
    "    data_append['weekday'] = pd.Categorical(data_append['weekday'].astype(str))\n",
    "    data_append['constant'] = 'filler'\n",
    "    \n",
    "    data_dfs.append(data_append)\n",
    "    data = pd.concat((data, data_append), ignore_index=True)\n",
    "\n",
    "data_2018 = data_dfs[0]\n",
    "data_2019 = data_dfs[1]\n",
    "data_2020 = data_dfs[2]\n",
    "data['ID'] = data.index\n",
    "data"
   ]
  },
  {
   "cell_type": "code",
   "execution_count": 6,
   "id": "417d8c4f",
   "metadata": {},
   "outputs": [
    {
     "name": "stdout",
     "output_type": "stream",
     "text": [
      "<class 'pandas.core.frame.DataFrame'>\n",
      "RangeIndex: 1573923 entries, 0 to 1573922\n",
      "Data columns (total 29 columns):\n",
      " #   Column              Non-Null Count    Dtype   \n",
      "---  ------              --------------    -----   \n",
      " 0   ID                  1573923 non-null  int64   \n",
      " 1   month_day           1573923 non-null  float64 \n",
      " 2   weekday             1573923 non-null  category\n",
      " 3   holiday             1573923 non-null  category\n",
      " 4   DHI                 1573923 non-null  float64 \n",
      " 5   DNI                 1573923 non-null  float64 \n",
      " 6   GHI                 1573923 non-null  float64 \n",
      " 7   Dew Point           1573923 non-null  float64 \n",
      " 8   Solar Zenith Angle  1573923 non-null  float64 \n",
      " 9   Wind Speed          1573923 non-null  float64 \n",
      " 10  Relative Humidity   1573923 non-null  float64 \n",
      " 11  Temperature         1573923 non-null  float64 \n",
      " 12  yl_t                1573923 non-null  float64 \n",
      " 13  yl_t+60(val)        1573923 non-null  float64 \n",
      " 14  yl_t+60(flag)       1573923 non-null  float64 \n",
      " 15  yl_t+1440(val)      1573923 non-null  float64 \n",
      " 16  yl_t+1440(flag)     1573923 non-null  float64 \n",
      " 17  yw_t                1573923 non-null  float64 \n",
      " 18  yw_t+5(val)         1573923 non-null  float64 \n",
      " 19  yw_t+5(flag)        1573923 non-null  float64 \n",
      " 20  yw_t+30(val)        1573923 non-null  float64 \n",
      " 21  yw_t+30(flag)       1573923 non-null  float64 \n",
      " 22  ys_t                1573923 non-null  float64 \n",
      " 23  ys_t+5(val)         1573923 non-null  float64 \n",
      " 24  ys_t+5(flag)        1573923 non-null  float64 \n",
      " 25  ys_t+30(val)        1573923 non-null  float64 \n",
      " 26  ys_t+30(flag)       1573923 non-null  float64 \n",
      " 27  train_flag          1573923 non-null  float64 \n",
      " 28  constant            1573923 non-null  object  \n",
      "dtypes: category(2), float64(25), int64(1), object(1)\n",
      "memory usage: 327.2+ MB\n"
     ]
    }
   ],
   "source": [
    "data.info()"
   ]
  },
  {
   "cell_type": "markdown",
   "id": "3de5c11b",
   "metadata": {},
   "source": [
    "Pick one of the tasks and train a model based on it. We'll use hourly load prediction."
   ]
  },
  {
   "cell_type": "code",
   "execution_count": 7,
   "id": "e9cc6ac4",
   "metadata": {},
   "outputs": [
    {
     "data": {
      "text/plain": [
       "0          1.0\n",
       "1          1.0\n",
       "2          1.0\n",
       "3          1.0\n",
       "4          1.0\n",
       "          ... \n",
       "1573918    0.0\n",
       "1573919    0.0\n",
       "1573920    0.0\n",
       "1573921    0.0\n",
       "1573922    0.0\n",
       "Name: holiday, Length: 1573923, dtype: category\n",
       "Categories (2, object): ['0.0', '1.0']"
      ]
     },
     "execution_count": 7,
     "metadata": {},
     "output_type": "execute_result"
    }
   ],
   "source": [
    "data['holiday']"
   ]
  },
  {
   "cell_type": "code",
   "execution_count": 8,
   "id": "fbc92e41",
   "metadata": {},
   "outputs": [
    {
     "data": {
      "text/html": [
       "<div>\n",
       "<style scoped>\n",
       "    .dataframe tbody tr th:only-of-type {\n",
       "        vertical-align: middle;\n",
       "    }\n",
       "\n",
       "    .dataframe tbody tr th {\n",
       "        vertical-align: top;\n",
       "    }\n",
       "\n",
       "    .dataframe thead th {\n",
       "        text-align: right;\n",
       "    }\n",
       "</style>\n",
       "<table border=\"1\" class=\"dataframe\">\n",
       "  <thead>\n",
       "    <tr style=\"text-align: right;\">\n",
       "      <th></th>\n",
       "      <th>ID</th>\n",
       "      <th>month_day</th>\n",
       "      <th>weekday</th>\n",
       "      <th>holiday</th>\n",
       "      <th>DHI</th>\n",
       "      <th>DNI</th>\n",
       "      <th>GHI</th>\n",
       "      <th>Dew Point</th>\n",
       "      <th>Solar Zenith Angle</th>\n",
       "      <th>Wind Speed</th>\n",
       "      <th>...</th>\n",
       "      <th>yw_t+5(flag)</th>\n",
       "      <th>yw_t+30(val)</th>\n",
       "      <th>yw_t+30(flag)</th>\n",
       "      <th>ys_t</th>\n",
       "      <th>ys_t+5(val)</th>\n",
       "      <th>ys_t+5(flag)</th>\n",
       "      <th>ys_t+30(val)</th>\n",
       "      <th>ys_t+30(flag)</th>\n",
       "      <th>train_flag</th>\n",
       "      <th>constant</th>\n",
       "    </tr>\n",
       "  </thead>\n",
       "  <tbody>\n",
       "    <tr>\n",
       "      <th>0</th>\n",
       "      <td>0</td>\n",
       "      <td>1.032258</td>\n",
       "      <td>0.0</td>\n",
       "      <td>1.0</td>\n",
       "      <td>0.0</td>\n",
       "      <td>0.0</td>\n",
       "      <td>0.0</td>\n",
       "      <td>-7.7</td>\n",
       "      <td>168.88</td>\n",
       "      <td>1.2</td>\n",
       "      <td>...</td>\n",
       "      <td>1.0</td>\n",
       "      <td>0.005297</td>\n",
       "      <td>1.0</td>\n",
       "      <td>0.0</td>\n",
       "      <td>0.0</td>\n",
       "      <td>0.0</td>\n",
       "      <td>0.0</td>\n",
       "      <td>0.0</td>\n",
       "      <td>1.0</td>\n",
       "      <td>filler</td>\n",
       "    </tr>\n",
       "    <tr>\n",
       "      <th>1</th>\n",
       "      <td>1</td>\n",
       "      <td>1.032258</td>\n",
       "      <td>0.0</td>\n",
       "      <td>1.0</td>\n",
       "      <td>0.0</td>\n",
       "      <td>0.0</td>\n",
       "      <td>0.0</td>\n",
       "      <td>-8.4</td>\n",
       "      <td>161.76</td>\n",
       "      <td>1.2</td>\n",
       "      <td>...</td>\n",
       "      <td>1.0</td>\n",
       "      <td>0.005360</td>\n",
       "      <td>1.0</td>\n",
       "      <td>0.0</td>\n",
       "      <td>0.0</td>\n",
       "      <td>0.0</td>\n",
       "      <td>0.0</td>\n",
       "      <td>0.0</td>\n",
       "      <td>1.0</td>\n",
       "      <td>filler</td>\n",
       "    </tr>\n",
       "    <tr>\n",
       "      <th>2</th>\n",
       "      <td>2</td>\n",
       "      <td>1.032258</td>\n",
       "      <td>0.0</td>\n",
       "      <td>1.0</td>\n",
       "      <td>0.0</td>\n",
       "      <td>0.0</td>\n",
       "      <td>0.0</td>\n",
       "      <td>-9.2</td>\n",
       "      <td>150.28</td>\n",
       "      <td>1.3</td>\n",
       "      <td>...</td>\n",
       "      <td>1.0</td>\n",
       "      <td>0.005413</td>\n",
       "      <td>1.0</td>\n",
       "      <td>0.0</td>\n",
       "      <td>0.0</td>\n",
       "      <td>0.0</td>\n",
       "      <td>0.0</td>\n",
       "      <td>0.0</td>\n",
       "      <td>1.0</td>\n",
       "      <td>filler</td>\n",
       "    </tr>\n",
       "    <tr>\n",
       "      <th>3</th>\n",
       "      <td>3</td>\n",
       "      <td>1.032258</td>\n",
       "      <td>0.0</td>\n",
       "      <td>1.0</td>\n",
       "      <td>0.0</td>\n",
       "      <td>0.0</td>\n",
       "      <td>0.0</td>\n",
       "      <td>-9.9</td>\n",
       "      <td>137.98</td>\n",
       "      <td>1.4</td>\n",
       "      <td>...</td>\n",
       "      <td>1.0</td>\n",
       "      <td>0.006356</td>\n",
       "      <td>1.0</td>\n",
       "      <td>0.0</td>\n",
       "      <td>0.0</td>\n",
       "      <td>0.0</td>\n",
       "      <td>0.0</td>\n",
       "      <td>0.0</td>\n",
       "      <td>1.0</td>\n",
       "      <td>filler</td>\n",
       "    </tr>\n",
       "    <tr>\n",
       "      <th>4</th>\n",
       "      <td>4</td>\n",
       "      <td>1.032258</td>\n",
       "      <td>0.0</td>\n",
       "      <td>1.0</td>\n",
       "      <td>0.0</td>\n",
       "      <td>0.0</td>\n",
       "      <td>0.0</td>\n",
       "      <td>-10.4</td>\n",
       "      <td>125.56</td>\n",
       "      <td>1.5</td>\n",
       "      <td>...</td>\n",
       "      <td>1.0</td>\n",
       "      <td>0.007392</td>\n",
       "      <td>1.0</td>\n",
       "      <td>0.0</td>\n",
       "      <td>0.0</td>\n",
       "      <td>0.0</td>\n",
       "      <td>0.0</td>\n",
       "      <td>0.0</td>\n",
       "      <td>1.0</td>\n",
       "      <td>filler</td>\n",
       "    </tr>\n",
       "    <tr>\n",
       "      <th>...</th>\n",
       "      <td>...</td>\n",
       "      <td>...</td>\n",
       "      <td>...</td>\n",
       "      <td>...</td>\n",
       "      <td>...</td>\n",
       "      <td>...</td>\n",
       "      <td>...</td>\n",
       "      <td>...</td>\n",
       "      <td>...</td>\n",
       "      <td>...</td>\n",
       "      <td>...</td>\n",
       "      <td>...</td>\n",
       "      <td>...</td>\n",
       "      <td>...</td>\n",
       "      <td>...</td>\n",
       "      <td>...</td>\n",
       "      <td>...</td>\n",
       "      <td>...</td>\n",
       "      <td>...</td>\n",
       "      <td>...</td>\n",
       "      <td>...</td>\n",
       "    </tr>\n",
       "    <tr>\n",
       "      <th>8730</th>\n",
       "      <td>8730</td>\n",
       "      <td>12.967742</td>\n",
       "      <td>6.0</td>\n",
       "      <td>0.0</td>\n",
       "      <td>0.0</td>\n",
       "      <td>0.0</td>\n",
       "      <td>0.0</td>\n",
       "      <td>6.5</td>\n",
       "      <td>116.08</td>\n",
       "      <td>1.1</td>\n",
       "      <td>...</td>\n",
       "      <td>1.0</td>\n",
       "      <td>0.005245</td>\n",
       "      <td>1.0</td>\n",
       "      <td>0.0</td>\n",
       "      <td>0.0</td>\n",
       "      <td>0.0</td>\n",
       "      <td>0.0</td>\n",
       "      <td>0.0</td>\n",
       "      <td>0.0</td>\n",
       "      <td>filler</td>\n",
       "    </tr>\n",
       "    <tr>\n",
       "      <th>8731</th>\n",
       "      <td>8731</td>\n",
       "      <td>12.967742</td>\n",
       "      <td>6.0</td>\n",
       "      <td>0.0</td>\n",
       "      <td>0.0</td>\n",
       "      <td>0.0</td>\n",
       "      <td>0.0</td>\n",
       "      <td>7.0</td>\n",
       "      <td>128.39</td>\n",
       "      <td>1.0</td>\n",
       "      <td>...</td>\n",
       "      <td>1.0</td>\n",
       "      <td>0.003749</td>\n",
       "      <td>1.0</td>\n",
       "      <td>0.0</td>\n",
       "      <td>0.0</td>\n",
       "      <td>0.0</td>\n",
       "      <td>0.0</td>\n",
       "      <td>0.0</td>\n",
       "      <td>0.0</td>\n",
       "      <td>filler</td>\n",
       "    </tr>\n",
       "    <tr>\n",
       "      <th>8732</th>\n",
       "      <td>8732</td>\n",
       "      <td>12.967742</td>\n",
       "      <td>6.0</td>\n",
       "      <td>0.0</td>\n",
       "      <td>0.0</td>\n",
       "      <td>0.0</td>\n",
       "      <td>0.0</td>\n",
       "      <td>7.3</td>\n",
       "      <td>140.80</td>\n",
       "      <td>1.4</td>\n",
       "      <td>...</td>\n",
       "      <td>1.0</td>\n",
       "      <td>0.008951</td>\n",
       "      <td>1.0</td>\n",
       "      <td>0.0</td>\n",
       "      <td>0.0</td>\n",
       "      <td>0.0</td>\n",
       "      <td>0.0</td>\n",
       "      <td>0.0</td>\n",
       "      <td>0.0</td>\n",
       "      <td>filler</td>\n",
       "    </tr>\n",
       "    <tr>\n",
       "      <th>8733</th>\n",
       "      <td>8733</td>\n",
       "      <td>12.967742</td>\n",
       "      <td>6.0</td>\n",
       "      <td>0.0</td>\n",
       "      <td>0.0</td>\n",
       "      <td>0.0</td>\n",
       "      <td>0.0</td>\n",
       "      <td>7.1</td>\n",
       "      <td>153.02</td>\n",
       "      <td>1.6</td>\n",
       "      <td>...</td>\n",
       "      <td>1.0</td>\n",
       "      <td>0.010854</td>\n",
       "      <td>1.0</td>\n",
       "      <td>0.0</td>\n",
       "      <td>0.0</td>\n",
       "      <td>0.0</td>\n",
       "      <td>0.0</td>\n",
       "      <td>0.0</td>\n",
       "      <td>0.0</td>\n",
       "      <td>filler</td>\n",
       "    </tr>\n",
       "    <tr>\n",
       "      <th>8734</th>\n",
       "      <td>8734</td>\n",
       "      <td>12.967742</td>\n",
       "      <td>6.0</td>\n",
       "      <td>0.0</td>\n",
       "      <td>0.0</td>\n",
       "      <td>0.0</td>\n",
       "      <td>0.0</td>\n",
       "      <td>7.1</td>\n",
       "      <td>164.07</td>\n",
       "      <td>1.8</td>\n",
       "      <td>...</td>\n",
       "      <td>1.0</td>\n",
       "      <td>0.011934</td>\n",
       "      <td>1.0</td>\n",
       "      <td>0.0</td>\n",
       "      <td>0.0</td>\n",
       "      <td>0.0</td>\n",
       "      <td>0.0</td>\n",
       "      <td>0.0</td>\n",
       "      <td>0.0</td>\n",
       "      <td>filler</td>\n",
       "    </tr>\n",
       "  </tbody>\n",
       "</table>\n",
       "<p>8735 rows × 29 columns</p>\n",
       "</div>"
      ],
      "text/plain": [
       "        ID  month_day weekday holiday  DHI  DNI  GHI  Dew Point   \n",
       "0        0   1.032258     0.0     1.0  0.0  0.0  0.0       -7.7  \\\n",
       "1        1   1.032258     0.0     1.0  0.0  0.0  0.0       -8.4   \n",
       "2        2   1.032258     0.0     1.0  0.0  0.0  0.0       -9.2   \n",
       "3        3   1.032258     0.0     1.0  0.0  0.0  0.0       -9.9   \n",
       "4        4   1.032258     0.0     1.0  0.0  0.0  0.0      -10.4   \n",
       "...    ...        ...     ...     ...  ...  ...  ...        ...   \n",
       "8730  8730  12.967742     6.0     0.0  0.0  0.0  0.0        6.5   \n",
       "8731  8731  12.967742     6.0     0.0  0.0  0.0  0.0        7.0   \n",
       "8732  8732  12.967742     6.0     0.0  0.0  0.0  0.0        7.3   \n",
       "8733  8733  12.967742     6.0     0.0  0.0  0.0  0.0        7.1   \n",
       "8734  8734  12.967742     6.0     0.0  0.0  0.0  0.0        7.1   \n",
       "\n",
       "      Solar Zenith Angle  Wind Speed  ...  yw_t+5(flag)  yw_t+30(val)   \n",
       "0                 168.88         1.2  ...           1.0      0.005297  \\\n",
       "1                 161.76         1.2  ...           1.0      0.005360   \n",
       "2                 150.28         1.3  ...           1.0      0.005413   \n",
       "3                 137.98         1.4  ...           1.0      0.006356   \n",
       "4                 125.56         1.5  ...           1.0      0.007392   \n",
       "...                  ...         ...  ...           ...           ...   \n",
       "8730              116.08         1.1  ...           1.0      0.005245   \n",
       "8731              128.39         1.0  ...           1.0      0.003749   \n",
       "8732              140.80         1.4  ...           1.0      0.008951   \n",
       "8733              153.02         1.6  ...           1.0      0.010854   \n",
       "8734              164.07         1.8  ...           1.0      0.011934   \n",
       "\n",
       "      yw_t+30(flag)  ys_t  ys_t+5(val)  ys_t+5(flag)  ys_t+30(val)   \n",
       "0               1.0   0.0          0.0           0.0           0.0  \\\n",
       "1               1.0   0.0          0.0           0.0           0.0   \n",
       "2               1.0   0.0          0.0           0.0           0.0   \n",
       "3               1.0   0.0          0.0           0.0           0.0   \n",
       "4               1.0   0.0          0.0           0.0           0.0   \n",
       "...             ...   ...          ...           ...           ...   \n",
       "8730            1.0   0.0          0.0           0.0           0.0   \n",
       "8731            1.0   0.0          0.0           0.0           0.0   \n",
       "8732            1.0   0.0          0.0           0.0           0.0   \n",
       "8733            1.0   0.0          0.0           0.0           0.0   \n",
       "8734            1.0   0.0          0.0           0.0           0.0   \n",
       "\n",
       "      ys_t+30(flag)  train_flag  constant  \n",
       "0               0.0         1.0    filler  \n",
       "1               0.0         1.0    filler  \n",
       "2               0.0         1.0    filler  \n",
       "3               0.0         1.0    filler  \n",
       "4               0.0         1.0    filler  \n",
       "...             ...         ...       ...  \n",
       "8730            0.0         0.0    filler  \n",
       "8731            0.0         0.0    filler  \n",
       "8732            0.0         0.0    filler  \n",
       "8733            0.0         0.0    filler  \n",
       "8734            0.0         0.0    filler  \n",
       "\n",
       "[8735 rows x 29 columns]"
      ]
     },
     "execution_count": 8,
     "metadata": {},
     "output_type": "execute_result"
    }
   ],
   "source": [
    "time_col = 'ID'\n",
    "target_y_flag = 'yl_t+60(flag)'\n",
    "target_y = 'yl_t+60(val)'\n",
    "data_yl_t60 = data_2018[data_2018[target_y_flag] == 1].reset_index(drop=True)\n",
    "# data_yl_t60 = data_2018.reset_index(drop=True)\n",
    "data_yl_t60['ID'] = data_yl_t60.index\n",
    "data_yl_t60"
   ]
  },
  {
   "cell_type": "code",
   "execution_count": 9,
   "id": "22cec655",
   "metadata": {},
   "outputs": [
    {
     "name": "stdout",
     "output_type": "stream",
     "text": [
      "training cutoff idx: 6552\n",
      "validation cutoff idx: 8015\n"
     ]
    }
   ],
   "source": [
    "dataset_df = data_yl_t60\n",
    "train_cutoff_idx = dataset_df[dataset_df['month_day'] >= 10][time_col].values[0]\n",
    "val_cutoff_idx = dataset_df[dataset_df['month_day'] >= 12][time_col].values[0]\n",
    "print('training cutoff idx:', train_cutoff_idx)\n",
    "print('validation cutoff idx:', val_cutoff_idx)"
   ]
  },
  {
   "cell_type": "code",
   "execution_count": 10,
   "id": "dbff458a",
   "metadata": {},
   "outputs": [
    {
     "data": {
      "text/html": [
       "<div>\n",
       "<style scoped>\n",
       "    .dataframe tbody tr th:only-of-type {\n",
       "        vertical-align: middle;\n",
       "    }\n",
       "\n",
       "    .dataframe tbody tr th {\n",
       "        vertical-align: top;\n",
       "    }\n",
       "\n",
       "    .dataframe thead th {\n",
       "        text-align: right;\n",
       "    }\n",
       "</style>\n",
       "<table border=\"1\" class=\"dataframe\">\n",
       "  <thead>\n",
       "    <tr style=\"text-align: right;\">\n",
       "      <th></th>\n",
       "      <th>ID</th>\n",
       "      <th>month_day</th>\n",
       "      <th>weekday</th>\n",
       "      <th>holiday</th>\n",
       "      <th>DHI</th>\n",
       "      <th>DNI</th>\n",
       "      <th>GHI</th>\n",
       "      <th>Dew Point</th>\n",
       "      <th>Solar Zenith Angle</th>\n",
       "      <th>Wind Speed</th>\n",
       "      <th>...</th>\n",
       "      <th>yw_t+5(flag)</th>\n",
       "      <th>yw_t+30(val)</th>\n",
       "      <th>yw_t+30(flag)</th>\n",
       "      <th>ys_t</th>\n",
       "      <th>ys_t+5(val)</th>\n",
       "      <th>ys_t+5(flag)</th>\n",
       "      <th>ys_t+30(val)</th>\n",
       "      <th>ys_t+30(flag)</th>\n",
       "      <th>train_flag</th>\n",
       "      <th>constant</th>\n",
       "    </tr>\n",
       "    <tr>\n",
       "      <th>yl_t+60(val)</th>\n",
       "      <th></th>\n",
       "      <th></th>\n",
       "      <th></th>\n",
       "      <th></th>\n",
       "      <th></th>\n",
       "      <th></th>\n",
       "      <th></th>\n",
       "      <th></th>\n",
       "      <th></th>\n",
       "      <th></th>\n",
       "      <th></th>\n",
       "      <th></th>\n",
       "      <th></th>\n",
       "      <th></th>\n",
       "      <th></th>\n",
       "      <th></th>\n",
       "      <th></th>\n",
       "      <th></th>\n",
       "      <th></th>\n",
       "      <th></th>\n",
       "      <th></th>\n",
       "    </tr>\n",
       "  </thead>\n",
       "  <tbody>\n",
       "    <tr>\n",
       "      <th>0.788434</th>\n",
       "      <td>2</td>\n",
       "      <td>2</td>\n",
       "      <td>2</td>\n",
       "      <td>2</td>\n",
       "      <td>2</td>\n",
       "      <td>2</td>\n",
       "      <td>2</td>\n",
       "      <td>2</td>\n",
       "      <td>2</td>\n",
       "      <td>2</td>\n",
       "      <td>...</td>\n",
       "      <td>2</td>\n",
       "      <td>2</td>\n",
       "      <td>2</td>\n",
       "      <td>2</td>\n",
       "      <td>2</td>\n",
       "      <td>2</td>\n",
       "      <td>2</td>\n",
       "      <td>2</td>\n",
       "      <td>2</td>\n",
       "      <td>2</td>\n",
       "    </tr>\n",
       "    <tr>\n",
       "      <th>0.752175</th>\n",
       "      <td>2</td>\n",
       "      <td>2</td>\n",
       "      <td>2</td>\n",
       "      <td>2</td>\n",
       "      <td>2</td>\n",
       "      <td>2</td>\n",
       "      <td>2</td>\n",
       "      <td>2</td>\n",
       "      <td>2</td>\n",
       "      <td>2</td>\n",
       "      <td>...</td>\n",
       "      <td>2</td>\n",
       "      <td>2</td>\n",
       "      <td>2</td>\n",
       "      <td>2</td>\n",
       "      <td>2</td>\n",
       "      <td>2</td>\n",
       "      <td>2</td>\n",
       "      <td>2</td>\n",
       "      <td>2</td>\n",
       "      <td>2</td>\n",
       "    </tr>\n",
       "    <tr>\n",
       "      <th>0.737033</th>\n",
       "      <td>2</td>\n",
       "      <td>2</td>\n",
       "      <td>2</td>\n",
       "      <td>2</td>\n",
       "      <td>2</td>\n",
       "      <td>2</td>\n",
       "      <td>2</td>\n",
       "      <td>2</td>\n",
       "      <td>2</td>\n",
       "      <td>2</td>\n",
       "      <td>...</td>\n",
       "      <td>2</td>\n",
       "      <td>2</td>\n",
       "      <td>2</td>\n",
       "      <td>2</td>\n",
       "      <td>2</td>\n",
       "      <td>2</td>\n",
       "      <td>2</td>\n",
       "      <td>2</td>\n",
       "      <td>2</td>\n",
       "      <td>2</td>\n",
       "    </tr>\n",
       "    <tr>\n",
       "      <th>0.850957</th>\n",
       "      <td>2</td>\n",
       "      <td>2</td>\n",
       "      <td>2</td>\n",
       "      <td>2</td>\n",
       "      <td>2</td>\n",
       "      <td>2</td>\n",
       "      <td>2</td>\n",
       "      <td>2</td>\n",
       "      <td>2</td>\n",
       "      <td>2</td>\n",
       "      <td>...</td>\n",
       "      <td>2</td>\n",
       "      <td>2</td>\n",
       "      <td>2</td>\n",
       "      <td>2</td>\n",
       "      <td>2</td>\n",
       "      <td>2</td>\n",
       "      <td>2</td>\n",
       "      <td>2</td>\n",
       "      <td>2</td>\n",
       "      <td>2</td>\n",
       "    </tr>\n",
       "    <tr>\n",
       "      <th>0.932787</th>\n",
       "      <td>2</td>\n",
       "      <td>2</td>\n",
       "      <td>2</td>\n",
       "      <td>2</td>\n",
       "      <td>2</td>\n",
       "      <td>2</td>\n",
       "      <td>2</td>\n",
       "      <td>2</td>\n",
       "      <td>2</td>\n",
       "      <td>2</td>\n",
       "      <td>...</td>\n",
       "      <td>2</td>\n",
       "      <td>2</td>\n",
       "      <td>2</td>\n",
       "      <td>2</td>\n",
       "      <td>2</td>\n",
       "      <td>2</td>\n",
       "      <td>2</td>\n",
       "      <td>2</td>\n",
       "      <td>2</td>\n",
       "      <td>2</td>\n",
       "    </tr>\n",
       "    <tr>\n",
       "      <th>...</th>\n",
       "      <td>...</td>\n",
       "      <td>...</td>\n",
       "      <td>...</td>\n",
       "      <td>...</td>\n",
       "      <td>...</td>\n",
       "      <td>...</td>\n",
       "      <td>...</td>\n",
       "      <td>...</td>\n",
       "      <td>...</td>\n",
       "      <td>...</td>\n",
       "      <td>...</td>\n",
       "      <td>...</td>\n",
       "      <td>...</td>\n",
       "      <td>...</td>\n",
       "      <td>...</td>\n",
       "      <td>...</td>\n",
       "      <td>...</td>\n",
       "      <td>...</td>\n",
       "      <td>...</td>\n",
       "      <td>...</td>\n",
       "      <td>...</td>\n",
       "    </tr>\n",
       "    <tr>\n",
       "      <th>0.908638</th>\n",
       "      <td>1</td>\n",
       "      <td>1</td>\n",
       "      <td>1</td>\n",
       "      <td>1</td>\n",
       "      <td>1</td>\n",
       "      <td>1</td>\n",
       "      <td>1</td>\n",
       "      <td>1</td>\n",
       "      <td>1</td>\n",
       "      <td>1</td>\n",
       "      <td>...</td>\n",
       "      <td>1</td>\n",
       "      <td>1</td>\n",
       "      <td>1</td>\n",
       "      <td>1</td>\n",
       "      <td>1</td>\n",
       "      <td>1</td>\n",
       "      <td>1</td>\n",
       "      <td>1</td>\n",
       "      <td>1</td>\n",
       "      <td>1</td>\n",
       "    </tr>\n",
       "    <tr>\n",
       "      <th>0.908400</th>\n",
       "      <td>1</td>\n",
       "      <td>1</td>\n",
       "      <td>1</td>\n",
       "      <td>1</td>\n",
       "      <td>1</td>\n",
       "      <td>1</td>\n",
       "      <td>1</td>\n",
       "      <td>1</td>\n",
       "      <td>1</td>\n",
       "      <td>1</td>\n",
       "      <td>...</td>\n",
       "      <td>1</td>\n",
       "      <td>1</td>\n",
       "      <td>1</td>\n",
       "      <td>1</td>\n",
       "      <td>1</td>\n",
       "      <td>1</td>\n",
       "      <td>1</td>\n",
       "      <td>1</td>\n",
       "      <td>1</td>\n",
       "      <td>1</td>\n",
       "    </tr>\n",
       "    <tr>\n",
       "      <th>0.908310</th>\n",
       "      <td>1</td>\n",
       "      <td>1</td>\n",
       "      <td>1</td>\n",
       "      <td>1</td>\n",
       "      <td>1</td>\n",
       "      <td>1</td>\n",
       "      <td>1</td>\n",
       "      <td>1</td>\n",
       "      <td>1</td>\n",
       "      <td>1</td>\n",
       "      <td>...</td>\n",
       "      <td>1</td>\n",
       "      <td>1</td>\n",
       "      <td>1</td>\n",
       "      <td>1</td>\n",
       "      <td>1</td>\n",
       "      <td>1</td>\n",
       "      <td>1</td>\n",
       "      <td>1</td>\n",
       "      <td>1</td>\n",
       "      <td>1</td>\n",
       "    </tr>\n",
       "    <tr>\n",
       "      <th>0.908139</th>\n",
       "      <td>1</td>\n",
       "      <td>1</td>\n",
       "      <td>1</td>\n",
       "      <td>1</td>\n",
       "      <td>1</td>\n",
       "      <td>1</td>\n",
       "      <td>1</td>\n",
       "      <td>1</td>\n",
       "      <td>1</td>\n",
       "      <td>1</td>\n",
       "      <td>...</td>\n",
       "      <td>1</td>\n",
       "      <td>1</td>\n",
       "      <td>1</td>\n",
       "      <td>1</td>\n",
       "      <td>1</td>\n",
       "      <td>1</td>\n",
       "      <td>1</td>\n",
       "      <td>1</td>\n",
       "      <td>1</td>\n",
       "      <td>1</td>\n",
       "    </tr>\n",
       "    <tr>\n",
       "      <th>2.259061</th>\n",
       "      <td>1</td>\n",
       "      <td>1</td>\n",
       "      <td>1</td>\n",
       "      <td>1</td>\n",
       "      <td>1</td>\n",
       "      <td>1</td>\n",
       "      <td>1</td>\n",
       "      <td>1</td>\n",
       "      <td>1</td>\n",
       "      <td>1</td>\n",
       "      <td>...</td>\n",
       "      <td>1</td>\n",
       "      <td>1</td>\n",
       "      <td>1</td>\n",
       "      <td>1</td>\n",
       "      <td>1</td>\n",
       "      <td>1</td>\n",
       "      <td>1</td>\n",
       "      <td>1</td>\n",
       "      <td>1</td>\n",
       "      <td>1</td>\n",
       "    </tr>\n",
       "  </tbody>\n",
       "</table>\n",
       "<p>8692 rows × 28 columns</p>\n",
       "</div>"
      ],
      "text/plain": [
       "              ID  month_day  weekday  holiday  DHI  DNI  GHI  Dew Point   \n",
       "yl_t+60(val)                                                              \n",
       "0.788434       2          2        2        2    2    2    2          2  \\\n",
       "0.752175       2          2        2        2    2    2    2          2   \n",
       "0.737033       2          2        2        2    2    2    2          2   \n",
       "0.850957       2          2        2        2    2    2    2          2   \n",
       "0.932787       2          2        2        2    2    2    2          2   \n",
       "...           ..        ...      ...      ...  ...  ...  ...        ...   \n",
       "0.908638       1          1        1        1    1    1    1          1   \n",
       "0.908400       1          1        1        1    1    1    1          1   \n",
       "0.908310       1          1        1        1    1    1    1          1   \n",
       "0.908139       1          1        1        1    1    1    1          1   \n",
       "2.259061       1          1        1        1    1    1    1          1   \n",
       "\n",
       "              Solar Zenith Angle  Wind Speed  ...  yw_t+5(flag)  yw_t+30(val)   \n",
       "yl_t+60(val)                                  ...                               \n",
       "0.788434                       2           2  ...             2             2  \\\n",
       "0.752175                       2           2  ...             2             2   \n",
       "0.737033                       2           2  ...             2             2   \n",
       "0.850957                       2           2  ...             2             2   \n",
       "0.932787                       2           2  ...             2             2   \n",
       "...                          ...         ...  ...           ...           ...   \n",
       "0.908638                       1           1  ...             1             1   \n",
       "0.908400                       1           1  ...             1             1   \n",
       "0.908310                       1           1  ...             1             1   \n",
       "0.908139                       1           1  ...             1             1   \n",
       "2.259061                       1           1  ...             1             1   \n",
       "\n",
       "              yw_t+30(flag)  ys_t  ys_t+5(val)  ys_t+5(flag)  ys_t+30(val)   \n",
       "yl_t+60(val)                                                                 \n",
       "0.788434                  2     2            2             2             2  \\\n",
       "0.752175                  2     2            2             2             2   \n",
       "0.737033                  2     2            2             2             2   \n",
       "0.850957                  2     2            2             2             2   \n",
       "0.932787                  2     2            2             2             2   \n",
       "...                     ...   ...          ...           ...           ...   \n",
       "0.908638                  1     1            1             1             1   \n",
       "0.908400                  1     1            1             1             1   \n",
       "0.908310                  1     1            1             1             1   \n",
       "0.908139                  1     1            1             1             1   \n",
       "2.259061                  1     1            1             1             1   \n",
       "\n",
       "              ys_t+30(flag)  train_flag  constant  \n",
       "yl_t+60(val)                                       \n",
       "0.788434                  2           2         2  \n",
       "0.752175                  2           2         2  \n",
       "0.737033                  2           2         2  \n",
       "0.850957                  2           2         2  \n",
       "0.932787                  2           2         2  \n",
       "...                     ...         ...       ...  \n",
       "0.908638                  1           1         1  \n",
       "0.908400                  1           1         1  \n",
       "0.908310                  1           1         1  \n",
       "0.908139                  1           1         1  \n",
       "2.259061                  1           1         1  \n",
       "\n",
       "[8692 rows x 28 columns]"
      ]
     },
     "execution_count": 10,
     "metadata": {},
     "output_type": "execute_result"
    }
   ],
   "source": [
    "dataset_df.groupby(target_y).count().sort_values('ID', ascending=False)"
   ]
  },
  {
   "cell_type": "code",
   "execution_count": 11,
   "id": "14109cd3",
   "metadata": {},
   "outputs": [
    {
     "data": {
      "text/html": [
       "<div>\n",
       "<style scoped>\n",
       "    .dataframe tbody tr th:only-of-type {\n",
       "        vertical-align: middle;\n",
       "    }\n",
       "\n",
       "    .dataframe tbody tr th {\n",
       "        vertical-align: top;\n",
       "    }\n",
       "\n",
       "    .dataframe thead th {\n",
       "        text-align: right;\n",
       "    }\n",
       "</style>\n",
       "<table border=\"1\" class=\"dataframe\">\n",
       "  <thead>\n",
       "    <tr style=\"text-align: right;\">\n",
       "      <th></th>\n",
       "      <th>ID</th>\n",
       "      <th>month_day</th>\n",
       "      <th>weekday</th>\n",
       "      <th>holiday</th>\n",
       "      <th>DHI</th>\n",
       "      <th>DNI</th>\n",
       "      <th>GHI</th>\n",
       "      <th>Dew Point</th>\n",
       "      <th>Solar Zenith Angle</th>\n",
       "      <th>Wind Speed</th>\n",
       "      <th>Relative Humidity</th>\n",
       "      <th>Temperature</th>\n",
       "      <th>yl_t</th>\n",
       "      <th>yl_t+60(val)</th>\n",
       "    </tr>\n",
       "  </thead>\n",
       "  <tbody>\n",
       "    <tr>\n",
       "      <th>0</th>\n",
       "      <td>0</td>\n",
       "      <td>1.032258</td>\n",
       "      <td>0.0</td>\n",
       "      <td>1.0</td>\n",
       "      <td>0.0</td>\n",
       "      <td>0.0</td>\n",
       "      <td>0.0</td>\n",
       "      <td>-7.7</td>\n",
       "      <td>168.88</td>\n",
       "      <td>1.2</td>\n",
       "      <td>23.78</td>\n",
       "      <td>12.5</td>\n",
       "      <td>0.785327</td>\n",
       "      <td>0.751928</td>\n",
       "    </tr>\n",
       "    <tr>\n",
       "      <th>1</th>\n",
       "      <td>1</td>\n",
       "      <td>1.032258</td>\n",
       "      <td>0.0</td>\n",
       "      <td>1.0</td>\n",
       "      <td>0.0</td>\n",
       "      <td>0.0</td>\n",
       "      <td>0.0</td>\n",
       "      <td>-8.4</td>\n",
       "      <td>161.76</td>\n",
       "      <td>1.2</td>\n",
       "      <td>22.59</td>\n",
       "      <td>12.4</td>\n",
       "      <td>0.751928</td>\n",
       "      <td>0.726002</td>\n",
       "    </tr>\n",
       "    <tr>\n",
       "      <th>2</th>\n",
       "      <td>2</td>\n",
       "      <td>1.032258</td>\n",
       "      <td>0.0</td>\n",
       "      <td>1.0</td>\n",
       "      <td>0.0</td>\n",
       "      <td>0.0</td>\n",
       "      <td>0.0</td>\n",
       "      <td>-9.2</td>\n",
       "      <td>150.28</td>\n",
       "      <td>1.3</td>\n",
       "      <td>21.91</td>\n",
       "      <td>11.9</td>\n",
       "      <td>0.726002</td>\n",
       "      <td>0.712764</td>\n",
       "    </tr>\n",
       "    <tr>\n",
       "      <th>3</th>\n",
       "      <td>3</td>\n",
       "      <td>1.032258</td>\n",
       "      <td>0.0</td>\n",
       "      <td>1.0</td>\n",
       "      <td>0.0</td>\n",
       "      <td>0.0</td>\n",
       "      <td>0.0</td>\n",
       "      <td>-9.9</td>\n",
       "      <td>137.98</td>\n",
       "      <td>1.4</td>\n",
       "      <td>22.24</td>\n",
       "      <td>10.9</td>\n",
       "      <td>0.712764</td>\n",
       "      <td>0.710416</td>\n",
       "    </tr>\n",
       "    <tr>\n",
       "      <th>4</th>\n",
       "      <td>4</td>\n",
       "      <td>1.032258</td>\n",
       "      <td>0.0</td>\n",
       "      <td>1.0</td>\n",
       "      <td>0.0</td>\n",
       "      <td>0.0</td>\n",
       "      <td>0.0</td>\n",
       "      <td>-10.4</td>\n",
       "      <td>125.56</td>\n",
       "      <td>1.5</td>\n",
       "      <td>22.26</td>\n",
       "      <td>10.3</td>\n",
       "      <td>0.710416</td>\n",
       "      <td>0.729610</td>\n",
       "    </tr>\n",
       "    <tr>\n",
       "      <th>...</th>\n",
       "      <td>...</td>\n",
       "      <td>...</td>\n",
       "      <td>...</td>\n",
       "      <td>...</td>\n",
       "      <td>...</td>\n",
       "      <td>...</td>\n",
       "      <td>...</td>\n",
       "      <td>...</td>\n",
       "      <td>...</td>\n",
       "      <td>...</td>\n",
       "      <td>...</td>\n",
       "      <td>...</td>\n",
       "      <td>...</td>\n",
       "      <td>...</td>\n",
       "    </tr>\n",
       "    <tr>\n",
       "      <th>8730</th>\n",
       "      <td>8730</td>\n",
       "      <td>12.967742</td>\n",
       "      <td>6.0</td>\n",
       "      <td>0.0</td>\n",
       "      <td>0.0</td>\n",
       "      <td>0.0</td>\n",
       "      <td>0.0</td>\n",
       "      <td>6.5</td>\n",
       "      <td>116.08</td>\n",
       "      <td>1.1</td>\n",
       "      <td>98.14</td>\n",
       "      <td>6.8</td>\n",
       "      <td>0.979627</td>\n",
       "      <td>0.962109</td>\n",
       "    </tr>\n",
       "    <tr>\n",
       "      <th>8731</th>\n",
       "      <td>8731</td>\n",
       "      <td>12.967742</td>\n",
       "      <td>6.0</td>\n",
       "      <td>0.0</td>\n",
       "      <td>0.0</td>\n",
       "      <td>0.0</td>\n",
       "      <td>0.0</td>\n",
       "      <td>7.0</td>\n",
       "      <td>128.39</td>\n",
       "      <td>1.0</td>\n",
       "      <td>100.00</td>\n",
       "      <td>7.0</td>\n",
       "      <td>0.962109</td>\n",
       "      <td>0.926617</td>\n",
       "    </tr>\n",
       "    <tr>\n",
       "      <th>8732</th>\n",
       "      <td>8732</td>\n",
       "      <td>12.967742</td>\n",
       "      <td>6.0</td>\n",
       "      <td>0.0</td>\n",
       "      <td>0.0</td>\n",
       "      <td>0.0</td>\n",
       "      <td>0.0</td>\n",
       "      <td>7.3</td>\n",
       "      <td>140.80</td>\n",
       "      <td>1.4</td>\n",
       "      <td>93.98</td>\n",
       "      <td>8.2</td>\n",
       "      <td>0.926617</td>\n",
       "      <td>0.878301</td>\n",
       "    </tr>\n",
       "    <tr>\n",
       "      <th>8733</th>\n",
       "      <td>8733</td>\n",
       "      <td>12.967742</td>\n",
       "      <td>6.0</td>\n",
       "      <td>0.0</td>\n",
       "      <td>0.0</td>\n",
       "      <td>0.0</td>\n",
       "      <td>0.0</td>\n",
       "      <td>7.1</td>\n",
       "      <td>153.02</td>\n",
       "      <td>1.6</td>\n",
       "      <td>91.09</td>\n",
       "      <td>8.5</td>\n",
       "      <td>0.878301</td>\n",
       "      <td>0.820347</td>\n",
       "    </tr>\n",
       "    <tr>\n",
       "      <th>8734</th>\n",
       "      <td>8734</td>\n",
       "      <td>12.967742</td>\n",
       "      <td>6.0</td>\n",
       "      <td>0.0</td>\n",
       "      <td>0.0</td>\n",
       "      <td>0.0</td>\n",
       "      <td>0.0</td>\n",
       "      <td>7.1</td>\n",
       "      <td>164.07</td>\n",
       "      <td>1.8</td>\n",
       "      <td>89.55</td>\n",
       "      <td>8.7</td>\n",
       "      <td>0.820347</td>\n",
       "      <td>0.831991</td>\n",
       "    </tr>\n",
       "  </tbody>\n",
       "</table>\n",
       "<p>8735 rows × 14 columns</p>\n",
       "</div>"
      ],
      "text/plain": [
       "        ID  month_day weekday holiday  DHI  DNI  GHI  Dew Point   \n",
       "0        0   1.032258     0.0     1.0  0.0  0.0  0.0       -7.7  \\\n",
       "1        1   1.032258     0.0     1.0  0.0  0.0  0.0       -8.4   \n",
       "2        2   1.032258     0.0     1.0  0.0  0.0  0.0       -9.2   \n",
       "3        3   1.032258     0.0     1.0  0.0  0.0  0.0       -9.9   \n",
       "4        4   1.032258     0.0     1.0  0.0  0.0  0.0      -10.4   \n",
       "...    ...        ...     ...     ...  ...  ...  ...        ...   \n",
       "8730  8730  12.967742     6.0     0.0  0.0  0.0  0.0        6.5   \n",
       "8731  8731  12.967742     6.0     0.0  0.0  0.0  0.0        7.0   \n",
       "8732  8732  12.967742     6.0     0.0  0.0  0.0  0.0        7.3   \n",
       "8733  8733  12.967742     6.0     0.0  0.0  0.0  0.0        7.1   \n",
       "8734  8734  12.967742     6.0     0.0  0.0  0.0  0.0        7.1   \n",
       "\n",
       "      Solar Zenith Angle  Wind Speed  Relative Humidity  Temperature   \n",
       "0                 168.88         1.2              23.78         12.5  \\\n",
       "1                 161.76         1.2              22.59         12.4   \n",
       "2                 150.28         1.3              21.91         11.9   \n",
       "3                 137.98         1.4              22.24         10.9   \n",
       "4                 125.56         1.5              22.26         10.3   \n",
       "...                  ...         ...                ...          ...   \n",
       "8730              116.08         1.1              98.14          6.8   \n",
       "8731              128.39         1.0             100.00          7.0   \n",
       "8732              140.80         1.4              93.98          8.2   \n",
       "8733              153.02         1.6              91.09          8.5   \n",
       "8734              164.07         1.8              89.55          8.7   \n",
       "\n",
       "          yl_t  yl_t+60(val)  \n",
       "0     0.785327      0.751928  \n",
       "1     0.751928      0.726002  \n",
       "2     0.726002      0.712764  \n",
       "3     0.712764      0.710416  \n",
       "4     0.710416      0.729610  \n",
       "...        ...           ...  \n",
       "8730  0.979627      0.962109  \n",
       "8731  0.962109      0.926617  \n",
       "8732  0.926617      0.878301  \n",
       "8733  0.878301      0.820347  \n",
       "8734  0.820347      0.831991  \n",
       "\n",
       "[8735 rows x 14 columns]"
      ]
     },
     "execution_count": 11,
     "metadata": {},
     "output_type": "execute_result"
    }
   ],
   "source": [
    "dataset_df.iloc[:, :14]"
   ]
  },
  {
   "cell_type": "code",
   "execution_count": 12,
   "id": "c41bbb65",
   "metadata": {},
   "outputs": [],
   "source": [
    "max_prediction_length = 24\n",
    "max_encoder_length = 48\n",
    "training_cutoff = train_cutoff_idx - max_prediction_length\n",
    "\n",
    "training = TimeSeriesDataSet(\n",
    "    dataset_df[lambda x: x[time_col] <= training_cutoff],\n",
    "    time_idx=time_col,\n",
    "    target=target_y,\n",
    "    group_ids=['constant'],\n",
    "    min_encoder_length=max_encoder_length // 2,  # keep encoder length long (as it is in the validation set)\n",
    "    max_encoder_length=max_encoder_length,\n",
    "    min_prediction_length=1,\n",
    "    max_prediction_length=max_prediction_length,\n",
    "    static_categoricals=[],\n",
    "    static_reals=[],\n",
    "    time_varying_known_categoricals=['holiday', 'weekday'],\n",
    "    variable_groups={},  # group of categorical variables can be treated as one variable\n",
    "    time_varying_known_reals=['month_day'],\n",
    "    time_varying_unknown_categoricals=[],\n",
    "    time_varying_unknown_reals=[\n",
    "        'DHI',\n",
    "        'DNI',\n",
    "        'GHI',\n",
    "        'Dew Point',\n",
    "        'Solar Zenith Angle',\n",
    "        'Wind Speed',\n",
    "        'Relative Humidity',\n",
    "        'Temperature',\n",
    "        target_y,\n",
    "    ],\n",
    "#     target_normalizer=TorchNormalizer(\n",
    "#         method='identity', center=True, transformation=None, method_kwargs={}\n",
    "#     ), # https://github.com/jdb78/pytorch-forecasting/issues/1220\n",
    "#     add_relative_time_idx=True,\n",
    "    add_target_scales=True,\n",
    "#     add_encoder_length=True,\n",
    ")\n",
    "\n",
    "# create validation set (predict=True) which means to predict the last max_prediction_length points in time\n",
    "# for each series\n",
    "validation = TimeSeriesDataSet.from_dataset(\n",
    "    training,\n",
    "    dataset_df,\n",
    "    predict=True,\n",
    "    stop_randomization=True,\n",
    "    min_prediction_idx=train_cutoff_idx + 1,\n",
    ")\n",
    "testing = TimeSeriesDataSet.from_dataset(\n",
    "    training,\n",
    "    dataset_df,\n",
    "    predict=True,\n",
    "    stop_randomization=True,\n",
    "    min_prediction_idx=val_cutoff_idx - 1,\n",
    ")\n",
    "\n",
    "# create dataloaders for model\n",
    "batch_size = 128  # set this between 32 to 128\n",
    "train_dataloader = training.to_dataloader(\n",
    "    train=True, batch_size=batch_size, num_workers=0, pin_memory=True, batch_sampler='synchronized')\n",
    "val_dataloader = validation.to_dataloader(\n",
    "    train=False, batch_size=batch_size * 10, num_workers=0, pin_memory=True, batch_sampler='synchronized')\n",
    "test_dataloader = testing.to_dataloader(\n",
    "    train=False, batch_size=batch_size * 10, num_workers=0, pin_memory=True, batch_sampler='synchronized')"
   ]
  },
  {
   "cell_type": "code",
   "execution_count": 13,
   "id": "aa65bc30",
   "metadata": {
    "scrolled": true
   },
   "outputs": [],
   "source": [
    "val_actuals = torch.cat([y[0] for x, y in iter(val_dataloader)]).to(device)\n",
    "test_actuals = torch.cat([y[0] for x, y in iter(test_dataloader)]).to(device)"
   ]
  },
  {
   "cell_type": "code",
   "execution_count": 14,
   "id": "dcc4ede9",
   "metadata": {},
   "outputs": [
    {
     "data": {
      "text/plain": [
       "0"
      ]
     },
     "execution_count": 14,
     "metadata": {},
     "output_type": "execute_result"
    }
   ],
   "source": [
    "val_actuals.get_device()"
   ]
  },
  {
   "cell_type": "code",
   "execution_count": 15,
   "id": "1d96eeee",
   "metadata": {},
   "outputs": [
    {
     "name": "stderr",
     "output_type": "stream",
     "text": [
      "LOCAL_RANK: 0 - CUDA_VISIBLE_DEVICES: [0]\n"
     ]
    },
    {
     "name": "stdout",
     "output_type": "stream",
     "text": [
      "tensor(0.0795, device='cuda:0')\n",
      "tensor(0.0654, device='cuda:0')\n"
     ]
    }
   ],
   "source": [
    "# calculate baseline mean absolute error, i.e. predict next value as the last available value from the history\n",
    "baseline_predictions = Baseline().predict(val_dataloader, trainer_kwargs=dict(accelerator=\"gpu\"))\n",
    "\n",
    "rmse = RMSE().to(device)\n",
    "print(rmse(baseline_predictions, val_actuals))\n",
    "\n",
    "mae = MAE().to(device)\n",
    "print(mae(baseline_predictions, val_actuals))"
   ]
  },
  {
   "cell_type": "markdown",
   "id": "f042867c",
   "metadata": {},
   "source": [
    "### Find optimal learning rate"
   ]
  },
  {
   "cell_type": "markdown",
   "id": "101987fb",
   "metadata": {},
   "source": [
    "1st Optuna study results:\n",
    "\n",
    "```\n",
    "{'gradient_clip_val': 0.07722552005774576, 'hidden_size': 11, 'dropout': 0.2016589910911832, 'hidden_continuous_size': 9, 'attention_head_size': 1, 'learning_rate': 0.027542287033381664}\n",
    "```"
   ]
  },
  {
   "cell_type": "code",
   "execution_count": 16,
   "id": "bdf9a337",
   "metadata": {},
   "outputs": [
    {
     "name": "stderr",
     "output_type": "stream",
     "text": [
      "Global seed set to 42\n"
     ]
    },
    {
     "data": {
      "text/plain": [
       "42"
      ]
     },
     "execution_count": 16,
     "metadata": {},
     "output_type": "execute_result"
    }
   ],
   "source": [
    "pl.seed_everything(42)"
   ]
  },
  {
   "cell_type": "code",
   "execution_count": 172,
   "id": "9b802d09",
   "metadata": {
    "scrolled": true
   },
   "outputs": [
    {
     "name": "stderr",
     "output_type": "stream",
     "text": [
      "Global seed set to 42\n"
     ]
    },
    {
     "name": "stdout",
     "output_type": "stream",
     "text": [
      "Number of parameters in network: 9.6k\n"
     ]
    }
   ],
   "source": [
    "trainer = pl.Trainer(\n",
    "    accelerator=\"gpu\",\n",
    "    # clipping gradients is a hyperparameter and important to prevent divergance\n",
    "    # of the gradient for recurrent neural networks\n",
    "    gradient_clip_val=0.077,\n",
    ")\n",
    "\n",
    "# filled in with HPs from HP tuning\n",
    "tft = TemporalFusionTransformer.from_dataset(\n",
    "    training,\n",
    "    # not meaningful for finding the learning rate but otherwise very important\n",
    "    learning_rate=0.0275,\n",
    "    hidden_size=11,  # most important hyperparameter apart from learning rate\n",
    "    # number of attention heads. Set to up to 4 for large datasets\n",
    "    attention_head_size=1,\n",
    "    dropout=0.12,  # between 0.1 and 0.3 are good values\n",
    "    hidden_continuous_size=1,  # set to <= hidden_size\n",
    "    loss=QuantileLoss(),\n",
    "    optimizer=\"Ranger\",\n",
    "    # reduce learning rate if no improvement in validation loss after x epochs\n",
    "    reduce_on_plateau_patience=1000,\n",
    ")\n",
    "print(f\"Number of parameters in network: {tft.size()/1e3:.1f}k\")"
   ]
  },
  {
   "cell_type": "code",
   "execution_count": 173,
   "id": "b482615c",
   "metadata": {},
   "outputs": [
    {
     "name": "stderr",
     "output_type": "stream",
     "text": [
      "LOCAL_RANK: 0 - CUDA_VISIBLE_DEVICES: [0]\n"
     ]
    },
    {
     "data": {
      "application/vnd.jupyter.widget-view+json": {
       "model_id": "91260bf7e9c240f1af8ffece1392608e",
       "version_major": 2,
       "version_minor": 0
      },
      "text/plain": [
       "Finding best initial lr:   0%|          | 0/100 [00:00<?, ?it/s]"
      ]
     },
     "metadata": {},
     "output_type": "display_data"
    },
    {
     "name": "stderr",
     "output_type": "stream",
     "text": [
      "Learning rate set to 1.8197008586099834e-05\n"
     ]
    },
    {
     "name": "stdout",
     "output_type": "stream",
     "text": [
      "suggested learning rate: 1.8197008586099834e-05\n"
     ]
    },
    {
     "data": {
      "image/png": "[encoded data removed]",
      "text/plain": [
       "<Figure size 640x480 with 1 Axes>"
      ]
     },
     "metadata": {},
     "output_type": "display_data"
    }
   ],
   "source": [
    "# find optimal learning rate\n",
    "from lightning.pytorch.tuner import Tuner\n",
    "\n",
    "# minor precision sacrifice for major performance gains on CUDA-enabled GPU\n",
    "torch.set_float32_matmul_precision('high')\n",
    "\n",
    "res = Tuner(trainer).lr_find(\n",
    "    tft,\n",
    "    train_dataloaders=train_dataloader,\n",
    "    val_dataloaders=val_dataloader,\n",
    "    max_lr=1.0,\n",
    "    min_lr=1e-6,\n",
    ")\n",
    "\n",
    "print(f\"suggested learning rate: {res.suggestion()}\")\n",
    "fig = res.plot(show=True, suggest=True)\n",
    "fig.show()"
   ]
  },
  {
   "cell_type": "code",
   "execution_count": 17,
   "id": "8d33e4fc",
   "metadata": {},
   "outputs": [],
   "source": [
    "optimal_lr = 0.0275"
   ]
  },
  {
   "cell_type": "code",
   "execution_count": 48,
   "id": "1ae984ed",
   "metadata": {},
   "outputs": [
    {
     "name": "stderr",
     "output_type": "stream",
     "text": [
      "GPU available: True (cuda), used: True\n",
      "TPU available: False, using: 0 TPU cores\n",
      "IPU available: False, using: 0 IPUs\n",
      "HPU available: False, using: 0 HPUs\n"
     ]
    },
    {
     "name": "stdout",
     "output_type": "stream",
     "text": [
      "Number of parameters in network: 15.7k\n"
     ]
    }
   ],
   "source": [
    "# configure network and trainer\n",
    "early_stop_callback = EarlyStopping(monitor=\"val_loss\", min_delta=1e-4, patience=10, verbose=False, mode=\"min\")\n",
    "lr_logger = LearningRateMonitor()  # log the learning rate\n",
    "logger = TensorBoardLogger(\"lightning_logs\")  # logging results to a tensorboard\n",
    "\n",
    "trainer = pl.Trainer(\n",
    "#     max_epochs=25,\n",
    "    accelerator=\"gpu\",\n",
    "    enable_model_summary=True,\n",
    "    gradient_clip_val=0.077,\n",
    "    limit_train_batches=50,  # comment in for training, running valiation every 30 batches\n",
    "    # fast_dev_run=True,  # comment in to check that network or dataset has no serious bugs\n",
    "    limit_val_batches=50,\n",
    "    callbacks=[lr_logger, early_stop_callback],\n",
    "    enable_checkpointing=True,\n",
    "    logger=logger,\n",
    ")\n",
    "\n",
    "tft = TemporalFusionTransformer.from_dataset(\n",
    "    training,\n",
    "    learning_rate=optimal_lr,\n",
    "    hidden_size=11,\n",
    "    attention_head_size=1,\n",
    "    dropout=0.2,\n",
    "    hidden_continuous_size=9,\n",
    "    loss=QuantileLoss(),\n",
    "    log_interval=10,  # uncomment for learning rate finder and otherwise, e.g. to 10 for logging every 10 batches\n",
    "    optimizer=\"Ranger\",\n",
    "    reduce_on_plateau_patience=4,\n",
    ")\n",
    "print(f\"Number of parameters in network: {tft.size()/1e3:.1f}k\")"
   ]
  },
  {
   "cell_type": "code",
   "execution_count": 49,
   "id": "52591277",
   "metadata": {
    "scrolled": false
   },
   "outputs": [
    {
     "name": "stderr",
     "output_type": "stream",
     "text": [
      "LOCAL_RANK: 0 - CUDA_VISIBLE_DEVICES: [0]\n",
      "\n",
      "   | Name                               | Type                            | Params\n",
      "----------------------------------------------------------------------------------------\n",
      "0  | loss                               | QuantileLoss                    | 0     \n",
      "1  | logging_metrics                    | ModuleList                      | 0     \n",
      "2  | input_embeddings                   | MultiEmbedding                  | 37    \n",
      "3  | prescalers                         | ModuleDict                      | 234   \n",
      "4  | static_variable_selection          | VariableSelectionNetwork        | 1.6 K \n",
      "5  | encoder_variable_selection         | VariableSelectionNetwork        | 6.5 K \n",
      "6  | decoder_variable_selection         | VariableSelectionNetwork        | 671   \n",
      "7  | static_context_variable_selection  | GatedResidualNetwork            | 550   \n",
      "8  | static_context_initial_hidden_lstm | GatedResidualNetwork            | 550   \n",
      "9  | static_context_initial_cell_lstm   | GatedResidualNetwork            | 550   \n",
      "10 | static_context_enrichment          | GatedResidualNetwork            | 550   \n",
      "11 | lstm_encoder                       | LSTM                            | 1.1 K \n",
      "12 | lstm_decoder                       | LSTM                            | 1.1 K \n",
      "13 | post_lstm_gate_encoder             | GatedLinearUnit                 | 264   \n",
      "14 | post_lstm_add_norm_encoder         | AddNorm                         | 22    \n",
      "15 | static_enrichment                  | GatedResidualNetwork            | 671   \n",
      "16 | multihead_attn                     | InterpretableMultiHeadAttention | 517   \n",
      "17 | post_attn_gate_norm                | GateAddNorm                     | 286   \n",
      "18 | pos_wise_ff                        | GatedResidualNetwork            | 550   \n",
      "19 | pre_output_gate_norm               | GateAddNorm                     | 286   \n",
      "20 | output_layer                       | Linear                          | 84    \n",
      "----------------------------------------------------------------------------------------\n",
      "15.7 K    Trainable params\n",
      "0         Non-trainable params\n",
      "15.7 K    Total params\n",
      "0.063     Total estimated model params size (MB)\n"
     ]
    },
    {
     "data": {
      "application/vnd.jupyter.widget-view+json": {
       "model_id": "",
       "version_major": 2,
       "version_minor": 0
      },
      "text/plain": [
       "Sanity Checking: 0it [00:00, ?it/s]"
      ]
     },
     "metadata": {},
     "output_type": "display_data"
    },
    {
     "data": {
      "application/vnd.jupyter.widget-view+json": {
       "model_id": "0d3268832bc8476ea00564a309a04e80",
       "version_major": 2,
       "version_minor": 0
      },
      "text/plain": [
       "Training: 0it [00:00, ?it/s]"
      ]
     },
     "metadata": {},
     "output_type": "display_data"
    },
    {
     "data": {
      "application/vnd.jupyter.widget-view+json": {
       "model_id": "",
       "version_major": 2,
       "version_minor": 0
      },
      "text/plain": [
       "Validation: 0it [00:00, ?it/s]"
      ]
     },
     "metadata": {},
     "output_type": "display_data"
    },
    {
     "data": {
      "application/vnd.jupyter.widget-view+json": {
       "model_id": "",
       "version_major": 2,
       "version_minor": 0
      },
      "text/plain": [
       "Validation: 0it [00:00, ?it/s]"
      ]
     },
     "metadata": {},
     "output_type": "display_data"
    },
    {
     "data": {
      "application/vnd.jupyter.widget-view+json": {
       "model_id": "",
       "version_major": 2,
       "version_minor": 0
      },
      "text/plain": [
       "Validation: 0it [00:00, ?it/s]"
      ]
     },
     "metadata": {},
     "output_type": "display_data"
    },
    {
     "data": {
      "application/vnd.jupyter.widget-view+json": {
       "model_id": "",
       "version_major": 2,
       "version_minor": 0
      },
      "text/plain": [
       "Validation: 0it [00:00, ?it/s]"
      ]
     },
     "metadata": {},
     "output_type": "display_data"
    },
    {
     "data": {
      "application/vnd.jupyter.widget-view+json": {
       "model_id": "",
       "version_major": 2,
       "version_minor": 0
      },
      "text/plain": [
       "Validation: 0it [00:00, ?it/s]"
      ]
     },
     "metadata": {},
     "output_type": "display_data"
    },
    {
     "data": {
      "application/vnd.jupyter.widget-view+json": {
       "model_id": "",
       "version_major": 2,
       "version_minor": 0
      },
      "text/plain": [
       "Validation: 0it [00:00, ?it/s]"
      ]
     },
     "metadata": {},
     "output_type": "display_data"
    },
    {
     "data": {
      "application/vnd.jupyter.widget-view+json": {
       "model_id": "",
       "version_major": 2,
       "version_minor": 0
      },
      "text/plain": [
       "Validation: 0it [00:00, ?it/s]"
      ]
     },
     "metadata": {},
     "output_type": "display_data"
    },
    {
     "data": {
      "application/vnd.jupyter.widget-view+json": {
       "model_id": "",
       "version_major": 2,
       "version_minor": 0
      },
      "text/plain": [
       "Validation: 0it [00:00, ?it/s]"
      ]
     },
     "metadata": {},
     "output_type": "display_data"
    },
    {
     "data": {
      "application/vnd.jupyter.widget-view+json": {
       "model_id": "",
       "version_major": 2,
       "version_minor": 0
      },
      "text/plain": [
       "Validation: 0it [00:00, ?it/s]"
      ]
     },
     "metadata": {},
     "output_type": "display_data"
    },
    {
     "data": {
      "application/vnd.jupyter.widget-view+json": {
       "model_id": "",
       "version_major": 2,
       "version_minor": 0
      },
      "text/plain": [
       "Validation: 0it [00:00, ?it/s]"
      ]
     },
     "metadata": {},
     "output_type": "display_data"
    },
    {
     "data": {
      "application/vnd.jupyter.widget-view+json": {
       "model_id": "",
       "version_major": 2,
       "version_minor": 0
      },
      "text/plain": [
       "Validation: 0it [00:00, ?it/s]"
      ]
     },
     "metadata": {},
     "output_type": "display_data"
    },
    {
     "data": {
      "application/vnd.jupyter.widget-view+json": {
       "model_id": "",
       "version_major": 2,
       "version_minor": 0
      },
      "text/plain": [
       "Validation: 0it [00:00, ?it/s]"
      ]
     },
     "metadata": {},
     "output_type": "display_data"
    },
    {
     "data": {
      "application/vnd.jupyter.widget-view+json": {
       "model_id": "",
       "version_major": 2,
       "version_minor": 0
      },
      "text/plain": [
       "Validation: 0it [00:00, ?it/s]"
      ]
     },
     "metadata": {},
     "output_type": "display_data"
    },
    {
     "data": {
      "application/vnd.jupyter.widget-view+json": {
       "model_id": "",
       "version_major": 2,
       "version_minor": 0
      },
      "text/plain": [
       "Validation: 0it [00:00, ?it/s]"
      ]
     },
     "metadata": {},
     "output_type": "display_data"
    },
    {
     "data": {
      "application/vnd.jupyter.widget-view+json": {
       "model_id": "",
       "version_major": 2,
       "version_minor": 0
      },
      "text/plain": [
       "Validation: 0it [00:00, ?it/s]"
      ]
     },
     "metadata": {},
     "output_type": "display_data"
    },
    {
     "data": {
      "application/vnd.jupyter.widget-view+json": {
       "model_id": "",
       "version_major": 2,
       "version_minor": 0
      },
      "text/plain": [
       "Validation: 0it [00:00, ?it/s]"
      ]
     },
     "metadata": {},
     "output_type": "display_data"
    },
    {
     "data": {
      "application/vnd.jupyter.widget-view+json": {
       "model_id": "",
       "version_major": 2,
       "version_minor": 0
      },
      "text/plain": [
       "Validation: 0it [00:00, ?it/s]"
      ]
     },
     "metadata": {},
     "output_type": "display_data"
    },
    {
     "data": {
      "application/vnd.jupyter.widget-view+json": {
       "model_id": "",
       "version_major": 2,
       "version_minor": 0
      },
      "text/plain": [
       "Validation: 0it [00:00, ?it/s]"
      ]
     },
     "metadata": {},
     "output_type": "display_data"
    },
    {
     "data": {
      "application/vnd.jupyter.widget-view+json": {
       "model_id": "",
       "version_major": 2,
       "version_minor": 0
      },
      "text/plain": [
       "Validation: 0it [00:00, ?it/s]"
      ]
     },
     "metadata": {},
     "output_type": "display_data"
    },
    {
     "data": {
      "application/vnd.jupyter.widget-view+json": {
       "model_id": "",
       "version_major": 2,
       "version_minor": 0
      },
      "text/plain": [
       "Validation: 0it [00:00, ?it/s]"
      ]
     },
     "metadata": {},
     "output_type": "display_data"
    },
    {
     "data": {
      "application/vnd.jupyter.widget-view+json": {
       "model_id": "",
       "version_major": 2,
       "version_minor": 0
      },
      "text/plain": [
       "Validation: 0it [00:00, ?it/s]"
      ]
     },
     "metadata": {},
     "output_type": "display_data"
    },
    {
     "data": {
      "application/vnd.jupyter.widget-view+json": {
       "model_id": "",
       "version_major": 2,
       "version_minor": 0
      },
      "text/plain": [
       "Validation: 0it [00:00, ?it/s]"
      ]
     },
     "metadata": {},
     "output_type": "display_data"
    },
    {
     "data": {
      "application/vnd.jupyter.widget-view+json": {
       "model_id": "",
       "version_major": 2,
       "version_minor": 0
      },
      "text/plain": [
       "Validation: 0it [00:00, ?it/s]"
      ]
     },
     "metadata": {},
     "output_type": "display_data"
    },
    {
     "data": {
      "application/vnd.jupyter.widget-view+json": {
       "model_id": "",
       "version_major": 2,
       "version_minor": 0
      },
      "text/plain": [
       "Validation: 0it [00:00, ?it/s]"
      ]
     },
     "metadata": {},
     "output_type": "display_data"
    },
    {
     "data": {
      "application/vnd.jupyter.widget-view+json": {
       "model_id": "",
       "version_major": 2,
       "version_minor": 0
      },
      "text/plain": [
       "Validation: 0it [00:00, ?it/s]"
      ]
     },
     "metadata": {},
     "output_type": "display_data"
    },
    {
     "data": {
      "application/vnd.jupyter.widget-view+json": {
       "model_id": "",
       "version_major": 2,
       "version_minor": 0
      },
      "text/plain": [
       "Validation: 0it [00:00, ?it/s]"
      ]
     },
     "metadata": {},
     "output_type": "display_data"
    },
    {
     "data": {
      "application/vnd.jupyter.widget-view+json": {
       "model_id": "",
       "version_major": 2,
       "version_minor": 0
      },
      "text/plain": [
       "Validation: 0it [00:00, ?it/s]"
      ]
     },
     "metadata": {},
     "output_type": "display_data"
    },
    {
     "data": {
      "application/vnd.jupyter.widget-view+json": {
       "model_id": "",
       "version_major": 2,
       "version_minor": 0
      },
      "text/plain": [
       "Validation: 0it [00:00, ?it/s]"
      ]
     },
     "metadata": {},
     "output_type": "display_data"
    },
    {
     "data": {
      "application/vnd.jupyter.widget-view+json": {
       "model_id": "",
       "version_major": 2,
       "version_minor": 0
      },
      "text/plain": [
       "Validation: 0it [00:00, ?it/s]"
      ]
     },
     "metadata": {},
     "output_type": "display_data"
    }
   ],
   "source": [
    "# fit network\n",
    "\n",
    "# minor precision sacrifice for major performance gains on CUDA-enabled GPU\n",
    "torch.set_float32_matmul_precision('high')\n",
    "\n",
    "trainer.fit(\n",
    "    tft,\n",
    "    train_dataloaders=train_dataloader,\n",
    "    val_dataloaders=val_dataloader,\n",
    ")\n"
   ]
  },
  {
   "cell_type": "code",
   "execution_count": 50,
   "id": "0cde8361",
   "metadata": {
    "scrolled": true
   },
   "outputs": [
    {
     "name": "stderr",
     "output_type": "stream",
     "text": [
      "LOCAL_RANK: 0 - CUDA_VISIBLE_DEVICES: [0]\n"
     ]
    },
    {
     "name": "stdout",
     "output_type": "stream",
     "text": [
      "RMSE: tensor(0.0982, device='cuda:0')\n",
      "MAE: tensor(0.0800, device='cuda:0')\n"
     ]
    }
   ],
   "source": [
    "# calculate mean absolute error on validation set\n",
    "val_predictions = tft.predict(val_dataloader, trainer_kwargs=dict(accelerator=\"gpu\"))\n",
    "print('RMSE:', rmse(val_predictions, val_actuals))\n",
    "print('MAE:', mae(val_predictions, val_actuals))"
   ]
  },
  {
   "cell_type": "markdown",
   "id": "3fd29c16",
   "metadata": {},
   "source": [
    "### Hyperparameter tuning"
   ]
  },
  {
   "cell_type": "code",
   "execution_count": 163,
   "id": "255c8223",
   "metadata": {},
   "outputs": [
    {
     "name": "stderr",
     "output_type": "stream",
     "text": [
      "\u001b[32m[I 2023-04-30 16:28:39,485]\u001b[0m A new study created in memory with name: no-name-3103b451-5852-4287-a709-3e1405d40138\u001b[0m\n",
      "LOCAL_RANK: 0 - CUDA_VISIBLE_DEVICES: [0]\n"
     ]
    },
    {
     "data": {
      "application/vnd.jupyter.widget-view+json": {
       "model_id": "c6ecb46987da44bd84bd53a2ad3e79ed",
       "version_major": 2,
       "version_minor": 0
      },
      "text/plain": [
       "Finding best initial lr:   0%|          | 0/100 [00:00<?, ?it/s]"
      ]
     },
     "metadata": {},
     "output_type": "display_data"
    },
    {
     "name": "stderr",
     "output_type": "stream",
     "text": [
      "Learning rate set to 0.006606934480075959\n",
      "\u001b[32m[I 2023-04-30 16:28:42,427]\u001b[0m Using learning rate of 0.0457\u001b[0m\n",
      "LOCAL_RANK: 0 - CUDA_VISIBLE_DEVICES: [0]\n",
      "\u001b[32m[I 2023-04-30 16:29:18,041]\u001b[0m Trial 0 finished with value: 0.06610722094774246 and parameters: {'gradient_clip_val': 0.9263499090725235, 'hidden_size': 14, 'dropout': 0.23140809217227237, 'hidden_continuous_size': 12, 'attention_head_size': 4, 'learning_rate': 0.0457088189614875}. Best is trial 0 with value: 0.06610722094774246.\u001b[0m\n",
      "LOCAL_RANK: 0 - CUDA_VISIBLE_DEVICES: [0]\n"
     ]
    },
    {
     "data": {
      "application/vnd.jupyter.widget-view+json": {
       "model_id": "1e7ccc7bde3d4ace9c19393353adfd4e",
       "version_major": 2,
       "version_minor": 0
      },
      "text/plain": [
       "Finding best initial lr:   0%|          | 0/100 [00:00<?, ?it/s]"
      ]
     },
     "metadata": {},
     "output_type": "display_data"
    },
    {
     "name": "stderr",
     "output_type": "stream",
     "text": [
      "Learning rate set to 0.0016595869074375606\n",
      "\u001b[32m[I 2023-04-30 16:29:20,760]\u001b[0m Using learning rate of 0.00251\u001b[0m\n",
      "LOCAL_RANK: 0 - CUDA_VISIBLE_DEVICES: [0]\n",
      "\u001b[32m[I 2023-04-30 16:29:56,299]\u001b[0m Trial 1 finished with value: 0.05338713526725769 and parameters: {'gradient_clip_val': 0.9613991724358169, 'hidden_size': 15, 'dropout': 0.27807987453815886, 'hidden_continuous_size': 8, 'attention_head_size': 1, 'learning_rate': 0.0025118864315095803}. Best is trial 1 with value: 0.05338713526725769.\u001b[0m\n",
      "LOCAL_RANK: 0 - CUDA_VISIBLE_DEVICES: [0]\n"
     ]
    },
    {
     "data": {
      "application/vnd.jupyter.widget-view+json": {
       "model_id": "8463cd55315842f58d9c68830599bcf7",
       "version_major": 2,
       "version_minor": 0
      },
      "text/plain": [
       "Finding best initial lr:   0%|          | 0/100 [00:00<?, ?it/s]"
      ]
     },
     "metadata": {},
     "output_type": "display_data"
    },
    {
     "name": "stderr",
     "output_type": "stream",
     "text": [
      "Learning rate set to 0.0023988329190194903\n",
      "\u001b[32m[I 2023-04-30 16:29:58,809]\u001b[0m Using learning rate of 0.00263\u001b[0m\n",
      "LOCAL_RANK: 0 - CUDA_VISIBLE_DEVICES: [0]\n",
      "\u001b[32m[I 2023-04-30 16:30:30,458]\u001b[0m Trial 2 finished with value: 0.04669110104441643 and parameters: {'gradient_clip_val': 0.832819975884385, 'hidden_size': 9, 'dropout': 0.19627885984760746, 'hidden_continuous_size': 9, 'attention_head_size': 3, 'learning_rate': 0.0026302679918953817}. Best is trial 2 with value: 0.04669110104441643.\u001b[0m\n",
      "LOCAL_RANK: 0 - CUDA_VISIBLE_DEVICES: [0]\n"
     ]
    },
    {
     "data": {
      "application/vnd.jupyter.widget-view+json": {
       "model_id": "fbad4fc79c1c48648844c2436cc00cd7",
       "version_major": 2,
       "version_minor": 0
      },
      "text/plain": [
       "Finding best initial lr:   0%|          | 0/100 [00:00<?, ?it/s]"
      ]
     },
     "metadata": {},
     "output_type": "display_data"
    },
    {
     "name": "stderr",
     "output_type": "stream",
     "text": [
      "Learning rate set to 0.0041686938347033535\n",
      "\u001b[32m[I 2023-04-30 16:30:33,185]\u001b[0m Using learning rate of 0.00457\u001b[0m\n",
      "LOCAL_RANK: 0 - CUDA_VISIBLE_DEVICES: [0]\n",
      "\u001b[32m[I 2023-04-30 16:31:07,517]\u001b[0m Trial 3 finished with value: 0.1777513027191162 and parameters: {'gradient_clip_val': 0.05107681441924843, 'hidden_size': 17, 'dropout': 0.2333101986212694, 'hidden_continuous_size': 9, 'attention_head_size': 1, 'learning_rate': 0.00457088189614875}. Best is trial 2 with value: 0.04669110104441643.\u001b[0m\n",
      "LOCAL_RANK: 0 - CUDA_VISIBLE_DEVICES: [0]\n"
     ]
    },
    {
     "data": {
      "application/vnd.jupyter.widget-view+json": {
       "model_id": "ab691984200743efad8a9b6f2476641f",
       "version_major": 2,
       "version_minor": 0
      },
      "text/plain": [
       "Finding best initial lr:   0%|          | 0/100 [00:00<?, ?it/s]"
      ]
     },
     "metadata": {},
     "output_type": "display_data"
    },
    {
     "name": "stderr",
     "output_type": "stream",
     "text": [
      "Learning rate set to 0.0025118864315095803\n",
      "\u001b[32m[I 2023-04-30 16:31:10,506]\u001b[0m Using learning rate of 0.00631\u001b[0m\n",
      "LOCAL_RANK: 0 - CUDA_VISIBLE_DEVICES: [0]\n",
      "\u001b[32m[I 2023-04-30 16:31:47,197]\u001b[0m Trial 4 finished with value: 0.07131209224462509 and parameters: {'gradient_clip_val': 0.14066291981364695, 'hidden_size': 91, 'dropout': 0.1562375606158691, 'hidden_continuous_size': 18, 'attention_head_size': 4, 'learning_rate': 0.006309573444801934}. Best is trial 2 with value: 0.04669110104441643.\u001b[0m\n",
      "LOCAL_RANK: 0 - CUDA_VISIBLE_DEVICES: [0]\n"
     ]
    },
    {
     "data": {
      "application/vnd.jupyter.widget-view+json": {
       "model_id": "53ca768b98bb42cc9b5f82a484be2398",
       "version_major": 2,
       "version_minor": 0
      },
      "text/plain": [
       "Finding best initial lr:   0%|          | 0/100 [00:00<?, ?it/s]"
      ]
     },
     "metadata": {},
     "output_type": "display_data"
    },
    {
     "name": "stderr",
     "output_type": "stream",
     "text": [
      "Learning rate set to 0.0016595869074375606\n",
      "\u001b[32m[I 2023-04-30 16:31:50,201]\u001b[0m Using learning rate of 0.00525\u001b[0m\n",
      "LOCAL_RANK: 0 - CUDA_VISIBLE_DEVICES: [0]\n",
      "\u001b[32m[I 2023-04-30 16:32:25,433]\u001b[0m Trial 5 finished with value: 0.06955458968877792 and parameters: {'gradient_clip_val': 0.04213328053616073, 'hidden_size': 46, 'dropout': 0.291295408423604, 'hidden_continuous_size': 8, 'attention_head_size': 4, 'learning_rate': 0.0052480746024977255}. Best is trial 2 with value: 0.04669110104441643.\u001b[0m\n",
      "LOCAL_RANK: 0 - CUDA_VISIBLE_DEVICES: [0]\n"
     ]
    },
    {
     "data": {
      "application/vnd.jupyter.widget-view+json": {
       "model_id": "449fc82526c4479ba64674eb61ae00e0",
       "version_major": 2,
       "version_minor": 0
      },
      "text/plain": [
       "Finding best initial lr:   0%|          | 0/100 [00:00<?, ?it/s]"
      ]
     },
     "metadata": {},
     "output_type": "display_data"
    },
    {
     "name": "stderr",
     "output_type": "stream",
     "text": [
      "Learning rate set to 0.00208929613085404\n",
      "\u001b[32m[I 2023-04-30 16:32:28,277]\u001b[0m Using learning rate of 0.00219\u001b[0m\n",
      "LOCAL_RANK: 0 - CUDA_VISIBLE_DEVICES: [0]\n",
      "\u001b[32m[I 2023-04-30 16:33:03,512]\u001b[0m Trial 6 finished with value: 0.052832189947366714 and parameters: {'gradient_clip_val': 0.06753009000437803, 'hidden_size': 43, 'dropout': 0.15096396541341928, 'hidden_continuous_size': 11, 'attention_head_size': 4, 'learning_rate': 0.0021877616239495525}. Best is trial 2 with value: 0.04669110104441643.\u001b[0m\n",
      "LOCAL_RANK: 0 - CUDA_VISIBLE_DEVICES: [0]\n"
     ]
    },
    {
     "data": {
      "application/vnd.jupyter.widget-view+json": {
       "model_id": "5b2a85bc77f446f7bcaea54161380f43",
       "version_major": 2,
       "version_minor": 0
      },
      "text/plain": [
       "Finding best initial lr:   0%|          | 0/100 [00:00<?, ?it/s]"
      ]
     },
     "metadata": {},
     "output_type": "display_data"
    },
    {
     "name": "stderr",
     "output_type": "stream",
     "text": [
      "Learning rate set to 0.00208929613085404\n",
      "\u001b[32m[I 2023-04-30 16:33:06,319]\u001b[0m Using learning rate of 0.012\u001b[0m\n",
      "LOCAL_RANK: 0 - CUDA_VISIBLE_DEVICES: [0]\n",
      "\u001b[32m[I 2023-04-30 16:33:40,395]\u001b[0m Trial 7 finished with value: 0.07213123142719269 and parameters: {'gradient_clip_val': 0.02741235619906133, 'hidden_size': 104, 'dropout': 0.16711348058920067, 'hidden_continuous_size': 43, 'attention_head_size': 3, 'learning_rate': 0.012022644346174132}. Best is trial 2 with value: 0.04669110104441643.\u001b[0m\n",
      "LOCAL_RANK: 0 - CUDA_VISIBLE_DEVICES: [0]\n"
     ]
    },
    {
     "data": {
      "application/vnd.jupyter.widget-view+json": {
       "model_id": "874c0c1f3a144831b4b33e0bc56906a8",
       "version_major": 2,
       "version_minor": 0
      },
      "text/plain": [
       "Finding best initial lr:   0%|          | 0/100 [00:00<?, ?it/s]"
      ]
     },
     "metadata": {},
     "output_type": "display_data"
    },
    {
     "name": "stderr",
     "output_type": "stream",
     "text": [
      "Learning rate set to 0.0016595869074375606\n",
      "\u001b[32m[I 2023-04-30 16:33:43,097]\u001b[0m Using learning rate of 0.00191\u001b[0m\n",
      "LOCAL_RANK: 0 - CUDA_VISIBLE_DEVICES: [0]\n",
      "\u001b[32m[I 2023-04-30 16:34:17,117]\u001b[0m Trial 8 finished with value: 0.04836345836520195 and parameters: {'gradient_clip_val': 0.013477113053739756, 'hidden_size': 62, 'dropout': 0.14550085272367033, 'hidden_continuous_size': 53, 'attention_head_size': 1, 'learning_rate': 0.0019054607179632473}. Best is trial 2 with value: 0.04669110104441643.\u001b[0m\n",
      "LOCAL_RANK: 0 - CUDA_VISIBLE_DEVICES: [0]\n"
     ]
    },
    {
     "data": {
      "application/vnd.jupyter.widget-view+json": {
       "model_id": "4f5b6003dd134df5bb1ede6ebb5e7bea",
       "version_major": 2,
       "version_minor": 0
      },
      "text/plain": [
       "Finding best initial lr:   0%|          | 0/100 [00:00<?, ?it/s]"
      ]
     },
     "metadata": {},
     "output_type": "display_data"
    },
    {
     "name": "stderr",
     "output_type": "stream",
     "text": [
      "Learning rate set to 0.0016595869074375606\n",
      "\u001b[32m[I 2023-04-30 16:34:19,878]\u001b[0m Using learning rate of 0.0302\u001b[0m\n",
      "LOCAL_RANK: 0 - CUDA_VISIBLE_DEVICES: [0]\n",
      "\u001b[32m[I 2023-04-30 16:34:53,239]\u001b[0m Trial 9 finished with value: 0.08566153049468994 and parameters: {'gradient_clip_val': 0.052844721407648336, 'hidden_size': 18, 'dropout': 0.27010508291872903, 'hidden_continuous_size': 16, 'attention_head_size': 2, 'learning_rate': 0.03019951720402016}. Best is trial 2 with value: 0.04669110104441643.\u001b[0m\n",
      "LOCAL_RANK: 0 - CUDA_VISIBLE_DEVICES: [0]\n"
     ]
    },
    {
     "data": {
      "application/vnd.jupyter.widget-view+json": {
       "model_id": "ee2f9406c4604225a1fbcb6e5480ed37",
       "version_major": 2,
       "version_minor": 0
      },
      "text/plain": [
       "Finding best initial lr:   0%|          | 0/100 [00:00<?, ?it/s]"
      ]
     },
     "metadata": {},
     "output_type": "display_data"
    },
    {
     "name": "stderr",
     "output_type": "stream",
     "text": [
      "Learning rate set to 0.0021877616239495525\n",
      "\u001b[32m[I 2023-04-30 16:34:55,727]\u001b[0m Using learning rate of 0.0302\u001b[0m\n",
      "LOCAL_RANK: 0 - CUDA_VISIBLE_DEVICES: [0]\n",
      "\u001b[32m[I 2023-04-30 16:35:26,850]\u001b[0m Trial 10 finished with value: 0.04596388339996338 and parameters: {'gradient_clip_val': 0.29299206524736726, 'hidden_size': 8, 'dropout': 0.10973746079643913, 'hidden_continuous_size': 8, 'attention_head_size': 3, 'learning_rate': 0.03019951720402016}. Best is trial 10 with value: 0.04596388339996338.\u001b[0m\n",
      "LOCAL_RANK: 0 - CUDA_VISIBLE_DEVICES: [0]\n"
     ]
    },
    {
     "data": {
      "application/vnd.jupyter.widget-view+json": {
       "model_id": "fdcc5ddfca4b48049a03f2fdf332fb0d",
       "version_major": 2,
       "version_minor": 0
      },
      "text/plain": [
       "Finding best initial lr:   0%|          | 0/100 [00:00<?, ?it/s]"
      ]
     },
     "metadata": {},
     "output_type": "display_data"
    },
    {
     "name": "stderr",
     "output_type": "stream",
     "text": [
      "Learning rate set to 0.0033113112148259113\n",
      "\u001b[32m[I 2023-04-30 16:35:29,308]\u001b[0m Using learning rate of 0.00724\u001b[0m\n",
      "LOCAL_RANK: 0 - CUDA_VISIBLE_DEVICES: [0]\n",
      "\u001b[32m[I 2023-04-30 16:36:00,396]\u001b[0m Trial 11 finished with value: 0.08082509785890579 and parameters: {'gradient_clip_val': 0.31885452264914554, 'hidden_size': 8, 'dropout': 0.10208498695856488, 'hidden_continuous_size': 8, 'attention_head_size': 3, 'learning_rate': 0.007244359600749901}. Best is trial 10 with value: 0.04596388339996338.\u001b[0m\n",
      "LOCAL_RANK: 0 - CUDA_VISIBLE_DEVICES: [0]\n"
     ]
    },
    {
     "data": {
      "application/vnd.jupyter.widget-view+json": {
       "model_id": "3c3dbc385a854ac68685fe67d9c76201",
       "version_major": 2,
       "version_minor": 0
      },
      "text/plain": [
       "Finding best initial lr:   0%|          | 0/100 [00:00<?, ?it/s]"
      ]
     },
     "metadata": {},
     "output_type": "display_data"
    },
    {
     "name": "stderr",
     "output_type": "stream",
     "text": [
      "Learning rate set to 0.0021877616239495525\n",
      "\u001b[32m[I 2023-04-30 16:36:02,838]\u001b[0m Using learning rate of 0.00479\u001b[0m\n",
      "LOCAL_RANK: 0 - CUDA_VISIBLE_DEVICES: [0]\n",
      "\u001b[32m[I 2023-04-30 16:36:33,215]\u001b[0m Trial 12 finished with value: 0.07991781830787659 and parameters: {'gradient_clip_val': 0.3733500050238647, 'hidden_size': 8, 'dropout': 0.1017046307033647, 'hidden_continuous_size': 8, 'attention_head_size': 3, 'learning_rate': 0.0047863009232263845}. Best is trial 10 with value: 0.04596388339996338.\u001b[0m\n",
      "LOCAL_RANK: 0 - CUDA_VISIBLE_DEVICES: [0]\n"
     ]
    },
    {
     "data": {
      "application/vnd.jupyter.widget-view+json": {
       "model_id": "80d31a30308e4b439d6a09c61fca0e4a",
       "version_major": 2,
       "version_minor": 0
      },
      "text/plain": [
       "Finding best initial lr:   0%|          | 0/100 [00:00<?, ?it/s]"
      ]
     },
     "metadata": {},
     "output_type": "display_data"
    },
    {
     "name": "stderr",
     "output_type": "stream",
     "text": [
      "Learning rate set to 0.0016595869074375606\n",
      "\u001b[32m[I 2023-04-30 16:36:35,615]\u001b[0m Using learning rate of 0.0038\u001b[0m\n",
      "LOCAL_RANK: 0 - CUDA_VISIBLE_DEVICES: [0]\n",
      "\u001b[32m[I 2023-04-30 16:37:06,735]\u001b[0m Trial 13 finished with value: 0.04533453285694122 and parameters: {'gradient_clip_val': 0.4063827155011876, 'hidden_size': 8, 'dropout': 0.1985285128111792, 'hidden_continuous_size': 8, 'attention_head_size': 2, 'learning_rate': 0.0038018939632056114}. Best is trial 13 with value: 0.04533453285694122.\u001b[0m\n",
      "LOCAL_RANK: 0 - CUDA_VISIBLE_DEVICES: [0]\n"
     ]
    },
    {
     "data": {
      "application/vnd.jupyter.widget-view+json": {
       "model_id": "2bfc791ab5214206bf432336dbca7788",
       "version_major": 2,
       "version_minor": 0
      },
      "text/plain": [
       "Finding best initial lr:   0%|          | 0/100 [00:00<?, ?it/s]"
      ]
     },
     "metadata": {},
     "output_type": "display_data"
    },
    {
     "name": "stderr",
     "output_type": "stream",
     "text": [
      "Learning rate set to 0.0022908676527677732\n",
      "\u001b[32m[I 2023-04-30 16:37:09,470]\u001b[0m Using learning rate of 0.0229\u001b[0m\n",
      "LOCAL_RANK: 0 - CUDA_VISIBLE_DEVICES: [0]\n",
      "\u001b[32m[I 2023-04-30 16:37:44,069]\u001b[0m Trial 14 finished with value: 0.05484146252274513 and parameters: {'gradient_clip_val': 0.20720400912525447, 'hidden_size': 28, 'dropout': 0.12303759152915406, 'hidden_continuous_size': 10, 'attention_head_size': 2, 'learning_rate': 0.022908676527677734}. Best is trial 13 with value: 0.04533453285694122.\u001b[0m\n",
      "LOCAL_RANK: 0 - CUDA_VISIBLE_DEVICES: [0]\n"
     ]
    },
    {
     "data": {
      "application/vnd.jupyter.widget-view+json": {
       "model_id": "5fa1b4c23b44484b94342be0838cafbe",
       "version_major": 2,
       "version_minor": 0
      },
      "text/plain": [
       "Finding best initial lr:   0%|          | 0/100 [00:00<?, ?it/s]"
      ]
     },
     "metadata": {},
     "output_type": "display_data"
    },
    {
     "name": "stderr",
     "output_type": "stream",
     "text": [
      "Learning rate set to 0.002884031503126606\n",
      "\u001b[32m[I 2023-04-30 16:37:46,774]\u001b[0m Using learning rate of 0.00479\u001b[0m\n",
      "LOCAL_RANK: 0 - CUDA_VISIBLE_DEVICES: [0]\n",
      "\u001b[32m[I 2023-04-30 16:38:21,416]\u001b[0m Trial 15 finished with value: 0.03844233229756355 and parameters: {'gradient_clip_val': 0.12301808227912008, 'hidden_size': 11, 'dropout': 0.18906956749652698, 'hidden_continuous_size': 8, 'attention_head_size': 2, 'learning_rate': 0.0047863009232263845}. Best is trial 15 with value: 0.03844233229756355.\u001b[0m\n",
      "LOCAL_RANK: 0 - CUDA_VISIBLE_DEVICES: [0]\n"
     ]
    },
    {
     "data": {
      "application/vnd.jupyter.widget-view+json": {
       "model_id": "9d2eeb96f26947c4b8150a4112429dbf",
       "version_major": 2,
       "version_minor": 0
      },
      "text/plain": [
       "Finding best initial lr:   0%|          | 0/100 [00:00<?, ?it/s]"
      ]
     },
     "metadata": {},
     "output_type": "display_data"
    },
    {
     "name": "stderr",
     "output_type": "stream",
     "text": [
      "Learning rate set to 0.0016595869074375606\n",
      "\u001b[32m[I 2023-04-30 16:38:24,103]\u001b[0m Using learning rate of 0.00398\u001b[0m\n",
      "LOCAL_RANK: 0 - CUDA_VISIBLE_DEVICES: [0]\n",
      "\u001b[32m[I 2023-04-30 16:38:58,336]\u001b[0m Trial 16 finished with value: 0.0740065798163414 and parameters: {'gradient_clip_val': 0.11429688438696423, 'hidden_size': 12, 'dropout': 0.18840729973802847, 'hidden_continuous_size': 8, 'attention_head_size': 2, 'learning_rate': 0.0039810717055349725}. Best is trial 15 with value: 0.03844233229756355.\u001b[0m\n",
      "LOCAL_RANK: 0 - CUDA_VISIBLE_DEVICES: [0]\n"
     ]
    },
    {
     "data": {
      "application/vnd.jupyter.widget-view+json": {
       "model_id": "67d3be7f4df044889f2e41c55ae002ee",
       "version_major": 2,
       "version_minor": 0
      },
      "text/plain": [
       "Finding best initial lr:   0%|          | 0/100 [00:00<?, ?it/s]"
      ]
     },
     "metadata": {},
     "output_type": "display_data"
    },
    {
     "name": "stderr",
     "output_type": "stream",
     "text": [
      "Learning rate set to 0.0023988329190194903\n",
      "\u001b[32m[I 2023-04-30 16:39:01,031]\u001b[0m Using learning rate of 0.00251\u001b[0m\n",
      "LOCAL_RANK: 0 - CUDA_VISIBLE_DEVICES: [0]\n",
      "\u001b[32m[I 2023-04-30 16:39:34,221]\u001b[0m Trial 17 finished with value: 0.08665639162063599 and parameters: {'gradient_clip_val': 0.1710736413768495, 'hidden_size': 23, 'dropout': 0.21715437106233418, 'hidden_continuous_size': 10, 'attention_head_size': 2, 'learning_rate': 0.0025118864315095803}. Best is trial 15 with value: 0.03844233229756355.\u001b[0m\n",
      "LOCAL_RANK: 0 - CUDA_VISIBLE_DEVICES: [0]\n"
     ]
    },
    {
     "data": {
      "application/vnd.jupyter.widget-view+json": {
       "model_id": "4e4e14ea9b83461aaeab6f584fa85321",
       "version_major": 2,
       "version_minor": 0
      },
      "text/plain": [
       "Finding best initial lr:   0%|          | 0/100 [00:00<?, ?it/s]"
      ]
     },
     "metadata": {},
     "output_type": "display_data"
    },
    {
     "name": "stderr",
     "output_type": "stream",
     "text": [
      "Learning rate set to 0.0034673685045253167\n",
      "\u001b[32m[I 2023-04-30 16:39:36,903]\u001b[0m Using learning rate of 0.0603\u001b[0m\n",
      "LOCAL_RANK: 0 - CUDA_VISIBLE_DEVICES: [0]\n",
      "\u001b[32m[I 2023-04-30 16:40:10,856]\u001b[0m Trial 18 finished with value: 0.056296456605196 and parameters: {'gradient_clip_val': 0.08148729753862388, 'hidden_size': 12, 'dropout': 0.17920930923207615, 'hidden_continuous_size': 9, 'attention_head_size': 2, 'learning_rate': 0.06025595860743578}. Best is trial 15 with value: 0.03844233229756355.\u001b[0m\n",
      "LOCAL_RANK: 0 - CUDA_VISIBLE_DEVICES: [0]\n"
     ]
    },
    {
     "data": {
      "application/vnd.jupyter.widget-view+json": {
       "model_id": "48914326d01142aabb3e6617b17c7ae0",
       "version_major": 2,
       "version_minor": 0
      },
      "text/plain": [
       "Finding best initial lr:   0%|          | 0/100 [00:00<?, ?it/s]"
      ]
     },
     "metadata": {},
     "output_type": "display_data"
    },
    {
     "name": "stderr",
     "output_type": "stream",
     "text": [
      "Learning rate set to 0.0019054607179632473\n",
      "\u001b[32m[I 2023-04-30 16:40:13,525]\u001b[0m Using learning rate of 0.00229\u001b[0m\n",
      "LOCAL_RANK: 0 - CUDA_VISIBLE_DEVICES: [0]\n",
      "\u001b[32m[I 2023-04-30 16:40:46,459]\u001b[0m Trial 19 finished with value: 0.06744997948408127 and parameters: {'gradient_clip_val': 0.45714359729350057, 'hidden_size': 11, 'dropout': 0.20741815015823298, 'hidden_continuous_size': 8, 'attention_head_size': 1, 'learning_rate': 0.0022908676527677732}. Best is trial 15 with value: 0.03844233229756355.\u001b[0m\n",
      "LOCAL_RANK: 0 - CUDA_VISIBLE_DEVICES: [0]\n"
     ]
    },
    {
     "data": {
      "application/vnd.jupyter.widget-view+json": {
       "model_id": "3b8ff40d5b38489aaf36c57ffa5ca44b",
       "version_major": 2,
       "version_minor": 0
      },
      "text/plain": [
       "Finding best initial lr:   0%|          | 0/100 [00:00<?, ?it/s]"
      ]
     },
     "metadata": {},
     "output_type": "display_data"
    },
    {
     "name": "stderr",
     "output_type": "stream",
     "text": [
      "Learning rate set to 0.002884031503126606\n",
      "\u001b[32m[I 2023-04-30 16:40:49,150]\u001b[0m Using learning rate of 0.00724\u001b[0m\n",
      "LOCAL_RANK: 0 - CUDA_VISIBLE_DEVICES: [0]\n",
      "\u001b[32m[I 2023-04-30 16:41:23,465]\u001b[0m Trial 20 finished with value: 0.03486982360482216 and parameters: {'gradient_clip_val': 0.10865846582547616, 'hidden_size': 22, 'dropout': 0.1779190060896126, 'hidden_continuous_size': 10, 'attention_head_size': 2, 'learning_rate': 0.007244359600749901}. Best is trial 20 with value: 0.03486982360482216.\u001b[0m\n",
      "LOCAL_RANK: 0 - CUDA_VISIBLE_DEVICES: [0]\n"
     ]
    },
    {
     "data": {
      "application/vnd.jupyter.widget-view+json": {
       "model_id": "c39f6738dcce465cb75dd346c18e0905",
       "version_major": 2,
       "version_minor": 0
      },
      "text/plain": [
       "Finding best initial lr:   0%|          | 0/100 [00:00<?, ?it/s]"
      ]
     },
     "metadata": {},
     "output_type": "display_data"
    },
    {
     "name": "stderr",
     "output_type": "stream",
     "text": [
      "Learning rate set to 0.0019952623149688794\n",
      "\u001b[32m[I 2023-04-30 16:41:26,173]\u001b[0m Using learning rate of 0.00316\u001b[0m\n",
      "LOCAL_RANK: 0 - CUDA_VISIBLE_DEVICES: [0]\n",
      "\u001b[32m[I 2023-04-30 16:41:59,489]\u001b[0m Trial 21 finished with value: 0.067261703312397 and parameters: {'gradient_clip_val': 0.09765809425944758, 'hidden_size': 22, 'dropout': 0.1822330740628271, 'hidden_continuous_size': 9, 'attention_head_size': 2, 'learning_rate': 0.0031622776601683794}. Best is trial 20 with value: 0.03486982360482216.\u001b[0m\n",
      "LOCAL_RANK: 0 - CUDA_VISIBLE_DEVICES: [0]\n"
     ]
    },
    {
     "data": {
      "application/vnd.jupyter.widget-view+json": {
       "model_id": "a9b813a37eb44df4bf816ee330edf1ec",
       "version_major": 2,
       "version_minor": 0
      },
      "text/plain": [
       "Finding best initial lr:   0%|          | 0/100 [00:00<?, ?it/s]"
      ]
     },
     "metadata": {},
     "output_type": "display_data"
    },
    {
     "name": "stderr",
     "output_type": "stream",
     "text": [
      "Learning rate set to 0.0026302679918953817\n",
      "\u001b[32m[I 2023-04-30 16:42:02,176]\u001b[0m Using learning rate of 0.0575\u001b[0m\n",
      "LOCAL_RANK: 0 - CUDA_VISIBLE_DEVICES: [0]\n",
      "\u001b[32m[I 2023-04-30 16:42:36,207]\u001b[0m Trial 22 finished with value: 0.05807569995522499 and parameters: {'gradient_clip_val': 0.20468666237580885, 'hidden_size': 10, 'dropout': 0.17073606237146585, 'hidden_continuous_size': 8, 'attention_head_size': 2, 'learning_rate': 0.057543993733715694}. Best is trial 20 with value: 0.03486982360482216.\u001b[0m\n",
      "LOCAL_RANK: 0 - CUDA_VISIBLE_DEVICES: [0]\n"
     ]
    },
    {
     "data": {
      "application/vnd.jupyter.widget-view+json": {
       "model_id": "87c6894d123d4af492091dcbf923ca7f",
       "version_major": 2,
       "version_minor": 0
      },
      "text/plain": [
       "Finding best initial lr:   0%|          | 0/100 [00:00<?, ?it/s]"
      ]
     },
     "metadata": {},
     "output_type": "display_data"
    },
    {
     "name": "stderr",
     "output_type": "stream",
     "text": [
      "Learning rate set to 0.0018197008586099835\n",
      "\u001b[32m[I 2023-04-30 16:42:38,909]\u001b[0m Using learning rate of 0.00631\u001b[0m\n",
      "LOCAL_RANK: 0 - CUDA_VISIBLE_DEVICES: [0]\n",
      "\u001b[32m[I 2023-04-30 16:43:13,086]\u001b[0m Trial 23 finished with value: 0.07894361019134521 and parameters: {'gradient_clip_val': 0.13403780301617998, 'hidden_size': 13, 'dropout': 0.19691658060360406, 'hidden_continuous_size': 9, 'attention_head_size': 2, 'learning_rate': 0.006309573444801934}. Best is trial 20 with value: 0.03486982360482216.\u001b[0m\n",
      "LOCAL_RANK: 0 - CUDA_VISIBLE_DEVICES: [0]\n"
     ]
    },
    {
     "data": {
      "application/vnd.jupyter.widget-view+json": {
       "model_id": "79d769a65b98424c8c635983b0f81397",
       "version_major": 2,
       "version_minor": 0
      },
      "text/plain": [
       "Finding best initial lr:   0%|          | 0/100 [00:00<?, ?it/s]"
      ]
     },
     "metadata": {},
     "output_type": "display_data"
    },
    {
     "name": "stderr",
     "output_type": "stream",
     "text": [
      "Learning rate set to 0.0016595869074375606\n",
      "\u001b[32m[I 2023-04-30 16:43:15,708]\u001b[0m Using learning rate of 0.00417\u001b[0m\n",
      "LOCAL_RANK: 0 - CUDA_VISIBLE_DEVICES: [0]\n",
      "\u001b[32m[I 2023-04-30 16:43:48,058]\u001b[0m Trial 24 finished with value: 0.07560228556394577 and parameters: {'gradient_clip_val': 0.5323150152741648, 'hidden_size': 10, 'dropout': 0.2075572897424109, 'hidden_continuous_size': 8, 'attention_head_size': 1, 'learning_rate': 0.0041686938347033535}. Best is trial 20 with value: 0.03486982360482216.\u001b[0m\n",
      "LOCAL_RANK: 0 - CUDA_VISIBLE_DEVICES: [0]\n"
     ]
    },
    {
     "data": {
      "application/vnd.jupyter.widget-view+json": {
       "model_id": "2516da1ca4c647f781c51b3479b63831",
       "version_major": 2,
       "version_minor": 0
      },
      "text/plain": [
       "Finding best initial lr:   0%|          | 0/100 [00:00<?, ?it/s]"
      ]
     },
     "metadata": {},
     "output_type": "display_data"
    },
    {
     "name": "stderr",
     "output_type": "stream",
     "text": [
      "Learning rate set to 0.0019952623149688794\n",
      "\u001b[32m[I 2023-04-30 16:43:50,725]\u001b[0m Using learning rate of 0.011\u001b[0m\n",
      "LOCAL_RANK: 0 - CUDA_VISIBLE_DEVICES: [0]\n",
      "\u001b[32m[I 2023-04-30 16:44:24,563]\u001b[0m Trial 25 finished with value: 0.0657014474272728 and parameters: {'gradient_clip_val': 0.22048615853143055, 'hidden_size': 17, 'dropout': 0.13952091545293238, 'hidden_continuous_size': 10, 'attention_head_size': 2, 'learning_rate': 0.010964781961431852}. Best is trial 20 with value: 0.03486982360482216.\u001b[0m\n",
      "LOCAL_RANK: 0 - CUDA_VISIBLE_DEVICES: [0]\n"
     ]
    },
    {
     "data": {
      "application/vnd.jupyter.widget-view+json": {
       "model_id": "fe02934bad904252814d74f5e3713bc8",
       "version_major": 2,
       "version_minor": 0
      },
      "text/plain": [
       "Finding best initial lr:   0%|          | 0/100 [00:00<?, ?it/s]"
      ]
     },
     "metadata": {},
     "output_type": "display_data"
    },
    {
     "name": "stderr",
     "output_type": "stream",
     "text": [
      "Learning rate set to 0.0019952623149688794\n",
      "\u001b[32m[I 2023-04-30 16:44:27,275]\u001b[0m Using learning rate of 0.00166\u001b[0m\n",
      "LOCAL_RANK: 0 - CUDA_VISIBLE_DEVICES: [0]\n",
      "\u001b[32m[I 2023-04-30 16:45:00,972]\u001b[0m Trial 26 finished with value: 0.06514181941747665 and parameters: {'gradient_clip_val': 0.10718437820784195, 'hidden_size': 10, 'dropout': 0.17013130182767386, 'hidden_continuous_size': 8, 'attention_head_size': 3, 'learning_rate': 0.0016595869074375606}. Best is trial 20 with value: 0.03486982360482216.\u001b[0m\n",
      "LOCAL_RANK: 0 - CUDA_VISIBLE_DEVICES: [0]\n"
     ]
    },
    {
     "data": {
      "application/vnd.jupyter.widget-view+json": {
       "model_id": "2dd72f02806d4fe6b08d7da28b4a579b",
       "version_major": 2,
       "version_minor": 0
      },
      "text/plain": [
       "Finding best initial lr:   0%|          | 0/100 [00:00<?, ?it/s]"
      ]
     },
     "metadata": {},
     "output_type": "display_data"
    },
    {
     "name": "stderr",
     "output_type": "stream",
     "text": [
      "Learning rate set to 0.0026302679918953817\n",
      "\u001b[32m[I 2023-04-30 16:45:03,639]\u001b[0m Using learning rate of 0.0229\u001b[0m\n",
      "LOCAL_RANK: 0 - CUDA_VISIBLE_DEVICES: [0]\n",
      "\u001b[32m[I 2023-04-30 16:45:37,496]\u001b[0m Trial 27 finished with value: 0.07172087579965591 and parameters: {'gradient_clip_val': 0.26233335902582483, 'hidden_size': 14, 'dropout': 0.18648951263529182, 'hidden_continuous_size': 9, 'attention_head_size': 2, 'learning_rate': 0.022908676527677734}. Best is trial 20 with value: 0.03486982360482216.\u001b[0m\n",
      "LOCAL_RANK: 0 - CUDA_VISIBLE_DEVICES: [0]\n"
     ]
    },
    {
     "data": {
      "application/vnd.jupyter.widget-view+json": {
       "model_id": "d0860f916f924db9ba09b8e3fbd470fd",
       "version_major": 2,
       "version_minor": 0
      },
      "text/plain": [
       "Finding best initial lr:   0%|          | 0/100 [00:00<?, ?it/s]"
      ]
     },
     "metadata": {},
     "output_type": "display_data"
    },
    {
     "name": "stderr",
     "output_type": "stream",
     "text": [
      "Learning rate set to 0.0047863009232263845\n",
      "\u001b[32m[I 2023-04-30 16:45:40,123]\u001b[0m Using learning rate of 0.011\u001b[0m\n",
      "LOCAL_RANK: 0 - CUDA_VISIBLE_DEVICES: [0]\n",
      "\u001b[32m[I 2023-04-30 16:46:12,517]\u001b[0m Trial 28 finished with value: 0.07967161387205124 and parameters: {'gradient_clip_val': 0.15888233889916664, 'hidden_size': 21, 'dropout': 0.1602362848979692, 'hidden_continuous_size': 10, 'attention_head_size': 1, 'learning_rate': 0.010964781961431852}. Best is trial 20 with value: 0.03486982360482216.\u001b[0m\n",
      "LOCAL_RANK: 0 - CUDA_VISIBLE_DEVICES: [0]\n"
     ]
    },
    {
     "data": {
      "application/vnd.jupyter.widget-view+json": {
       "model_id": "d12369c6e96a4d57996c57a80b1358d4",
       "version_major": 2,
       "version_minor": 0
      },
      "text/plain": [
       "Finding best initial lr:   0%|          | 0/100 [00:00<?, ?it/s]"
      ]
     },
     "metadata": {},
     "output_type": "display_data"
    },
    {
     "name": "stderr",
     "output_type": "stream",
     "text": [
      "Learning rate set to 0.0018197008586099835\n",
      "\u001b[32m[I 2023-04-30 16:46:15,177]\u001b[0m Using learning rate of 0.0038\u001b[0m\n",
      "LOCAL_RANK: 0 - CUDA_VISIBLE_DEVICES: [0]\n",
      "\u001b[32m[I 2023-04-30 16:46:49,309]\u001b[0m Trial 29 finished with value: 0.06089947745203972 and parameters: {'gradient_clip_val': 0.695207100433324, 'hidden_size': 14, 'dropout': 0.2368114470013399, 'hidden_continuous_size': 9, 'attention_head_size': 2, 'learning_rate': 0.0038018939632056114}. Best is trial 20 with value: 0.03486982360482216.\u001b[0m\n",
      "LOCAL_RANK: 0 - CUDA_VISIBLE_DEVICES: [0]\n"
     ]
    },
    {
     "data": {
      "application/vnd.jupyter.widget-view+json": {
       "model_id": "f701335a364b4cae982c0da099c5f61f",
       "version_major": 2,
       "version_minor": 0
      },
      "text/plain": [
       "Finding best initial lr:   0%|          | 0/100 [00:00<?, ?it/s]"
      ]
     },
     "metadata": {},
     "output_type": "display_data"
    },
    {
     "name": "stderr",
     "output_type": "stream",
     "text": [
      "Learning rate set to 0.0017378008287493754\n",
      "\u001b[32m[I 2023-04-30 16:46:52,025]\u001b[0m Using learning rate of 0.002\u001b[0m\n",
      "LOCAL_RANK: 0 - CUDA_VISIBLE_DEVICES: [0]\n",
      "\u001b[32m[I 2023-04-30 16:47:26,295]\u001b[0m Trial 30 finished with value: 0.07554159313440323 and parameters: {'gradient_clip_val': 0.42793842253084724, 'hidden_size': 28, 'dropout': 0.21440577886174886, 'hidden_continuous_size': 12, 'attention_head_size': 3, 'learning_rate': 0.0019952623149688794}. Best is trial 20 with value: 0.03486982360482216.\u001b[0m\n",
      "LOCAL_RANK: 0 - CUDA_VISIBLE_DEVICES: [0]\n"
     ]
    },
    {
     "data": {
      "application/vnd.jupyter.widget-view+json": {
       "model_id": "ac82bf64ecb6495b9f6d1d618b5b9f06",
       "version_major": 2,
       "version_minor": 0
      },
      "text/plain": [
       "Finding best initial lr:   0%|          | 0/100 [00:00<?, ?it/s]"
      ]
     },
     "metadata": {},
     "output_type": "display_data"
    },
    {
     "name": "stderr",
     "output_type": "stream",
     "text": [
      "Learning rate set to 0.0018197008586099835\n",
      "\u001b[32m[I 2023-04-30 16:47:28,720]\u001b[0m Using learning rate of 0.0158\u001b[0m\n",
      "LOCAL_RANK: 0 - CUDA_VISIBLE_DEVICES: [0]\n",
      "\u001b[32m[I 2023-04-30 16:47:58,595]\u001b[0m Trial 31 finished with value: 0.04222936928272247 and parameters: {'gradient_clip_val': 0.3276462566640299, 'hidden_size': 8, 'dropout': 0.13159968029173139, 'hidden_continuous_size': 8, 'attention_head_size': 3, 'learning_rate': 0.015848931924611134}. Best is trial 20 with value: 0.03486982360482216.\u001b[0m\n",
      "LOCAL_RANK: 0 - CUDA_VISIBLE_DEVICES: [0]\n"
     ]
    },
    {
     "data": {
      "application/vnd.jupyter.widget-view+json": {
       "model_id": "1d990e3d96754641a6abbcde1a78e303",
       "version_major": 2,
       "version_minor": 0
      },
      "text/plain": [
       "Finding best initial lr:   0%|          | 0/100 [00:00<?, ?it/s]"
      ]
     },
     "metadata": {},
     "output_type": "display_data"
    },
    {
     "name": "stderr",
     "output_type": "stream",
     "text": [
      "Learning rate set to 0.0019952623149688794\n",
      "\u001b[32m[I 2023-04-30 16:48:01,289]\u001b[0m Using learning rate of 0.0166\u001b[0m\n",
      "LOCAL_RANK: 0 - CUDA_VISIBLE_DEVICES: [0]\n",
      "\u001b[32m[I 2023-04-30 16:48:35,759]\u001b[0m Trial 32 finished with value: 0.058894943445920944 and parameters: {'gradient_clip_val': 0.28734572990535356, 'hidden_size': 9, 'dropout': 0.13853242904758545, 'hidden_continuous_size': 8, 'attention_head_size': 3, 'learning_rate': 0.016595869074375606}. Best is trial 20 with value: 0.03486982360482216.\u001b[0m\n",
      "LOCAL_RANK: 0 - CUDA_VISIBLE_DEVICES: [0]\n"
     ]
    },
    {
     "data": {
      "application/vnd.jupyter.widget-view+json": {
       "model_id": "34f69145b0da4171bccada2ddbb88565",
       "version_major": 2,
       "version_minor": 0
      },
      "text/plain": [
       "Finding best initial lr:   0%|          | 0/100 [00:00<?, ?it/s]"
      ]
     },
     "metadata": {},
     "output_type": "display_data"
    },
    {
     "name": "stderr",
     "output_type": "stream",
     "text": [
      "Learning rate set to 0.0016595869074375606\n",
      "\u001b[32m[I 2023-04-30 16:48:38,440]\u001b[0m Using learning rate of 0.0024\u001b[0m\n",
      "LOCAL_RANK: 0 - CUDA_VISIBLE_DEVICES: [0]\n",
      "\u001b[32m[I 2023-04-30 16:49:11,786]\u001b[0m Trial 33 finished with value: 0.05624087527394295 and parameters: {'gradient_clip_val': 0.5656417961043778, 'hidden_size': 11, 'dropout': 0.1273135046368119, 'hidden_continuous_size': 8, 'attention_head_size': 2, 'learning_rate': 0.0023988329190194903}. Best is trial 20 with value: 0.03486982360482216.\u001b[0m\n",
      "LOCAL_RANK: 0 - CUDA_VISIBLE_DEVICES: [0]\n"
     ]
    },
    {
     "data": {
      "application/vnd.jupyter.widget-view+json": {
       "model_id": "b247ab6defaf4af08829aaaaad1d4e6d",
       "version_major": 2,
       "version_minor": 0
      },
      "text/plain": [
       "Finding best initial lr:   0%|          | 0/100 [00:00<?, ?it/s]"
      ]
     },
     "metadata": {},
     "output_type": "display_data"
    },
    {
     "name": "stderr",
     "output_type": "stream",
     "text": [
      "Learning rate set to 0.0016595869074375606\n",
      "\u001b[32m[I 2023-04-30 16:49:14,208]\u001b[0m Using learning rate of 0.00398\u001b[0m\n",
      "LOCAL_RANK: 0 - CUDA_VISIBLE_DEVICES: [0]\n",
      "\u001b[32m[I 2023-04-30 16:49:45,103]\u001b[0m Trial 34 finished with value: 0.05227656662464142 and parameters: {'gradient_clip_val': 0.7454308426303724, 'hidden_size': 8, 'dropout': 0.16061856805057617, 'hidden_continuous_size': 8, 'attention_head_size': 3, 'learning_rate': 0.0039810717055349725}. Best is trial 20 with value: 0.03486982360482216.\u001b[0m\n",
      "LOCAL_RANK: 0 - CUDA_VISIBLE_DEVICES: [0]\n"
     ]
    },
    {
     "data": {
      "application/vnd.jupyter.widget-view+json": {
       "model_id": "76bccc47842548acbd637362b69e98d3",
       "version_major": 2,
       "version_minor": 0
      },
      "text/plain": [
       "Finding best initial lr:   0%|          | 0/100 [00:00<?, ?it/s]"
      ]
     },
     "metadata": {},
     "output_type": "display_data"
    },
    {
     "name": "stderr",
     "output_type": "stream",
     "text": [
      "Learning rate set to 0.0025118864315095803\n",
      "\u001b[32m[I 2023-04-30 16:49:47,777]\u001b[0m Using learning rate of 0.00263\u001b[0m\n",
      "LOCAL_RANK: 0 - CUDA_VISIBLE_DEVICES: [0]\n",
      "\u001b[32m[I 2023-04-30 16:50:21,615]\u001b[0m Trial 35 finished with value: 0.0986626148223877 and parameters: {'gradient_clip_val': 0.9911064404312867, 'hidden_size': 15, 'dropout': 0.17627045315033482, 'hidden_continuous_size': 9, 'attention_head_size': 2, 'learning_rate': 0.0026302679918953817}. Best is trial 20 with value: 0.03486982360482216.\u001b[0m\n",
      "LOCAL_RANK: 0 - CUDA_VISIBLE_DEVICES: [0]\n"
     ]
    },
    {
     "data": {
      "application/vnd.jupyter.widget-view+json": {
       "model_id": "a3d49cd2c4fc4086a92d9cd2e6b07fc6",
       "version_major": 2,
       "version_minor": 0
      },
      "text/plain": [
       "Finding best initial lr:   0%|          | 0/100 [00:00<?, ?it/s]"
      ]
     },
     "metadata": {},
     "output_type": "display_data"
    },
    {
     "name": "stderr",
     "output_type": "stream",
     "text": [
      "Learning rate set to 0.0016595869074375606\n",
      "\u001b[32m[I 2023-04-30 16:50:24,248]\u001b[0m Using learning rate of 0.0479\u001b[0m\n",
      "LOCAL_RANK: 0 - CUDA_VISIBLE_DEVICES: [0]\n",
      "\u001b[32m[I 2023-04-30 16:50:56,639]\u001b[0m Trial 36 finished with value: 0.0596698634326458 and parameters: {'gradient_clip_val': 0.3871269482704037, 'hidden_size': 9, 'dropout': 0.15361795759243016, 'hidden_continuous_size': 8, 'attention_head_size': 1, 'learning_rate': 0.04786300923226383}. Best is trial 20 with value: 0.03486982360482216.\u001b[0m\n",
      "LOCAL_RANK: 0 - CUDA_VISIBLE_DEVICES: [0]\n"
     ]
    },
    {
     "data": {
      "application/vnd.jupyter.widget-view+json": {
       "model_id": "5ef43d3fb36b4a31b45e8075dc0e5101",
       "version_major": 2,
       "version_minor": 0
      },
      "text/plain": [
       "Finding best initial lr:   0%|          | 0/100 [00:00<?, ?it/s]"
      ]
     },
     "metadata": {},
     "output_type": "display_data"
    },
    {
     "name": "stderr",
     "output_type": "stream",
     "text": [
      "Learning rate set to 0.0018197008586099835\n",
      "\u001b[32m[I 2023-04-30 16:50:59,366]\u001b[0m Using learning rate of 0.00263\u001b[0m\n",
      "LOCAL_RANK: 0 - CUDA_VISIBLE_DEVICES: [0]\n",
      "\u001b[32m[I 2023-04-30 16:51:34,276]\u001b[0m Trial 37 finished with value: 0.05768643692135811 and parameters: {'gradient_clip_val': 0.170878885495536, 'hidden_size': 12, 'dropout': 0.18780264062753443, 'hidden_continuous_size': 9, 'attention_head_size': 4, 'learning_rate': 0.0026302679918953817}. Best is trial 20 with value: 0.03486982360482216.\u001b[0m\n",
      "LOCAL_RANK: 0 - CUDA_VISIBLE_DEVICES: [0]\n"
     ]
    },
    {
     "data": {
      "application/vnd.jupyter.widget-view+json": {
       "model_id": "06b5adf5628c47cd95e8b63cd332c61f",
       "version_major": 2,
       "version_minor": 0
      },
      "text/plain": [
       "Finding best initial lr:   0%|          | 0/100 [00:00<?, ?it/s]"
      ]
     },
     "metadata": {},
     "output_type": "display_data"
    },
    {
     "name": "stderr",
     "output_type": "stream",
     "text": [
      "Learning rate set to 0.0027542287033381664\n",
      "\u001b[32m[I 2023-04-30 16:51:36,980]\u001b[0m Using learning rate of 0.00275\u001b[0m\n",
      "LOCAL_RANK: 0 - CUDA_VISIBLE_DEVICES: [0]\n",
      "\u001b[32m[I 2023-04-30 16:52:10,670]\u001b[0m Trial 38 finished with value: 0.051224734634160995 and parameters: {'gradient_clip_val': 0.2496699255981004, 'hidden_size': 16, 'dropout': 0.1929235575483921, 'hidden_continuous_size': 9, 'attention_head_size': 3, 'learning_rate': 0.0027542287033381664}. Best is trial 20 with value: 0.03486982360482216.\u001b[0m\n",
      "LOCAL_RANK: 0 - CUDA_VISIBLE_DEVICES: [0]\n"
     ]
    },
    {
     "data": {
      "application/vnd.jupyter.widget-view+json": {
       "model_id": "c75450065bd944d9aa1c25d9ded1b98a",
       "version_major": 2,
       "version_minor": 0
      },
      "text/plain": [
       "Finding best initial lr:   0%|          | 0/100 [00:00<?, ?it/s]"
      ]
     },
     "metadata": {},
     "output_type": "display_data"
    },
    {
     "name": "stderr",
     "output_type": "stream",
     "text": [
      "Learning rate set to 0.0019952623149688794\n",
      "\u001b[32m[I 2023-04-30 16:52:13,347]\u001b[0m Using learning rate of 0.00794\u001b[0m\n",
      "LOCAL_RANK: 0 - CUDA_VISIBLE_DEVICES: [0]\n",
      "\u001b[32m[I 2023-04-30 16:52:47,079]\u001b[0m Trial 39 finished with value: 0.09837499260902405 and parameters: {'gradient_clip_val': 0.12482374406877336, 'hidden_size': 13, 'dropout': 0.1642052561468532, 'hidden_continuous_size': 9, 'attention_head_size': 2, 'learning_rate': 0.007943282347242816}. Best is trial 20 with value: 0.03486982360482216.\u001b[0m\n",
      "LOCAL_RANK: 0 - CUDA_VISIBLE_DEVICES: [0]\n"
     ]
    },
    {
     "data": {
      "application/vnd.jupyter.widget-view+json": {
       "model_id": "49e1e78df5cf455d93e9ea869024c4e9",
       "version_major": 2,
       "version_minor": 0
      },
      "text/plain": [
       "Finding best initial lr:   0%|          | 0/100 [00:00<?, ?it/s]"
      ]
     },
     "metadata": {},
     "output_type": "display_data"
    },
    {
     "name": "stderr",
     "output_type": "stream",
     "text": [
      "Learning rate set to 0.0016595869074375606\n",
      "\u001b[32m[I 2023-04-30 16:52:49,822]\u001b[0m Using learning rate of 0.00575\u001b[0m\n",
      "LOCAL_RANK: 0 - CUDA_VISIBLE_DEVICES: [0]\n",
      "\u001b[32m[I 2023-04-30 16:53:23,703]\u001b[0m Trial 40 finished with value: 0.08390652388334274 and parameters: {'gradient_clip_val': 0.08544539527392672, 'hidden_size': 9, 'dropout': 0.17601781265994662, 'hidden_continuous_size': 8, 'attention_head_size': 4, 'learning_rate': 0.005754399373371569}. Best is trial 20 with value: 0.03486982360482216.\u001b[0m\n",
      "LOCAL_RANK: 0 - CUDA_VISIBLE_DEVICES: [0]\n"
     ]
    },
    {
     "data": {
      "application/vnd.jupyter.widget-view+json": {
       "model_id": "52702a6b0b2d453c9ae52d8992cf165e",
       "version_major": 2,
       "version_minor": 0
      },
      "text/plain": [
       "Finding best initial lr:   0%|          | 0/100 [00:00<?, ?it/s]"
      ]
     },
     "metadata": {},
     "output_type": "display_data"
    },
    {
     "name": "stderr",
     "output_type": "stream",
     "text": [
      "Learning rate set to 0.0016595869074375606\n",
      "\u001b[32m[I 2023-04-30 16:53:27,187]\u001b[0m Using learning rate of 0.0457\u001b[0m\n",
      "LOCAL_RANK: 0 - CUDA_VISIBLE_DEVICES: [0]\n",
      "\u001b[32m[I 2023-04-30 16:54:00,621]\u001b[0m Trial 41 finished with value: 0.05508686229586601 and parameters: {'gradient_clip_val': 0.3335071518567174, 'hidden_size': 9, 'dropout': 0.11403624444878979, 'hidden_continuous_size': 8, 'attention_head_size': 3, 'learning_rate': 0.0457088189614875}. Best is trial 20 with value: 0.03486982360482216.\u001b[0m\n",
      "LOCAL_RANK: 0 - CUDA_VISIBLE_DEVICES: [0]\n"
     ]
    },
    {
     "data": {
      "application/vnd.jupyter.widget-view+json": {
       "model_id": "7df0492deb2d4cf5818131a6f355ff13",
       "version_major": 2,
       "version_minor": 0
      },
      "text/plain": [
       "Finding best initial lr:   0%|          | 0/100 [00:00<?, ?it/s]"
      ]
     },
     "metadata": {},
     "output_type": "display_data"
    },
    {
     "name": "stderr",
     "output_type": "stream",
     "text": [
      "Learning rate set to 0.0018197008586099835\n",
      "\u001b[32m[I 2023-04-30 16:54:03,054]\u001b[0m Using learning rate of 0.002\u001b[0m\n",
      "LOCAL_RANK: 0 - CUDA_VISIBLE_DEVICES: [0]\n",
      "\u001b[32m[I 2023-04-30 16:54:34,165]\u001b[0m Trial 42 finished with value: 0.060489166527986526 and parameters: {'gradient_clip_val': 0.2922345046135332, 'hidden_size': 8, 'dropout': 0.1302299798053262, 'hidden_continuous_size': 8, 'attention_head_size': 3, 'learning_rate': 0.0019952623149688794}. Best is trial 20 with value: 0.03486982360482216.\u001b[0m\n",
      "LOCAL_RANK: 0 - CUDA_VISIBLE_DEVICES: [0]\n"
     ]
    },
    {
     "data": {
      "application/vnd.jupyter.widget-view+json": {
       "model_id": "6aea9b5d97f24b7eb47eed9758bb2a05",
       "version_major": 2,
       "version_minor": 0
      },
      "text/plain": [
       "Finding best initial lr:   0%|          | 0/100 [00:00<?, ?it/s]"
      ]
     },
     "metadata": {},
     "output_type": "display_data"
    },
    {
     "name": "stderr",
     "output_type": "stream",
     "text": [
      "Learning rate set to 0.002884031503126606\n",
      "\u001b[32m[I 2023-04-30 16:54:36,590]\u001b[0m Using learning rate of 0.038\u001b[0m\n",
      "LOCAL_RANK: 0 - CUDA_VISIBLE_DEVICES: [0]\n",
      "\u001b[32m[I 2023-04-30 16:55:06,451]\u001b[0m Trial 43 finished with value: 0.07297497987747192 and parameters: {'gradient_clip_val': 0.15132890639575794, 'hidden_size': 8, 'dropout': 0.14458360157400318, 'hidden_continuous_size': 8, 'attention_head_size': 3, 'learning_rate': 0.038018939632056124}. Best is trial 20 with value: 0.03486982360482216.\u001b[0m\n",
      "LOCAL_RANK: 0 - CUDA_VISIBLE_DEVICES: [0]\n"
     ]
    },
    {
     "data": {
      "application/vnd.jupyter.widget-view+json": {
       "model_id": "31b618723fa44602b395aae80c9230c2",
       "version_major": 2,
       "version_minor": 0
      },
      "text/plain": [
       "Finding best initial lr:   0%|          | 0/100 [00:00<?, ?it/s]"
      ]
     },
     "metadata": {},
     "output_type": "display_data"
    },
    {
     "name": "stderr",
     "output_type": "stream",
     "text": [
      "Learning rate set to 0.0016595869074375606\n",
      "\u001b[32m[I 2023-04-30 16:55:09,188]\u001b[0m Using learning rate of 0.00692\u001b[0m\n",
      "LOCAL_RANK: 0 - CUDA_VISIBLE_DEVICES: [0]\n",
      "\u001b[32m[I 2023-04-30 16:55:44,048]\u001b[0m Trial 44 finished with value: 0.08402421325445175 and parameters: {'gradient_clip_val': 0.35671516318180263, 'hidden_size': 10, 'dropout': 0.11451944688702809, 'hidden_continuous_size': 8, 'attention_head_size': 4, 'learning_rate': 0.0069183097091893644}. Best is trial 20 with value: 0.03486982360482216.\u001b[0m\n",
      "LOCAL_RANK: 0 - CUDA_VISIBLE_DEVICES: [0]\n"
     ]
    },
    {
     "data": {
      "application/vnd.jupyter.widget-view+json": {
       "model_id": "de98cac0073145d7b58a8345e9e82004",
       "version_major": 2,
       "version_minor": 0
      },
      "text/plain": [
       "Finding best initial lr:   0%|          | 0/100 [00:00<?, ?it/s]"
      ]
     },
     "metadata": {},
     "output_type": "display_data"
    },
    {
     "name": "stderr",
     "output_type": "stream",
     "text": [
      "Learning rate set to 0.0019952623149688794\n",
      "\u001b[32m[I 2023-04-30 16:55:46,756]\u001b[0m Using learning rate of 0.012\u001b[0m\n",
      "LOCAL_RANK: 0 - CUDA_VISIBLE_DEVICES: [0]\n",
      "\u001b[32m[I 2023-04-30 16:56:20,361]\u001b[0m Trial 45 finished with value: 0.05028563737869263 and parameters: {'gradient_clip_val': 0.20433723194932688, 'hidden_size': 11, 'dropout': 0.14724355839488446, 'hidden_continuous_size': 8, 'attention_head_size': 3, 'learning_rate': 0.012022644346174132}. Best is trial 20 with value: 0.03486982360482216.\u001b[0m\n",
      "LOCAL_RANK: 0 - CUDA_VISIBLE_DEVICES: [0]\n"
     ]
    },
    {
     "data": {
      "application/vnd.jupyter.widget-view+json": {
       "model_id": "3139876cc8b84da9b3defc4d3dbc7a1e",
       "version_major": 2,
       "version_minor": 0
      },
      "text/plain": [
       "Finding best initial lr:   0%|          | 0/100 [00:00<?, ?it/s]"
      ]
     },
     "metadata": {},
     "output_type": "display_data"
    },
    {
     "name": "stderr",
     "output_type": "stream",
     "text": [
      "Learning rate set to 0.0027542287033381664\n",
      "\u001b[32m[I 2023-04-30 16:56:23,089]\u001b[0m Using learning rate of 0.0158\u001b[0m\n",
      "LOCAL_RANK: 0 - CUDA_VISIBLE_DEVICES: [0]\n",
      "\u001b[32m[I 2023-04-30 16:56:57,005]\u001b[0m Trial 46 finished with value: 0.059352267533540726 and parameters: {'gradient_clip_val': 0.5108650069500961, 'hidden_size': 19, 'dropout': 0.1533608930154705, 'hidden_continuous_size': 11, 'attention_head_size': 2, 'learning_rate': 0.015848931924611134}. Best is trial 20 with value: 0.03486982360482216.\u001b[0m\n",
      "LOCAL_RANK: 0 - CUDA_VISIBLE_DEVICES: [0]\n"
     ]
    },
    {
     "data": {
      "application/vnd.jupyter.widget-view+json": {
       "model_id": "840f43cba8254fc191f3cb50eb333383",
       "version_major": 2,
       "version_minor": 0
      },
      "text/plain": [
       "Finding best initial lr:   0%|          | 0/100 [00:00<?, ?it/s]"
      ]
     },
     "metadata": {},
     "output_type": "display_data"
    },
    {
     "name": "stderr",
     "output_type": "stream",
     "text": [
      "Learning rate set to 0.0041686938347033535\n",
      "\u001b[32m[I 2023-04-30 16:56:59,715]\u001b[0m Using learning rate of 0.00479\u001b[0m\n",
      "LOCAL_RANK: 0 - CUDA_VISIBLE_DEVICES: [0]\n",
      "\u001b[32m[I 2023-04-30 16:57:34,372]\u001b[0m Trial 47 finished with value: 0.052624624222517014 and parameters: {'gradient_clip_val': 0.6286642404838975, 'hidden_size': 15, 'dropout': 0.11473439705832797, 'hidden_continuous_size': 12, 'attention_head_size': 3, 'learning_rate': 0.0047863009232263845}. Best is trial 20 with value: 0.03486982360482216.\u001b[0m\n",
      "LOCAL_RANK: 0 - CUDA_VISIBLE_DEVICES: [0]\n"
     ]
    },
    {
     "data": {
      "application/vnd.jupyter.widget-view+json": {
       "model_id": "36dbb114912b4023a31ecc4bc8869fd7",
       "version_major": 2,
       "version_minor": 0
      },
      "text/plain": [
       "Finding best initial lr:   0%|          | 0/100 [00:00<?, ?it/s]"
      ]
     },
     "metadata": {},
     "output_type": "display_data"
    },
    {
     "name": "stderr",
     "output_type": "stream",
     "text": [
      "Learning rate set to 0.0016595869074375606\n",
      "\u001b[32m[I 2023-04-30 16:57:36,764]\u001b[0m Using learning rate of 0.00191\u001b[0m\n",
      "LOCAL_RANK: 0 - CUDA_VISIBLE_DEVICES: [0]\n",
      "\u001b[32m[I 2023-04-30 16:58:06,342]\u001b[0m Trial 48 finished with value: 0.06255429238080978 and parameters: {'gradient_clip_val': 0.46089775846717196, 'hidden_size': 8, 'dropout': 0.13345005754884276, 'hidden_continuous_size': 8, 'attention_head_size': 2, 'learning_rate': 0.0019054607179632473}. Best is trial 20 with value: 0.03486982360482216.\u001b[0m\n",
      "LOCAL_RANK: 0 - CUDA_VISIBLE_DEVICES: [0]\n"
     ]
    },
    {
     "data": {
      "application/vnd.jupyter.widget-view+json": {
       "model_id": "9ca491cb43284c0ca1d3b6fc2f68c089",
       "version_major": 2,
       "version_minor": 0
      },
      "text/plain": [
       "Finding best initial lr:   0%|          | 0/100 [00:00<?, ?it/s]"
      ]
     },
     "metadata": {},
     "output_type": "display_data"
    },
    {
     "name": "stderr",
     "output_type": "stream",
     "text": [
      "Learning rate set to 0.0016595869074375606\n",
      "\u001b[32m[I 2023-04-30 16:58:09,048]\u001b[0m Using learning rate of 0.0174\u001b[0m\n",
      "LOCAL_RANK: 0 - CUDA_VISIBLE_DEVICES: [0]\n",
      "\u001b[32m[I 2023-04-30 16:58:43,361]\u001b[0m Trial 49 finished with value: 0.0721016600728035 and parameters: {'gradient_clip_val': 0.06610228405776533, 'hidden_size': 18, 'dropout': 0.19829548918939874, 'hidden_continuous_size': 11, 'attention_head_size': 3, 'learning_rate': 0.01737800828749375}. Best is trial 20 with value: 0.03486982360482216.\u001b[0m\n",
      "LOCAL_RANK: 0 - CUDA_VISIBLE_DEVICES: [0]\n"
     ]
    },
    {
     "data": {
      "application/vnd.jupyter.widget-view+json": {
       "model_id": "1aa2fd7058c84987a15d1f378f10d7ef",
       "version_major": 2,
       "version_minor": 0
      },
      "text/plain": [
       "Finding best initial lr:   0%|          | 0/100 [00:00<?, ?it/s]"
      ]
     },
     "metadata": {},
     "output_type": "display_data"
    },
    {
     "name": "stderr",
     "output_type": "stream",
     "text": [
      "Learning rate set to 0.0022908676527677732\n",
      "\u001b[32m[I 2023-04-30 16:58:46,035]\u001b[0m Using learning rate of 0.0794\u001b[0m\n",
      "LOCAL_RANK: 0 - CUDA_VISIBLE_DEVICES: [0]\n",
      "\u001b[32m[I 2023-04-30 16:59:18,895]\u001b[0m Trial 50 finished with value: 0.05642518773674965 and parameters: {'gradient_clip_val': 0.3367307790442801, 'hidden_size': 9, 'dropout': 0.10509017241441271, 'hidden_continuous_size': 8, 'attention_head_size': 2, 'learning_rate': 0.07943282347242814}. Best is trial 20 with value: 0.03486982360482216.\u001b[0m\n",
      "LOCAL_RANK: 0 - CUDA_VISIBLE_DEVICES: [0]\n"
     ]
    },
    {
     "data": {
      "application/vnd.jupyter.widget-view+json": {
       "model_id": "3c5730376e714f58aa0506aca1b6dc2f",
       "version_major": 2,
       "version_minor": 0
      },
      "text/plain": [
       "Finding best initial lr:   0%|          | 0/100 [00:00<?, ?it/s]"
      ]
     },
     "metadata": {},
     "output_type": "display_data"
    },
    {
     "name": "stderr",
     "output_type": "stream",
     "text": [
      "Learning rate set to 0.0018197008586099835\n",
      "\u001b[32m[I 2023-04-30 16:59:21,326]\u001b[0m Using learning rate of 0.00479\u001b[0m\n",
      "LOCAL_RANK: 0 - CUDA_VISIBLE_DEVICES: [0]\n",
      "\u001b[32m[I 2023-04-30 16:59:52,315]\u001b[0m Trial 51 finished with value: 0.048882126808166504 and parameters: {'gradient_clip_val': 0.6617316389854964, 'hidden_size': 8, 'dropout': 0.182158615266334, 'hidden_continuous_size': 8, 'attention_head_size': 3, 'learning_rate': 0.0047863009232263845}. Best is trial 20 with value: 0.03486982360482216.\u001b[0m\n",
      "LOCAL_RANK: 0 - CUDA_VISIBLE_DEVICES: [0]\n"
     ]
    },
    {
     "data": {
      "application/vnd.jupyter.widget-view+json": {
       "model_id": "6ec64b89d9194e6a85c583744bca61d0",
       "version_major": 2,
       "version_minor": 0
      },
      "text/plain": [
       "Finding best initial lr:   0%|          | 0/100 [00:00<?, ?it/s]"
      ]
     },
     "metadata": {},
     "output_type": "display_data"
    },
    {
     "name": "stderr",
     "output_type": "stream",
     "text": [
      "Learning rate set to 0.0016595869074375606\n",
      "\u001b[32m[I 2023-04-30 16:59:55,033]\u001b[0m Using learning rate of 0.011\u001b[0m\n",
      "LOCAL_RANK: 0 - CUDA_VISIBLE_DEVICES: [0]\n",
      "\u001b[32m[I 2023-04-30 17:00:28,642]\u001b[0m Trial 52 finished with value: 0.05758024752140045 and parameters: {'gradient_clip_val': 0.822242966768329, 'hidden_size': 11, 'dropout': 0.19148465589245534, 'hidden_continuous_size': 10, 'attention_head_size': 3, 'learning_rate': 0.010964781961431852}. Best is trial 20 with value: 0.03486982360482216.\u001b[0m\n",
      "LOCAL_RANK: 0 - CUDA_VISIBLE_DEVICES: [0]\n"
     ]
    },
    {
     "data": {
      "application/vnd.jupyter.widget-view+json": {
       "model_id": "a1fdea0190334a29ade437aba6ebd67a",
       "version_major": 2,
       "version_minor": 0
      },
      "text/plain": [
       "Finding best initial lr:   0%|          | 0/100 [00:00<?, ?it/s]"
      ]
     },
     "metadata": {},
     "output_type": "display_data"
    },
    {
     "name": "stderr",
     "output_type": "stream",
     "text": [
      "Learning rate set to 0.0019952623149688794\n",
      "\u001b[32m[I 2023-04-30 17:00:31,321]\u001b[0m Using learning rate of 0.0105\u001b[0m\n",
      "LOCAL_RANK: 0 - CUDA_VISIBLE_DEVICES: [0]\n",
      "\u001b[32m[I 2023-04-30 17:01:05,281]\u001b[0m Trial 53 finished with value: 0.07130879908800125 and parameters: {'gradient_clip_val': 0.9081137501807276, 'hidden_size': 37, 'dropout': 0.19828943330600626, 'hidden_continuous_size': 14, 'attention_head_size': 2, 'learning_rate': 0.010471285480508996}. Best is trial 20 with value: 0.03486982360482216.\u001b[0m\n",
      "LOCAL_RANK: 0 - CUDA_VISIBLE_DEVICES: [0]\n"
     ]
    },
    {
     "data": {
      "application/vnd.jupyter.widget-view+json": {
       "model_id": "89fd326d0cb041f98cb89aa8319d6f09",
       "version_major": 2,
       "version_minor": 0
      },
      "text/plain": [
       "Finding best initial lr:   0%|          | 0/100 [00:00<?, ?it/s]"
      ]
     },
     "metadata": {},
     "output_type": "display_data"
    },
    {
     "name": "stderr",
     "output_type": "stream",
     "text": [
      "Learning rate set to 0.0016595869074375606\n",
      "\u001b[32m[I 2023-04-30 17:01:08,012]\u001b[0m Using learning rate of 0.00457\u001b[0m\n",
      "LOCAL_RANK: 0 - CUDA_VISIBLE_DEVICES: [0]\n",
      "\u001b[32m[I 2023-04-30 17:01:42,689]\u001b[0m Trial 54 finished with value: 0.06531454622745514 and parameters: {'gradient_clip_val': 0.3891584565989625, 'hidden_size': 9, 'dropout': 0.16658992465661307, 'hidden_continuous_size': 8, 'attention_head_size': 3, 'learning_rate': 0.00457088189614875}. Best is trial 20 with value: 0.03486982360482216.\u001b[0m\n",
      "LOCAL_RANK: 0 - CUDA_VISIBLE_DEVICES: [0]\n"
     ]
    },
    {
     "data": {
      "application/vnd.jupyter.widget-view+json": {
       "model_id": "cc0831fe627e48ee87bb4673ee74d258",
       "version_major": 2,
       "version_minor": 0
      },
      "text/plain": [
       "Finding best initial lr:   0%|          | 0/100 [00:00<?, ?it/s]"
      ]
     },
     "metadata": {},
     "output_type": "display_data"
    },
    {
     "name": "stderr",
     "output_type": "stream",
     "text": [
      "Learning rate set to 0.0023988329190194903\n",
      "\u001b[32m[I 2023-04-30 17:01:45,368]\u001b[0m Using learning rate of 0.00263\u001b[0m\n",
      "LOCAL_RANK: 0 - CUDA_VISIBLE_DEVICES: [0]\n",
      "\u001b[32m[I 2023-04-30 17:02:18,592]\u001b[0m Trial 55 finished with value: 0.06075627729296684 and parameters: {'gradient_clip_val': 0.5780711125698378, 'hidden_size': 13, 'dropout': 0.206044182159224, 'hidden_continuous_size': 9, 'attention_head_size': 2, 'learning_rate': 0.0026302679918953817}. Best is trial 20 with value: 0.03486982360482216.\u001b[0m\n",
      "LOCAL_RANK: 0 - CUDA_VISIBLE_DEVICES: [0]\n"
     ]
    },
    {
     "data": {
      "application/vnd.jupyter.widget-view+json": {
       "model_id": "41f293deab2b483c8725678985e1dfcf",
       "version_major": 2,
       "version_minor": 0
      },
      "text/plain": [
       "Finding best initial lr:   0%|          | 0/100 [00:00<?, ?it/s]"
      ]
     },
     "metadata": {},
     "output_type": "display_data"
    },
    {
     "name": "stderr",
     "output_type": "stream",
     "text": [
      "Learning rate set to 0.0022908676527677732\n",
      "\u001b[32m[I 2023-04-30 17:02:21,348]\u001b[0m Using learning rate of 0.0525\u001b[0m\n",
      "LOCAL_RANK: 0 - CUDA_VISIBLE_DEVICES: [0]\n",
      "\u001b[32m[I 2023-04-30 17:02:56,109]\u001b[0m Trial 56 finished with value: 0.047032058238983154 and parameters: {'gradient_clip_val': 0.12346845216137464, 'hidden_size': 10, 'dropout': 0.12449152337622353, 'hidden_continuous_size': 8, 'attention_head_size': 4, 'learning_rate': 0.05248074602497726}. Best is trial 20 with value: 0.03486982360482216.\u001b[0m\n",
      "LOCAL_RANK: 0 - CUDA_VISIBLE_DEVICES: [0]\n"
     ]
    },
    {
     "data": {
      "application/vnd.jupyter.widget-view+json": {
       "model_id": "31c5de87c474414bbfed93dbe67a10bf",
       "version_major": 2,
       "version_minor": 0
      },
      "text/plain": [
       "Finding best initial lr:   0%|          | 0/100 [00:00<?, ?it/s]"
      ]
     },
     "metadata": {},
     "output_type": "display_data"
    },
    {
     "name": "stderr",
     "output_type": "stream",
     "text": [
      "Learning rate set to 0.003019951720402016\n",
      "\u001b[32m[I 2023-04-30 17:02:58,821]\u001b[0m Using learning rate of 0.00724\u001b[0m\n",
      "LOCAL_RANK: 0 - CUDA_VISIBLE_DEVICES: [0]\n",
      "\u001b[32m[I 2023-04-30 17:03:32,244]\u001b[0m Trial 57 finished with value: 0.0841958224773407 and parameters: {'gradient_clip_val': 0.23719916062926222, 'hidden_size': 12, 'dropout': 0.225720964742196, 'hidden_continuous_size': 10, 'attention_head_size': 3, 'learning_rate': 0.007244359600749901}. Best is trial 20 with value: 0.03486982360482216.\u001b[0m\n",
      "LOCAL_RANK: 0 - CUDA_VISIBLE_DEVICES: [0]\n"
     ]
    },
    {
     "data": {
      "application/vnd.jupyter.widget-view+json": {
       "model_id": "e50f58a3b7294bebae4b22f8af2e6703",
       "version_major": 2,
       "version_minor": 0
      },
      "text/plain": [
       "Finding best initial lr:   0%|          | 0/100 [00:00<?, ?it/s]"
      ]
     },
     "metadata": {},
     "output_type": "display_data"
    },
    {
     "name": "stderr",
     "output_type": "stream",
     "text": [
      "Learning rate set to 0.0019054607179632473\n",
      "\u001b[32m[I 2023-04-30 17:03:34,632]\u001b[0m Using learning rate of 0.00398\u001b[0m\n",
      "LOCAL_RANK: 0 - CUDA_VISIBLE_DEVICES: [0]\n",
      "\u001b[32m[I 2023-04-30 17:04:04,980]\u001b[0m Trial 58 finished with value: 0.06875428557395935 and parameters: {'gradient_clip_val': 0.29033346245809927, 'hidden_size': 8, 'dropout': 0.17322251925475624, 'hidden_continuous_size': 8, 'attention_head_size': 2, 'learning_rate': 0.0039810717055349725}. Best is trial 20 with value: 0.03486982360482216.\u001b[0m\n",
      "LOCAL_RANK: 0 - CUDA_VISIBLE_DEVICES: [0]\n"
     ]
    },
    {
     "data": {
      "application/vnd.jupyter.widget-view+json": {
       "model_id": "d009e3baeb48447fbe2b6e0a8e61d252",
       "version_major": 2,
       "version_minor": 0
      },
      "text/plain": [
       "Finding best initial lr:   0%|          | 0/100 [00:00<?, ?it/s]"
      ]
     },
     "metadata": {},
     "output_type": "display_data"
    },
    {
     "name": "stderr",
     "output_type": "stream",
     "text": [
      "Learning rate set to 0.0026302679918953817\n",
      "\u001b[32m[I 2023-04-30 17:04:07,616]\u001b[0m Using learning rate of 0.00631\u001b[0m\n",
      "LOCAL_RANK: 0 - CUDA_VISIBLE_DEVICES: [0]\n",
      "\u001b[32m[I 2023-04-30 17:04:40,293]\u001b[0m Trial 59 finished with value: 0.10692161321640015 and parameters: {'gradient_clip_val': 0.4392697287028061, 'hidden_size': 10, 'dropout': 0.1832512484437358, 'hidden_continuous_size': 9, 'attention_head_size': 1, 'learning_rate': 0.006309573444801934}. Best is trial 20 with value: 0.03486982360482216.\u001b[0m\n",
      "LOCAL_RANK: 0 - CUDA_VISIBLE_DEVICES: [0]\n"
     ]
    },
    {
     "data": {
      "application/vnd.jupyter.widget-view+json": {
       "model_id": "9bde2a789bcb4448b46c21e9c3844b06",
       "version_major": 2,
       "version_minor": 0
      },
      "text/plain": [
       "Finding best initial lr:   0%|          | 0/100 [00:00<?, ?it/s]"
      ]
     },
     "metadata": {},
     "output_type": "display_data"
    },
    {
     "name": "stderr",
     "output_type": "stream",
     "text": [
      "Learning rate set to 0.0016595869074375606\n",
      "\u001b[32m[I 2023-04-30 17:04:43,801]\u001b[0m Using learning rate of 0.0105\u001b[0m\n",
      "LOCAL_RANK: 0 - CUDA_VISIBLE_DEVICES: [0]\n",
      "\u001b[32m[I 2023-04-30 17:05:17,416]\u001b[0m Trial 60 finished with value: 0.07171188294887543 and parameters: {'gradient_clip_val': 0.1862241664170331, 'hidden_size': 25, 'dropout': 0.16216552085010874, 'hidden_continuous_size': 10, 'attention_head_size': 3, 'learning_rate': 0.010471285480508996}. Best is trial 20 with value: 0.03486982360482216.\u001b[0m\n",
      "LOCAL_RANK: 0 - CUDA_VISIBLE_DEVICES: [0]\n"
     ]
    },
    {
     "data": {
      "application/vnd.jupyter.widget-view+json": {
       "model_id": "35092f0e577a487e87d45449158ae46d",
       "version_major": 2,
       "version_minor": 0
      },
      "text/plain": [
       "Finding best initial lr:   0%|          | 0/100 [00:00<?, ?it/s]"
      ]
     },
     "metadata": {},
     "output_type": "display_data"
    },
    {
     "name": "stderr",
     "output_type": "stream",
     "text": [
      "Learning rate set to 0.0018197008586099835\n",
      "\u001b[32m[I 2023-04-30 17:05:20,186]\u001b[0m Using learning rate of 0.00182\u001b[0m\n",
      "LOCAL_RANK: 0 - CUDA_VISIBLE_DEVICES: [0]\n",
      "\u001b[32m[I 2023-04-30 17:05:55,306]\u001b[0m Trial 61 finished with value: 0.07106883078813553 and parameters: {'gradient_clip_val': 0.11383867309144428, 'hidden_size': 11, 'dropout': 0.12020086807266517, 'hidden_continuous_size': 8, 'attention_head_size': 4, 'learning_rate': 0.0018197008586099835}. Best is trial 20 with value: 0.03486982360482216.\u001b[0m\n",
      "LOCAL_RANK: 0 - CUDA_VISIBLE_DEVICES: [0]\n"
     ]
    },
    {
     "data": {
      "application/vnd.jupyter.widget-view+json": {
       "model_id": "a790f9e85e5146a4a60e418834fc3bf3",
       "version_major": 2,
       "version_minor": 0
      },
      "text/plain": [
       "Finding best initial lr:   0%|          | 0/100 [00:00<?, ?it/s]"
      ]
     },
     "metadata": {},
     "output_type": "display_data"
    },
    {
     "name": "stderr",
     "output_type": "stream",
     "text": [
      "Learning rate set to 0.018197008586099836\n",
      "\u001b[32m[I 2023-04-30 17:05:58,034]\u001b[0m Using learning rate of 0.0631\u001b[0m\n",
      "LOCAL_RANK: 0 - CUDA_VISIBLE_DEVICES: [0]\n",
      "\u001b[32m[I 2023-04-30 17:06:31,667]\u001b[0m Trial 62 finished with value: 0.06971897929906845 and parameters: {'gradient_clip_val': 0.12305388947435182, 'hidden_size': 16, 'dropout': 0.10544793314884539, 'hidden_continuous_size': 9, 'attention_head_size': 4, 'learning_rate': 0.06309573444801933}. Best is trial 20 with value: 0.03486982360482216.\u001b[0m\n",
      "LOCAL_RANK: 0 - CUDA_VISIBLE_DEVICES: [0]\n"
     ]
    },
    {
     "data": {
      "application/vnd.jupyter.widget-view+json": {
       "model_id": "6175f827a7dd4b149a5de9df8ab51b5f",
       "version_major": 2,
       "version_minor": 0
      },
      "text/plain": [
       "Finding best initial lr:   0%|          | 0/100 [00:00<?, ?it/s]"
      ]
     },
     "metadata": {},
     "output_type": "display_data"
    },
    {
     "name": "stderr",
     "output_type": "stream",
     "text": [
      "Learning rate set to 0.0019952623149688794\n",
      "\u001b[32m[I 2023-04-30 17:06:34,407]\u001b[0m Using learning rate of 0.00219\u001b[0m\n",
      "LOCAL_RANK: 0 - CUDA_VISIBLE_DEVICES: [0]\n",
      "\u001b[32m[I 2023-04-30 17:07:09,164]\u001b[0m Trial 63 finished with value: 0.08069690316915512 and parameters: {'gradient_clip_val': 0.13346710008165752, 'hidden_size': 10, 'dropout': 0.13790190977529412, 'hidden_continuous_size': 8, 'attention_head_size': 4, 'learning_rate': 0.0021877616239495525}. Best is trial 20 with value: 0.03486982360482216.\u001b[0m\n",
      "LOCAL_RANK: 0 - CUDA_VISIBLE_DEVICES: [0]\n"
     ]
    },
    {
     "data": {
      "application/vnd.jupyter.widget-view+json": {
       "model_id": "380ade54dd3e426b851fb1ccac0057fa",
       "version_major": 2,
       "version_minor": 0
      },
      "text/plain": [
       "Finding best initial lr:   0%|          | 0/100 [00:00<?, ?it/s]"
      ]
     },
     "metadata": {},
     "output_type": "display_data"
    },
    {
     "name": "stderr",
     "output_type": "stream",
     "text": [
      "Learning rate set to 0.0019054607179632473\n",
      "\u001b[32m[I 2023-04-30 17:07:11,841]\u001b[0m Using learning rate of 0.0038\u001b[0m\n",
      "LOCAL_RANK: 0 - CUDA_VISIBLE_DEVICES: [0]\n",
      "\u001b[32m[I 2023-04-30 17:07:44,864]\u001b[0m Trial 64 finished with value: 0.07560333609580994 and parameters: {'gradient_clip_val': 0.1457228262884331, 'hidden_size': 9, 'dropout': 0.12371196487983761, 'hidden_continuous_size': 8, 'attention_head_size': 2, 'learning_rate': 0.0038018939632056114}. Best is trial 20 with value: 0.03486982360482216.\u001b[0m\n",
      "LOCAL_RANK: 0 - CUDA_VISIBLE_DEVICES: [0]\n"
     ]
    },
    {
     "data": {
      "application/vnd.jupyter.widget-view+json": {
       "model_id": "c6c106cd40c142c39116de04c760481f",
       "version_major": 2,
       "version_minor": 0
      },
      "text/plain": [
       "Finding best initial lr:   0%|          | 0/100 [00:00<?, ?it/s]"
      ]
     },
     "metadata": {},
     "output_type": "display_data"
    },
    {
     "name": "stderr",
     "output_type": "stream",
     "text": [
      "Learning rate set to 0.0019054607179632473\n",
      "\u001b[32m[I 2023-04-30 17:07:47,611]\u001b[0m Using learning rate of 0.00363\u001b[0m\n",
      "LOCAL_RANK: 0 - CUDA_VISIBLE_DEVICES: [0]\n",
      "\u001b[32m[I 2023-04-30 17:08:22,475]\u001b[0m Trial 65 finished with value: 0.06850002706050873 and parameters: {'gradient_clip_val': 0.09440323696966649, 'hidden_size': 13, 'dropout': 0.1330769167199114, 'hidden_continuous_size': 11, 'attention_head_size': 4, 'learning_rate': 0.003630780547701014}. Best is trial 20 with value: 0.03486982360482216.\u001b[0m\n",
      "LOCAL_RANK: 0 - CUDA_VISIBLE_DEVICES: [0]\n"
     ]
    },
    {
     "data": {
      "application/vnd.jupyter.widget-view+json": {
       "model_id": "67140ddc9e204c64b3a3890d4688f7b4",
       "version_major": 2,
       "version_minor": 0
      },
      "text/plain": [
       "Finding best initial lr:   0%|          | 0/100 [00:00<?, ?it/s]"
      ]
     },
     "metadata": {},
     "output_type": "display_data"
    },
    {
     "name": "stderr",
     "output_type": "stream",
     "text": [
      "Learning rate set to 0.0038018939632056114\n",
      "\u001b[32m[I 2023-04-30 17:08:25,150]\u001b[0m Using learning rate of 0.0275\u001b[0m\n",
      "LOCAL_RANK: 0 - CUDA_VISIBLE_DEVICES: [0]\n",
      "\u001b[32m[I 2023-04-30 17:08:58,854]\u001b[0m Trial 66 finished with value: 0.08681712299585342 and parameters: {'gradient_clip_val': 0.18380798311106922, 'hidden_size': 10, 'dropout': 0.202695309277278, 'hidden_continuous_size': 8, 'attention_head_size': 2, 'learning_rate': 0.027542287033381664}. Best is trial 20 with value: 0.03486982360482216.\u001b[0m\n",
      "LOCAL_RANK: 0 - CUDA_VISIBLE_DEVICES: [0]\n"
     ]
    },
    {
     "data": {
      "application/vnd.jupyter.widget-view+json": {
       "model_id": "9c1c60fbd96f43a2a8b3d1f18cd6f6a1",
       "version_major": 2,
       "version_minor": 0
      },
      "text/plain": [
       "Finding best initial lr:   0%|          | 0/100 [00:00<?, ?it/s]"
      ]
     },
     "metadata": {},
     "output_type": "display_data"
    },
    {
     "name": "stderr",
     "output_type": "stream",
     "text": [
      "Learning rate set to 0.0022908676527677732\n",
      "\u001b[32m[I 2023-04-30 17:09:01,237]\u001b[0m Using learning rate of 0.0105\u001b[0m\n",
      "LOCAL_RANK: 0 - CUDA_VISIBLE_DEVICES: [0]\n",
      "\u001b[32m[I 2023-04-30 17:09:30,560]\u001b[0m Trial 67 finished with value: 0.10913959890604019 and parameters: {'gradient_clip_val': 0.2379849696384819, 'hidden_size': 8, 'dropout': 0.15701142959283035, 'hidden_continuous_size': 8, 'attention_head_size': 2, 'learning_rate': 0.010471285480508996}. Best is trial 20 with value: 0.03486982360482216.\u001b[0m\n",
      "LOCAL_RANK: 0 - CUDA_VISIBLE_DEVICES: [0]\n"
     ]
    },
    {
     "data": {
      "application/vnd.jupyter.widget-view+json": {
       "model_id": "ca72d36f34df4b7bb08d6bfe308f5a82",
       "version_major": 2,
       "version_minor": 0
      },
      "text/plain": [
       "Finding best initial lr:   0%|          | 0/100 [00:00<?, ?it/s]"
      ]
     },
     "metadata": {},
     "output_type": "display_data"
    },
    {
     "name": "stderr",
     "output_type": "stream",
     "text": [
      "Learning rate set to 0.0025118864315095803\n",
      "\u001b[32m[I 2023-04-30 17:09:33,238]\u001b[0m Using learning rate of 0.0182\u001b[0m\n",
      "LOCAL_RANK: 0 - CUDA_VISIBLE_DEVICES: [0]\n",
      "\u001b[32m[I 2023-04-30 17:10:07,044]\u001b[0m Trial 68 finished with value: 0.05942867696285248 and parameters: {'gradient_clip_val': 0.16308083611824908, 'hidden_size': 11, 'dropout': 0.19289812104958637, 'hidden_continuous_size': 10, 'attention_head_size': 2, 'learning_rate': 0.018197008586099836}. Best is trial 20 with value: 0.03486982360482216.\u001b[0m\n",
      "LOCAL_RANK: 0 - CUDA_VISIBLE_DEVICES: [0]\n"
     ]
    },
    {
     "data": {
      "application/vnd.jupyter.widget-view+json": {
       "model_id": "29ec0b7dd09844e789aa144a7f24d58a",
       "version_major": 2,
       "version_minor": 0
      },
      "text/plain": [
       "Finding best initial lr:   0%|          | 0/100 [00:00<?, ?it/s]"
      ]
     },
     "metadata": {},
     "output_type": "display_data"
    },
    {
     "name": "stderr",
     "output_type": "stream",
     "text": [
      "Learning rate set to 0.0016595869074375606\n",
      "\u001b[32m[I 2023-04-30 17:10:09,782]\u001b[0m Using learning rate of 0.0263\u001b[0m\n",
      "LOCAL_RANK: 0 - CUDA_VISIBLE_DEVICES: [0]\n",
      "\u001b[32m[I 2023-04-30 17:10:43,567]\u001b[0m Trial 69 finished with value: 0.05305860564112663 and parameters: {'gradient_clip_val': 0.7418677240415635, 'hidden_size': 12, 'dropout': 0.17786396627721796, 'hidden_continuous_size': 10, 'attention_head_size': 4, 'learning_rate': 0.026302679918953815}. Best is trial 20 with value: 0.03486982360482216.\u001b[0m\n",
      "LOCAL_RANK: 0 - CUDA_VISIBLE_DEVICES: [0]\n"
     ]
    },
    {
     "data": {
      "application/vnd.jupyter.widget-view+json": {
       "model_id": "6e8ffdded1e84b8da199661cdb97a992",
       "version_major": 2,
       "version_minor": 0
      },
      "text/plain": [
       "Finding best initial lr:   0%|          | 0/100 [00:00<?, ?it/s]"
      ]
     },
     "metadata": {},
     "output_type": "display_data"
    },
    {
     "name": "stderr",
     "output_type": "stream",
     "text": [
      "Learning rate set to 0.0069183097091893644\n",
      "\u001b[32m[I 2023-04-30 17:10:46,271]\u001b[0m Using learning rate of 0.00692\u001b[0m\n",
      "LOCAL_RANK: 0 - CUDA_VISIBLE_DEVICES: [0]\n",
      "\u001b[32m[I 2023-04-30 17:11:20,752]\u001b[0m Trial 70 finished with value: 0.05153827741742134 and parameters: {'gradient_clip_val': 0.5152650638063255, 'hidden_size': 14, 'dropout': 0.16891808714294237, 'hidden_continuous_size': 9, 'attention_head_size': 3, 'learning_rate': 0.0069183097091893644}. Best is trial 20 with value: 0.03486982360482216.\u001b[0m\n",
      "LOCAL_RANK: 0 - CUDA_VISIBLE_DEVICES: [0]\n"
     ]
    },
    {
     "data": {
      "application/vnd.jupyter.widget-view+json": {
       "model_id": "7758c0bf9f13466bab69ffc5a3154ebf",
       "version_major": 2,
       "version_minor": 0
      },
      "text/plain": [
       "Finding best initial lr:   0%|          | 0/100 [00:00<?, ?it/s]"
      ]
     },
     "metadata": {},
     "output_type": "display_data"
    },
    {
     "name": "stderr",
     "output_type": "stream",
     "text": [
      "Learning rate set to 0.0019054607179632473\n",
      "\u001b[32m[I 2023-04-30 17:11:23,612]\u001b[0m Using learning rate of 0.00759\u001b[0m\n",
      "LOCAL_RANK: 0 - CUDA_VISIBLE_DEVICES: [0]\n",
      "\u001b[32m[I 2023-04-30 17:11:56,268]\u001b[0m Trial 71 finished with value: 0.09561938047409058 and parameters: {'gradient_clip_val': 0.02277350161882896, 'hidden_size': 59, 'dropout': 0.14209378904457137, 'hidden_continuous_size': 56, 'attention_head_size': 1, 'learning_rate': 0.007585775750291838}. Best is trial 20 with value: 0.03486982360482216.\u001b[0m\n",
      "LOCAL_RANK: 0 - CUDA_VISIBLE_DEVICES: [0]\n"
     ]
    },
    {
     "data": {
      "application/vnd.jupyter.widget-view+json": {
       "model_id": "bbbccad81832473dbdcd7267e0785834",
       "version_major": 2,
       "version_minor": 0
      },
      "text/plain": [
       "Finding best initial lr:   0%|          | 0/100 [00:00<?, ?it/s]"
      ]
     },
     "metadata": {},
     "output_type": "display_data"
    },
    {
     "name": "stderr",
     "output_type": "stream",
     "text": [
      "Learning rate set to 0.0027542287033381664\n",
      "\u001b[32m[I 2023-04-30 17:11:58,925]\u001b[0m Using learning rate of 0.00525\u001b[0m\n",
      "LOCAL_RANK: 0 - CUDA_VISIBLE_DEVICES: [0]\n",
      "\u001b[32m[I 2023-04-30 17:12:32,539]\u001b[0m Trial 72 finished with value: 0.06824403256177902 and parameters: {'gradient_clip_val': 0.01115399989385996, 'hidden_size': 128, 'dropout': 0.1272980464651173, 'hidden_continuous_size': 29, 'attention_head_size': 1, 'learning_rate': 0.0052480746024977255}. Best is trial 20 with value: 0.03486982360482216.\u001b[0m\n",
      "LOCAL_RANK: 0 - CUDA_VISIBLE_DEVICES: [0]\n"
     ]
    },
    {
     "data": {
      "application/vnd.jupyter.widget-view+json": {
       "model_id": "5d756c0edb1943cd95060fb301dd4662",
       "version_major": 2,
       "version_minor": 0
      },
      "text/plain": [
       "Finding best initial lr:   0%|          | 0/100 [00:00<?, ?it/s]"
      ]
     },
     "metadata": {},
     "output_type": "display_data"
    },
    {
     "name": "stderr",
     "output_type": "stream",
     "text": [
      "Learning rate set to 0.0021877616239495525\n",
      "\u001b[32m[I 2023-04-30 17:12:35,171]\u001b[0m Using learning rate of 0.0417\u001b[0m\n",
      "LOCAL_RANK: 0 - CUDA_VISIBLE_DEVICES: [0]\n",
      "\u001b[32m[I 2023-04-30 17:13:08,636]\u001b[0m Trial 73 finished with value: 0.038837980479002 and parameters: {'gradient_clip_val': 0.10339538605296134, 'hidden_size': 20, 'dropout': 0.1477010774572734, 'hidden_continuous_size': 13, 'attention_head_size': 1, 'learning_rate': 0.041686938347033554}. Best is trial 20 with value: 0.03486982360482216.\u001b[0m\n",
      "LOCAL_RANK: 0 - CUDA_VISIBLE_DEVICES: [0]\n"
     ]
    },
    {
     "data": {
      "application/vnd.jupyter.widget-view+json": {
       "model_id": "f21bb2b58f384d37ad045abb3512de3d",
       "version_major": 2,
       "version_minor": 0
      },
      "text/plain": [
       "Finding best initial lr:   0%|          | 0/100 [00:00<?, ?it/s]"
      ]
     },
     "metadata": {},
     "output_type": "display_data"
    },
    {
     "name": "stderr",
     "output_type": "stream",
     "text": [
      "Learning rate set to 0.0019054607179632473\n",
      "\u001b[32m[I 2023-04-30 17:13:11,276]\u001b[0m Using learning rate of 0.0024\u001b[0m\n",
      "LOCAL_RANK: 0 - CUDA_VISIBLE_DEVICES: [0]\n",
      "\u001b[32m[I 2023-04-30 17:13:43,986]\u001b[0m Trial 74 finished with value: 0.07828312367200851 and parameters: {'gradient_clip_val': 0.10690614268094023, 'hidden_size': 19, 'dropout': 0.15071240240534423, 'hidden_continuous_size': 13, 'attention_head_size': 1, 'learning_rate': 0.0023988329190194903}. Best is trial 20 with value: 0.03486982360482216.\u001b[0m\n",
      "LOCAL_RANK: 0 - CUDA_VISIBLE_DEVICES: [0]\n"
     ]
    },
    {
     "data": {
      "application/vnd.jupyter.widget-view+json": {
       "model_id": "5ef1cbce55b64532a39d6c72f9fc4e47",
       "version_major": 2,
       "version_minor": 0
      },
      "text/plain": [
       "Finding best initial lr:   0%|          | 0/100 [00:00<?, ?it/s]"
      ]
     },
     "metadata": {},
     "output_type": "display_data"
    },
    {
     "name": "stderr",
     "output_type": "stream",
     "text": [
      "Learning rate set to 0.0019952623149688794\n",
      "\u001b[32m[I 2023-04-30 17:13:46,696]\u001b[0m Using learning rate of 0.0251\u001b[0m\n",
      "LOCAL_RANK: 0 - CUDA_VISIBLE_DEVICES: [0]\n",
      "\u001b[32m[I 2023-04-30 17:14:20,991]\u001b[0m Trial 75 finished with value: 0.08520909398794174 and parameters: {'gradient_clip_val': 0.09494569002561849, 'hidden_size': 21, 'dropout': 0.13689301264881124, 'hidden_continuous_size': 13, 'attention_head_size': 3, 'learning_rate': 0.025118864315095794}. Best is trial 20 with value: 0.03486982360482216.\u001b[0m\n",
      "LOCAL_RANK: 0 - CUDA_VISIBLE_DEVICES: [0]\n"
     ]
    },
    {
     "data": {
      "application/vnd.jupyter.widget-view+json": {
       "model_id": "8a5cf6cb2c154306b0e85fc9e4b97428",
       "version_major": 2,
       "version_minor": 0
      },
      "text/plain": [
       "Finding best initial lr:   0%|          | 0/100 [00:00<?, ?it/s]"
      ]
     },
     "metadata": {},
     "output_type": "display_data"
    },
    {
     "name": "stderr",
     "output_type": "stream",
     "text": [
      "Learning rate set to 0.003019951720402016\n",
      "\u001b[32m[I 2023-04-30 17:14:23,627]\u001b[0m Using learning rate of 0.00316\u001b[0m\n",
      "LOCAL_RANK: 0 - CUDA_VISIBLE_DEVICES: [0]\n",
      "\u001b[32m[I 2023-04-30 17:14:56,204]\u001b[0m Trial 76 finished with value: 0.0468812920153141 and parameters: {'gradient_clip_val': 0.14185656405954394, 'hidden_size': 10, 'dropout': 0.18661880524892957, 'hidden_continuous_size': 9, 'attention_head_size': 1, 'learning_rate': 0.0031622776601683794}. Best is trial 20 with value: 0.03486982360482216.\u001b[0m\n",
      "LOCAL_RANK: 0 - CUDA_VISIBLE_DEVICES: [0]\n"
     ]
    },
    {
     "data": {
      "application/vnd.jupyter.widget-view+json": {
       "model_id": "190221d8b4b344b5adad38b9efa01664",
       "version_major": 2,
       "version_minor": 0
      },
      "text/plain": [
       "Finding best initial lr:   0%|          | 0/100 [00:00<?, ?it/s]"
      ]
     },
     "metadata": {},
     "output_type": "display_data"
    },
    {
     "name": "stderr",
     "output_type": "stream",
     "text": [
      "Learning rate set to 0.0019952623149688794\n",
      "\u001b[32m[I 2023-04-30 17:14:58,829]\u001b[0m Using learning rate of 0.0575\u001b[0m\n",
      "LOCAL_RANK: 0 - CUDA_VISIBLE_DEVICES: [0]\n",
      "\u001b[32m[I 2023-04-30 17:15:32,220]\u001b[0m Trial 77 finished with value: 0.03491011634469032 and parameters: {'gradient_clip_val': 0.14338900360447787, 'hidden_size': 9, 'dropout': 0.1840059964660556, 'hidden_continuous_size': 8, 'attention_head_size': 1, 'learning_rate': 0.057543993733715694}. Best is trial 20 with value: 0.03486982360482216.\u001b[0m\n",
      "LOCAL_RANK: 0 - CUDA_VISIBLE_DEVICES: [0]\n"
     ]
    },
    {
     "data": {
      "application/vnd.jupyter.widget-view+json": {
       "model_id": "2264700954ff415a9a7095fcc12727c3",
       "version_major": 2,
       "version_minor": 0
      },
      "text/plain": [
       "Finding best initial lr:   0%|          | 0/100 [00:00<?, ?it/s]"
      ]
     },
     "metadata": {},
     "output_type": "display_data"
    },
    {
     "name": "stderr",
     "output_type": "stream",
     "text": [
      "Learning rate set to 0.0019054607179632473\n",
      "\u001b[32m[I 2023-04-30 17:15:34,858]\u001b[0m Using learning rate of 0.002\u001b[0m\n",
      "LOCAL_RANK: 0 - CUDA_VISIBLE_DEVICES: [0]\n",
      "\u001b[32m[I 2023-04-30 17:16:08,354]\u001b[0m Trial 78 finished with value: 0.047366317361593246 and parameters: {'gradient_clip_val': 0.1957390456413018, 'hidden_size': 23, 'dropout': 0.17111316632159396, 'hidden_continuous_size': 15, 'attention_head_size': 1, 'learning_rate': 0.0019952623149688794}. Best is trial 20 with value: 0.03486982360482216.\u001b[0m\n",
      "LOCAL_RANK: 0 - CUDA_VISIBLE_DEVICES: [0]\n"
     ]
    },
    {
     "data": {
      "application/vnd.jupyter.widget-view+json": {
       "model_id": "9fa1f55c9e2b45869683bad0fc12fe42",
       "version_major": 2,
       "version_minor": 0
      },
      "text/plain": [
       "Finding best initial lr:   0%|          | 0/100 [00:00<?, ?it/s]"
      ]
     },
     "metadata": {},
     "output_type": "display_data"
    },
    {
     "name": "stderr",
     "output_type": "stream",
     "text": [
      "Learning rate set to 0.027542287033381664\n",
      "\u001b[32m[I 2023-04-30 17:16:10,988]\u001b[0m Using learning rate of 0.0398\u001b[0m\n",
      "LOCAL_RANK: 0 - CUDA_VISIBLE_DEVICES: [0]\n",
      "\u001b[32m[I 2023-04-30 17:16:45,175]\u001b[0m Trial 79 finished with value: 0.06600359082221985 and parameters: {'gradient_clip_val': 0.21363146809072345, 'hidden_size': 9, 'dropout': 0.18321931234081118, 'hidden_continuous_size': 8, 'attention_head_size': 1, 'learning_rate': 0.039810717055349734}. Best is trial 20 with value: 0.03486982360482216.\u001b[0m\n",
      "LOCAL_RANK: 0 - CUDA_VISIBLE_DEVICES: [0]\n"
     ]
    },
    {
     "data": {
      "application/vnd.jupyter.widget-view+json": {
       "model_id": "2bf7eaf2501a45a5bbb077100d2933da",
       "version_major": 2,
       "version_minor": 0
      },
      "text/plain": [
       "Finding best initial lr:   0%|          | 0/100 [00:00<?, ?it/s]"
      ]
     },
     "metadata": {},
     "output_type": "display_data"
    },
    {
     "name": "stderr",
     "output_type": "stream",
     "text": [
      "Learning rate set to 0.0016595869074375606\n",
      "\u001b[32m[I 2023-04-30 17:16:48,018]\u001b[0m Using learning rate of 0.0055\u001b[0m\n",
      "LOCAL_RANK: 0 - CUDA_VISIBLE_DEVICES: [0]\n",
      "\u001b[32m[I 2023-04-30 17:17:21,944]\u001b[0m Trial 80 finished with value: 0.08710870891809464 and parameters: {'gradient_clip_val': 0.2647302320639964, 'hidden_size': 29, 'dropout': 0.192620423462275, 'hidden_continuous_size': 11, 'attention_head_size': 1, 'learning_rate': 0.0054954087385762455}. Best is trial 20 with value: 0.03486982360482216.\u001b[0m\n",
      "LOCAL_RANK: 0 - CUDA_VISIBLE_DEVICES: [0]\n"
     ]
    },
    {
     "data": {
      "application/vnd.jupyter.widget-view+json": {
       "model_id": "4a104f279f744e1abb8f9029af65c3c3",
       "version_major": 2,
       "version_minor": 0
      },
      "text/plain": [
       "Finding best initial lr:   0%|          | 0/100 [00:00<?, ?it/s]"
      ]
     },
     "metadata": {},
     "output_type": "display_data"
    },
    {
     "name": "stderr",
     "output_type": "stream",
     "text": [
      "Learning rate set to 0.0016595869074375606\n",
      "\u001b[32m[I 2023-04-30 17:17:24,333]\u001b[0m Using learning rate of 0.00229\u001b[0m\n",
      "LOCAL_RANK: 0 - CUDA_VISIBLE_DEVICES: [0]\n",
      "\u001b[32m[I 2023-04-30 17:17:53,705]\u001b[0m Trial 81 finished with value: 0.04978475347161293 and parameters: {'gradient_clip_val': 0.1499878501138675, 'hidden_size': 8, 'dropout': 0.18532621743131186, 'hidden_continuous_size': 8, 'attention_head_size': 1, 'learning_rate': 0.0022908676527677732}. Best is trial 20 with value: 0.03486982360482216.\u001b[0m\n",
      "LOCAL_RANK: 0 - CUDA_VISIBLE_DEVICES: [0]\n"
     ]
    },
    {
     "data": {
      "application/vnd.jupyter.widget-view+json": {
       "model_id": "ee68b45f20d6441c95864ce014d9338f",
       "version_major": 2,
       "version_minor": 0
      },
      "text/plain": [
       "Finding best initial lr:   0%|          | 0/100 [00:00<?, ?it/s]"
      ]
     },
     "metadata": {},
     "output_type": "display_data"
    },
    {
     "name": "stderr",
     "output_type": "stream",
     "text": [
      "Learning rate set to 0.0019952623149688794\n",
      "\u001b[32m[I 2023-04-30 17:17:56,089]\u001b[0m Using learning rate of 0.00347\u001b[0m\n",
      "LOCAL_RANK: 0 - CUDA_VISIBLE_DEVICES: [0]\n",
      "\u001b[32m[I 2023-04-30 17:18:26,508]\u001b[0m Trial 82 finished with value: 0.0482712984085083 and parameters: {'gradient_clip_val': 0.17275503303128847, 'hidden_size': 9, 'dropout': 0.17803177951038548, 'hidden_continuous_size': 9, 'attention_head_size': 1, 'learning_rate': 0.0034673685045253167}. Best is trial 20 with value: 0.03486982360482216.\u001b[0m\n",
      "LOCAL_RANK: 0 - CUDA_VISIBLE_DEVICES: [0]\n"
     ]
    },
    {
     "data": {
      "application/vnd.jupyter.widget-view+json": {
       "model_id": "82b5456a2785451e9daab95cd743a6f0",
       "version_major": 2,
       "version_minor": 0
      },
      "text/plain": [
       "Finding best initial lr:   0%|          | 0/100 [00:00<?, ?it/s]"
      ]
     },
     "metadata": {},
     "output_type": "display_data"
    },
    {
     "name": "stderr",
     "output_type": "stream",
     "text": [
      "Learning rate set to 0.0016595869074375606\n",
      "\u001b[32m[I 2023-04-30 17:18:28,886]\u001b[0m Using learning rate of 0.0024\u001b[0m\n",
      "LOCAL_RANK: 0 - CUDA_VISIBLE_DEVICES: [0]\n",
      "\u001b[32m[I 2023-04-30 17:18:58,207]\u001b[0m Trial 83 finished with value: 0.06925898045301437 and parameters: {'gradient_clip_val': 0.3036110909540139, 'hidden_size': 8, 'dropout': 0.1875580961666797, 'hidden_continuous_size': 8, 'attention_head_size': 1, 'learning_rate': 0.0023988329190194903}. Best is trial 20 with value: 0.03486982360482216.\u001b[0m\n",
      "LOCAL_RANK: 0 - CUDA_VISIBLE_DEVICES: [0]\n"
     ]
    },
    {
     "data": {
      "application/vnd.jupyter.widget-view+json": {
       "model_id": "b7cf8eecf6e24de0b4e199103643703d",
       "version_major": 2,
       "version_minor": 0
      },
      "text/plain": [
       "Finding best initial lr:   0%|          | 0/100 [00:00<?, ?it/s]"
      ]
     },
     "metadata": {},
     "output_type": "display_data"
    },
    {
     "name": "stderr",
     "output_type": "stream",
     "text": [
      "Learning rate set to 0.0016595869074375606\n",
      "\u001b[32m[I 2023-04-30 17:19:00,592]\u001b[0m Using learning rate of 0.0251\u001b[0m\n",
      "LOCAL_RANK: 0 - CUDA_VISIBLE_DEVICES: [0]\n",
      "\u001b[32m[I 2023-04-30 17:19:30,763]\u001b[0m Trial 84 finished with value: 0.07058996707201004 and parameters: {'gradient_clip_val': 0.1375724913563187, 'hidden_size': 9, 'dropout': 0.19783039216749929, 'hidden_continuous_size': 9, 'attention_head_size': 1, 'learning_rate': 0.025118864315095794}. Best is trial 20 with value: 0.03486982360482216.\u001b[0m\n",
      "LOCAL_RANK: 0 - CUDA_VISIBLE_DEVICES: [0]\n"
     ]
    },
    {
     "data": {
      "application/vnd.jupyter.widget-view+json": {
       "model_id": "ac03a72e4cf94256a0319e9a141eb6df",
       "version_major": 2,
       "version_minor": 0
      },
      "text/plain": [
       "Finding best initial lr:   0%|          | 0/100 [00:00<?, ?it/s]"
      ]
     },
     "metadata": {},
     "output_type": "display_data"
    },
    {
     "name": "stderr",
     "output_type": "stream",
     "text": [
      "Learning rate set to 0.0034673685045253167\n",
      "\u001b[32m[I 2023-04-30 17:19:33,425]\u001b[0m Using learning rate of 0.0275\u001b[0m\n",
      "LOCAL_RANK: 0 - CUDA_VISIBLE_DEVICES: [0]\n",
      "\u001b[32m[I 2023-04-30 17:20:07,023]\u001b[0m Trial 85 finished with value: 0.030839161947369576 and parameters: {'gradient_clip_val': 0.07722552005774576, 'hidden_size': 11, 'dropout': 0.2016589910911832, 'hidden_continuous_size': 9, 'attention_head_size': 1, 'learning_rate': 0.027542287033381664}. Best is trial 85 with value: 0.030839161947369576.\u001b[0m\n",
      "LOCAL_RANK: 0 - CUDA_VISIBLE_DEVICES: [0]\n"
     ]
    },
    {
     "data": {
      "application/vnd.jupyter.widget-view+json": {
       "model_id": "5ce6612c8c2046bbb2c567ba4fd4da2d",
       "version_major": 2,
       "version_minor": 0
      },
      "text/plain": [
       "Finding best initial lr:   0%|          | 0/100 [00:00<?, ?it/s]"
      ]
     },
     "metadata": {},
     "output_type": "display_data"
    },
    {
     "name": "stderr",
     "output_type": "stream",
     "text": [
      "Learning rate set to 0.0019952623149688794\n",
      "\u001b[32m[I 2023-04-30 17:20:09,774]\u001b[0m Using learning rate of 0.00457\u001b[0m\n",
      "LOCAL_RANK: 0 - CUDA_VISIBLE_DEVICES: [0]\n",
      "\u001b[32m[I 2023-04-30 17:20:43,486]\u001b[0m Trial 86 finished with value: 0.053455810993909836 and parameters: {'gradient_clip_val': 0.07247043952107836, 'hidden_size': 25, 'dropout': 0.20197630277054837, 'hidden_continuous_size': 16, 'attention_head_size': 3, 'learning_rate': 0.00457088189614875}. Best is trial 85 with value: 0.030839161947369576.\u001b[0m\n",
      "LOCAL_RANK: 0 - CUDA_VISIBLE_DEVICES: [0]\n"
     ]
    },
    {
     "data": {
      "application/vnd.jupyter.widget-view+json": {
       "model_id": "51359f7afb1a4c2d843afb3e2166c28a",
       "version_major": 2,
       "version_minor": 0
      },
      "text/plain": [
       "Finding best initial lr:   0%|          | 0/100 [00:00<?, ?it/s]"
      ]
     },
     "metadata": {},
     "output_type": "display_data"
    },
    {
     "name": "stderr",
     "output_type": "stream",
     "text": [
      "Learning rate set to 0.0027542287033381664\n",
      "\u001b[32m[I 2023-04-30 17:20:46,133]\u001b[0m Using learning rate of 0.0055\u001b[0m\n",
      "LOCAL_RANK: 0 - CUDA_VISIBLE_DEVICES: [0]\n",
      "\u001b[32m[I 2023-04-30 17:21:19,806]\u001b[0m Trial 87 finished with value: 0.03685301914811134 and parameters: {'gradient_clip_val': 0.08584792402092, 'hidden_size': 12, 'dropout': 0.21338843739986949, 'hidden_continuous_size': 10, 'attention_head_size': 1, 'learning_rate': 0.0054954087385762455}. Best is trial 85 with value: 0.030839161947369576.\u001b[0m\n",
      "LOCAL_RANK: 0 - CUDA_VISIBLE_DEVICES: [0]\n"
     ]
    },
    {
     "data": {
      "application/vnd.jupyter.widget-view+json": {
       "model_id": "348cd7fa05f045e09f660b981a0d956a",
       "version_major": 2,
       "version_minor": 0
      },
      "text/plain": [
       "Finding best initial lr:   0%|          | 0/100 [00:00<?, ?it/s]"
      ]
     },
     "metadata": {},
     "output_type": "display_data"
    },
    {
     "name": "stderr",
     "output_type": "stream",
     "text": [
      "Learning rate set to 0.0025118864315095803\n",
      "\u001b[32m[I 2023-04-30 17:21:22,496]\u001b[0m Using learning rate of 0.00263\u001b[0m\n",
      "LOCAL_RANK: 0 - CUDA_VISIBLE_DEVICES: [0]\n",
      "\u001b[32m[I 2023-04-30 17:21:55,359]\u001b[0m Trial 88 finished with value: 0.07377836853265762 and parameters: {'gradient_clip_val': 0.08552141875774366, 'hidden_size': 11, 'dropout': 0.21806747747824487, 'hidden_continuous_size': 10, 'attention_head_size': 1, 'learning_rate': 0.0026302679918953817}. Best is trial 85 with value: 0.030839161947369576.\u001b[0m\n",
      "LOCAL_RANK: 0 - CUDA_VISIBLE_DEVICES: [0]\n"
     ]
    },
    {
     "data": {
      "application/vnd.jupyter.widget-view+json": {
       "model_id": "3f480cd43cb6408985f379a3db775921",
       "version_major": 2,
       "version_minor": 0
      },
      "text/plain": [
       "Finding best initial lr:   0%|          | 0/100 [00:00<?, ?it/s]"
      ]
     },
     "metadata": {},
     "output_type": "display_data"
    },
    {
     "name": "stderr",
     "output_type": "stream",
     "text": [
      "Learning rate set to 0.0022908676527677732\n",
      "\u001b[32m[I 2023-04-30 17:21:58,053]\u001b[0m Using learning rate of 0.0251\u001b[0m\n",
      "LOCAL_RANK: 0 - CUDA_VISIBLE_DEVICES: [0]\n",
      "\u001b[32m[I 2023-04-30 17:22:31,665]\u001b[0m Trial 89 finished with value: 0.0979241132736206 and parameters: {'gradient_clip_val': 0.10624042473390388, 'hidden_size': 17, 'dropout': 0.2093440617693747, 'hidden_continuous_size': 11, 'attention_head_size': 1, 'learning_rate': 0.025118864315095794}. Best is trial 85 with value: 0.030839161947369576.\u001b[0m\n",
      "LOCAL_RANK: 0 - CUDA_VISIBLE_DEVICES: [0]\n"
     ]
    },
    {
     "data": {
      "application/vnd.jupyter.widget-view+json": {
       "model_id": "ecab3ce7d9ca4f3d97f4256a5432efc1",
       "version_major": 2,
       "version_minor": 0
      },
      "text/plain": [
       "Finding best initial lr:   0%|          | 0/100 [00:00<?, ?it/s]"
      ]
     },
     "metadata": {},
     "output_type": "display_data"
    },
    {
     "name": "stderr",
     "output_type": "stream",
     "text": [
      "Learning rate set to 0.00208929613085404\n",
      "\u001b[32m[I 2023-04-30 17:22:34,316]\u001b[0m Using learning rate of 0.00871\u001b[0m\n",
      "LOCAL_RANK: 0 - CUDA_VISIBLE_DEVICES: [0]\n",
      "\u001b[32m[I 2023-04-30 17:23:06,870]\u001b[0m Trial 90 finished with value: 0.06723607331514359 and parameters: {'gradient_clip_val': 0.0770292680683582, 'hidden_size': 12, 'dropout': 0.1935968626609373, 'hidden_continuous_size': 10, 'attention_head_size': 1, 'learning_rate': 0.008709635899560805}. Best is trial 85 with value: 0.030839161947369576.\u001b[0m\n",
      "LOCAL_RANK: 0 - CUDA_VISIBLE_DEVICES: [0]\n"
     ]
    },
    {
     "data": {
      "application/vnd.jupyter.widget-view+json": {
       "model_id": "d72e07a184bc430b9555375dd01ca8b8",
       "version_major": 2,
       "version_minor": 0
      },
      "text/plain": [
       "Finding best initial lr:   0%|          | 0/100 [00:00<?, ?it/s]"
      ]
     },
     "metadata": {},
     "output_type": "display_data"
    },
    {
     "name": "stderr",
     "output_type": "stream",
     "text": [
      "Learning rate set to 0.0019952623149688794\n",
      "\u001b[32m[I 2023-04-30 17:23:09,535]\u001b[0m Using learning rate of 0.0263\u001b[0m\n",
      "LOCAL_RANK: 0 - CUDA_VISIBLE_DEVICES: [0]\n",
      "\u001b[32m[I 2023-04-30 17:23:43,275]\u001b[0m Trial 91 finished with value: 0.08371182531118393 and parameters: {'gradient_clip_val': 0.06439932470406869, 'hidden_size': 14, 'dropout': 0.2032182777429972, 'hidden_continuous_size': 10, 'attention_head_size': 1, 'learning_rate': 0.026302679918953815}. Best is trial 85 with value: 0.030839161947369576.\u001b[0m\n",
      "LOCAL_RANK: 0 - CUDA_VISIBLE_DEVICES: [0]\n"
     ]
    },
    {
     "data": {
      "application/vnd.jupyter.widget-view+json": {
       "model_id": "c8ef1c0c1f2d418f9b2d062cc45b21d6",
       "version_major": 2,
       "version_minor": 0
      },
      "text/plain": [
       "Finding best initial lr:   0%|          | 0/100 [00:00<?, ?it/s]"
      ]
     },
     "metadata": {},
     "output_type": "display_data"
    },
    {
     "name": "stderr",
     "output_type": "stream",
     "text": [
      "Learning rate set to 0.0047863009232263845\n",
      "\u001b[32m[I 2023-04-30 17:23:45,947]\u001b[0m Using learning rate of 0.00288\u001b[0m\n",
      "LOCAL_RANK: 0 - CUDA_VISIBLE_DEVICES: [0]\n",
      "\u001b[32m[I 2023-04-30 17:24:19,932]\u001b[0m Trial 92 finished with value: 0.04432433843612671 and parameters: {'gradient_clip_val': 0.09730730036137787, 'hidden_size': 15, 'dropout': 0.18926745348905064, 'hidden_continuous_size': 11, 'attention_head_size': 1, 'learning_rate': 0.002884031503126606}. Best is trial 85 with value: 0.030839161947369576.\u001b[0m\n",
      "LOCAL_RANK: 0 - CUDA_VISIBLE_DEVICES: [0]\n"
     ]
    },
    {
     "data": {
      "application/vnd.jupyter.widget-view+json": {
       "model_id": "a4ebf3b7dbec4f578eb834aea9d5c296",
       "version_major": 2,
       "version_minor": 0
      },
      "text/plain": [
       "Finding best initial lr:   0%|          | 0/100 [00:00<?, ?it/s]"
      ]
     },
     "metadata": {},
     "output_type": "display_data"
    },
    {
     "name": "stderr",
     "output_type": "stream",
     "text": [
      "Learning rate set to 0.0025118864315095803\n",
      "\u001b[32m[I 2023-04-30 17:24:22,597]\u001b[0m Using learning rate of 0.00724\u001b[0m\n",
      "LOCAL_RANK: 0 - CUDA_VISIBLE_DEVICES: [0]\n",
      "\u001b[32m[I 2023-04-30 17:24:55,393]\u001b[0m Trial 93 finished with value: 0.05345585569739342 and parameters: {'gradient_clip_val': 0.08740991603580991, 'hidden_size': 15, 'dropout': 0.19634793629005604, 'hidden_continuous_size': 12, 'attention_head_size': 1, 'learning_rate': 0.007244359600749901}. Best is trial 85 with value: 0.030839161947369576.\u001b[0m\n",
      "LOCAL_RANK: 0 - CUDA_VISIBLE_DEVICES: [0]\n"
     ]
    },
    {
     "data": {
      "application/vnd.jupyter.widget-view+json": {
       "model_id": "e0b2a487da5a4e719aa9e920191c7999",
       "version_major": 2,
       "version_minor": 0
      },
      "text/plain": [
       "Finding best initial lr:   0%|          | 0/100 [00:00<?, ?it/s]"
      ]
     },
     "metadata": {},
     "output_type": "display_data"
    },
    {
     "name": "stderr",
     "output_type": "stream",
     "text": [
      "Learning rate set to 0.0017378008287493754\n",
      "\u001b[32m[I 2023-04-30 17:24:58,044]\u001b[0m Using learning rate of 0.02\u001b[0m\n",
      "LOCAL_RANK: 0 - CUDA_VISIBLE_DEVICES: [0]\n",
      "\u001b[32m[I 2023-04-30 17:25:31,596]\u001b[0m Trial 94 finished with value: 0.07054463773965836 and parameters: {'gradient_clip_val': 0.10207734405797736, 'hidden_size': 16, 'dropout': 0.17440624459687834, 'hidden_continuous_size': 11, 'attention_head_size': 1, 'learning_rate': 0.0199526231496888}. Best is trial 85 with value: 0.030839161947369576.\u001b[0m\n",
      "LOCAL_RANK: 0 - CUDA_VISIBLE_DEVICES: [0]\n"
     ]
    },
    {
     "data": {
      "application/vnd.jupyter.widget-view+json": {
       "model_id": "cc074a7ac33f4b8395387382420dff26",
       "version_major": 2,
       "version_minor": 0
      },
      "text/plain": [
       "Finding best initial lr:   0%|          | 0/100 [00:00<?, ?it/s]"
      ]
     },
     "metadata": {},
     "output_type": "display_data"
    },
    {
     "name": "stderr",
     "output_type": "stream",
     "text": [
      "Learning rate set to 0.013803842646028847\n",
      "\u001b[32m[I 2023-04-30 17:25:34,262]\u001b[0m Using learning rate of 0.00955\u001b[0m\n",
      "LOCAL_RANK: 0 - CUDA_VISIBLE_DEVICES: [0]\n",
      "\u001b[32m[I 2023-04-30 17:26:07,004]\u001b[0m Trial 95 finished with value: 0.052759621292352676 and parameters: {'gradient_clip_val': 0.11262938505824092, 'hidden_size': 13, 'dropout': 0.21118152476157098, 'hidden_continuous_size': 10, 'attention_head_size': 1, 'learning_rate': 0.009549925860214359}. Best is trial 85 with value: 0.030839161947369576.\u001b[0m\n",
      "LOCAL_RANK: 0 - CUDA_VISIBLE_DEVICES: [0]\n"
     ]
    },
    {
     "data": {
      "application/vnd.jupyter.widget-view+json": {
       "model_id": "e97d3145959b4db9b9fb844615d17425",
       "version_major": 2,
       "version_minor": 0
      },
      "text/plain": [
       "Finding best initial lr:   0%|          | 0/100 [00:00<?, ?it/s]"
      ]
     },
     "metadata": {},
     "output_type": "display_data"
    },
    {
     "name": "stderr",
     "output_type": "stream",
     "text": [
      "Learning rate set to 0.0016595869074375606\n",
      "\u001b[32m[I 2023-04-30 17:26:09,662]\u001b[0m Using learning rate of 0.00166\u001b[0m\n",
      "LOCAL_RANK: 0 - CUDA_VISIBLE_DEVICES: [0]\n",
      "\u001b[32m[I 2023-04-30 17:26:43,382]\u001b[0m Trial 96 finished with value: 0.07467516511678696 and parameters: {'gradient_clip_val': 0.09257746573064203, 'hidden_size': 19, 'dropout': 0.18104850819064058, 'hidden_continuous_size': 12, 'attention_head_size': 1, 'learning_rate': 0.0016595869074375606}. Best is trial 85 with value: 0.030839161947369576.\u001b[0m\n",
      "LOCAL_RANK: 0 - CUDA_VISIBLE_DEVICES: [0]\n"
     ]
    },
    {
     "data": {
      "application/vnd.jupyter.widget-view+json": {
       "model_id": "fc3c42502c664ecbb487a023b7ad7ba8",
       "version_major": 2,
       "version_minor": 0
      },
      "text/plain": [
       "Finding best initial lr:   0%|          | 0/100 [00:00<?, ?it/s]"
      ]
     },
     "metadata": {},
     "output_type": "display_data"
    },
    {
     "name": "stderr",
     "output_type": "stream",
     "text": [
      "Learning rate set to 0.0016595869074375606\n",
      "\u001b[32m[I 2023-04-30 17:26:46,036]\u001b[0m Using learning rate of 0.00166\u001b[0m\n",
      "LOCAL_RANK: 0 - CUDA_VISIBLE_DEVICES: [0]\n",
      "\u001b[32m[I 2023-04-30 17:27:18,981]\u001b[0m Trial 97 finished with value: 0.05405164882540703 and parameters: {'gradient_clip_val': 0.07899793759847241, 'hidden_size': 12, 'dropout': 0.18882889630860739, 'hidden_continuous_size': 10, 'attention_head_size': 1, 'learning_rate': 0.0016595869074375606}. Best is trial 85 with value: 0.030839161947369576.\u001b[0m\n",
      "LOCAL_RANK: 0 - CUDA_VISIBLE_DEVICES: [0]\n"
     ]
    },
    {
     "data": {
      "application/vnd.jupyter.widget-view+json": {
       "model_id": "b7619305c1574a638ad2da88270dab41",
       "version_major": 2,
       "version_minor": 0
      },
      "text/plain": [
       "Finding best initial lr:   0%|          | 0/100 [00:00<?, ?it/s]"
      ]
     },
     "metadata": {},
     "output_type": "display_data"
    },
    {
     "name": "stderr",
     "output_type": "stream",
     "text": [
      "Learning rate set to 0.00208929613085404\n",
      "\u001b[32m[I 2023-04-30 17:27:21,688]\u001b[0m Using learning rate of 0.00229\u001b[0m\n",
      "LOCAL_RANK: 0 - CUDA_VISIBLE_DEVICES: [0]\n",
      "\u001b[32m[I 2023-04-30 17:27:56,065]\u001b[0m Trial 98 finished with value: 0.05928654968738556 and parameters: {'gradient_clip_val': 0.12249796712923877, 'hidden_size': 11, 'dropout': 0.16572950417861781, 'hidden_continuous_size': 10, 'attention_head_size': 2, 'learning_rate': 0.0022908676527677732}. Best is trial 85 with value: 0.030839161947369576.\u001b[0m\n",
      "LOCAL_RANK: 0 - CUDA_VISIBLE_DEVICES: [0]\n"
     ]
    },
    {
     "data": {
      "application/vnd.jupyter.widget-view+json": {
       "model_id": "9a649d19c5f444f1905684af9a8ae6f3",
       "version_major": 2,
       "version_minor": 0
      },
      "text/plain": [
       "Finding best initial lr:   0%|          | 0/100 [00:00<?, ?it/s]"
      ]
     },
     "metadata": {},
     "output_type": "display_data"
    },
    {
     "name": "stderr",
     "output_type": "stream",
     "text": [
      "Learning rate set to 0.0022908676527677732\n",
      "\u001b[32m[I 2023-04-30 17:27:58,724]\u001b[0m Using learning rate of 0.00229\u001b[0m\n",
      "LOCAL_RANK: 0 - CUDA_VISIBLE_DEVICES: [0]\n",
      "\u001b[32m[I 2023-04-30 17:28:32,352]\u001b[0m Trial 99 finished with value: 0.05588330328464508 and parameters: {'gradient_clip_val': 0.061488146831473446, 'hidden_size': 18, 'dropout': 0.20109500175724176, 'hidden_continuous_size': 11, 'attention_head_size': 1, 'learning_rate': 0.0022908676527677732}. Best is trial 85 with value: 0.030839161947369576.\u001b[0m\n"
     ]
    },
    {
     "name": "stdout",
     "output_type": "stream",
     "text": [
      "{'gradient_clip_val': 0.07722552005774576, 'hidden_size': 11, 'dropout': 0.2016589910911832, 'hidden_continuous_size': 9, 'attention_head_size': 1, 'learning_rate': 0.027542287033381664}\n"
     ]
    }
   ],
   "source": [
    "import pickle\n",
    "\n",
    "from pytorch_forecasting.models.temporal_fusion_transformer.tuning import optimize_hyperparameters\n",
    "\n",
    "# create study\n",
    "study = optimize_hyperparameters(\n",
    "    train_dataloader,\n",
    "    val_dataloader,\n",
    "    model_path=\"optuna_test\",\n",
    "    n_trials=100,\n",
    "    max_epochs=25,\n",
    "    timeout=10000,\n",
    "    gradient_clip_val_range=(0.01, 1.0),\n",
    "    hidden_size_range=(8, 128),\n",
    "    hidden_continuous_size_range=(8, 164),\n",
    "    attention_head_size_range=(1, 4),\n",
    "    learning_rate_range=(0.001, 0.1),\n",
    "    dropout_range=(0.1, 0.3),\n",
    "    trainer_kwargs=dict(limit_train_batches=50, limit_val_batches=50),\n",
    "    reduce_on_plateau_patience=4,\n",
    "    use_learning_rate_finder=True,  # use Optuna to find ideal learning rate or use in-built learning rate finder\n",
    ")\n",
    "\n",
    "# save study results - also we can resume tuning at a later point in time\n",
    "with open(\"test_study.pkl\", \"wb\") as fout:\n",
    "    pickle.dump(study, fout)\n",
    "\n",
    "# show best hyperparameters\n",
    "print(study.best_trial.params)"
   ]
  },
  {
   "cell_type": "code",
   "execution_count": 178,
   "id": "637e4fdd",
   "metadata": {},
   "outputs": [],
   "source": [
    "# load the best model according to the validation loss\n",
    "# (given that we use early stopping, this is not necessarily the last epoch)\n",
    "best_model_path = trainer.checkpoint_callback.best_model_path\n",
    "best_tft = TemporalFusionTransformer.load_from_checkpoint(best_model_path)"
   ]
  },
  {
   "cell_type": "code",
   "execution_count": 179,
   "id": "d6dd5801",
   "metadata": {},
   "outputs": [
    {
     "name": "stderr",
     "output_type": "stream",
     "text": [
      "LOCAL_RANK: 0 - CUDA_VISIBLE_DEVICES: [0]\n"
     ]
    },
    {
     "name": "stdout",
     "output_type": "stream",
     "text": [
      "RMSE: tensor(0.0909, device='cuda:0')\n",
      "MAE: tensor(0.0793, device='cuda:0')\n"
     ]
    }
   ],
   "source": [
    "# calcualte mean absolute error on validation set\n",
    "best_val_predictions = best_tft.predict(val_dataloader, trainer_kwargs=dict(accelerator=\"gpu\"))\n",
    "print('RMSE:', rmse(best_val_predictions, val_actuals))\n",
    "print('MAE:', mae(best_val_predictions, val_actuals))"
   ]
  },
  {
   "cell_type": "code",
   "execution_count": 181,
   "id": "a9d87c8b",
   "metadata": {},
   "outputs": [
    {
     "name": "stderr",
     "output_type": "stream",
     "text": [
      "LOCAL_RANK: 0 - CUDA_VISIBLE_DEVICES: [0]\n"
     ]
    },
    {
     "name": "stdout",
     "output_type": "stream",
     "text": [
      "RMSE: tensor(0.0909, device='cuda:0')\n",
      "MAE: tensor(0.0793, device='cuda:0')\n"
     ]
    }
   ],
   "source": [
    "# Test set\n",
    "best_test_predictions = best_tft.predict(test_dataloader, trainer_kwargs=dict(accelerator=\"gpu\"))\n",
    "print('RMSE:', rmse(best_test_predictions, test_actuals))\n",
    "print('MAE:', mae(best_test_predictions, test_actuals))"
   ]
  },
  {
   "cell_type": "markdown",
   "id": "fa9c5409",
   "metadata": {},
   "source": [
    "## Learning curves"
   ]
  },
  {
   "cell_type": "code",
   "execution_count": null,
   "id": "ba8cfd9a",
   "metadata": {},
   "outputs": [],
   "source": [
    "import matplotlib.pyplot as plt\n",
    "\n",
    "year = '2018'\n",
    "train_lc_path = f'./train_loss_{year}.csv'\n",
    "val_lc_path = f'./val_loss_{year}.csv'\n",
    "train_lc = pd.read_csv(train_lc_path).drop('Wall time', axis=1)\n",
    "val_lc = pd.read_csv(val_lc_path).drop('Wall time', axis=1)\n",
    "\n",
    "# merge dfs into one for easier export\n",
    "lc_df = train_lc.merge(val_lc, on='Step', suffixes=('_train', '_val'))\n",
    "lc_path = f'./learning_curves/learning_curves_{year}'\n",
    "lc_df.to_csv(f'.csv')\n",
    "\n",
    "plt.plot(lc_df['Step'].to_numpy(), lc_df['Value_train'].to_numpy(), label='Training')\n",
    "plt.plot(lc_df['Step'].to_numpy(), lc_df['Value_val'].to_numpy(), label='Validation')\n",
    "plt.xlabel('Epoch')\n",
    "plt.ylabel('Loss')\n",
    "plt.ylim(0,)\n",
    "plt.title('Train/Val Learning Curves')\n",
    "plt.legend()\n",
    "plt.show()\n",
    "plt.savefig(f'{lc_path}.png')"
   ]
  },
  {
   "cell_type": "code",
   "execution_count": null,
   "id": "82f3d3c0",
   "metadata": {},
   "outputs": [],
   "source": []
  }
 ],
 "metadata": {
  "kernelspec": {
   "display_name": "Python 3 (ipykernel)",
   "language": "python",
   "name": "python3"
  },
  "language_info": {
   "codemirror_mode": {
    "name": "ipython",
    "version": 3
   },
   "file_extension": ".py",
   "mimetype": "text/x-python",
   "name": "python",
   "nbconvert_exporter": "python",
   "pygments_lexer": "ipython3",
   "version": "3.10.11"
  }
 },
 "nbformat": 4,
 "nbformat_minor": 5
}
